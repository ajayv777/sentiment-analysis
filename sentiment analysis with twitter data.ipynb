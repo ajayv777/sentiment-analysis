{
 "cells": [
  {
   "cell_type": "markdown",
   "metadata": {},
   "source": [
    "# Sentiment Analysis with twitter data  \n",
    "This project entails analyzing the sentiment associated with tweets on the current pandemic of covid-19.  \n",
    "The data is obtained from twitter using a script I designed,you may have a look at it [here.](https://github.com/lyraxvincent/twitter-tweepy/blob/master/tweetscrap.py) (with a few modifications of the script of course)  \n",
    "I modified the script to fit the needs:\n",
    "- Tweets obtained are only from the country Kenya\n",
    "- Tweets obtained are only in the English language\n",
    "- No retweets obtained\n",
    "\n",
    "I used the powerful text processing python module **TextBlob** for this task."
   ]
  },
  {
   "cell_type": "markdown",
   "metadata": {},
   "source": [
    "**Import necessary modules**"
   ]
  },
  {
   "cell_type": "code",
   "execution_count": 68,
   "metadata": {},
   "outputs": [],
   "source": [
    "import pandas as pd\n",
    "from textblob import TextBlob"
   ]
  },
  {
   "cell_type": "markdown",
   "metadata": {},
   "source": [
    "Load the data"
   ]
  },
  {
   "cell_type": "code",
   "execution_count": 69,
   "metadata": {},
   "outputs": [],
   "source": [
    "tweets = pd.read_csv('covidKE tweets.csv')"
   ]
  },
  {
   "cell_type": "markdown",
   "metadata": {},
   "source": [
    "Viewing the data"
   ]
  },
  {
   "cell_type": "code",
   "execution_count": 70,
   "metadata": {
    "scrolled": true
   },
   "outputs": [
    {
     "data": {
      "text/html": [
       "<div>\n",
       "<style scoped>\n",
       "    .dataframe tbody tr th:only-of-type {\n",
       "        vertical-align: middle;\n",
       "    }\n",
       "\n",
       "    .dataframe tbody tr th {\n",
       "        vertical-align: top;\n",
       "    }\n",
       "\n",
       "    .dataframe thead th {\n",
       "        text-align: right;\n",
       "    }\n",
       "</style>\n",
       "<table border=\"1\" class=\"dataframe\">\n",
       "  <thead>\n",
       "    <tr style=\"text-align: right;\">\n",
       "      <th></th>\n",
       "      <th>tweet_id</th>\n",
       "      <th>text</th>\n",
       "      <th>created_at</th>\n",
       "      <th>likes</th>\n",
       "    </tr>\n",
       "  </thead>\n",
       "  <tbody>\n",
       "    <tr>\n",
       "      <th>0</th>\n",
       "      <td>1242123434466979841</td>\n",
       "      <td>Everyday might not be good but there's always ...</td>\n",
       "      <td>2020-03-23 16:17:58</td>\n",
       "      <td>1</td>\n",
       "    </tr>\n",
       "    <tr>\n",
       "      <th>1</th>\n",
       "      <td>1242123396684697603</td>\n",
       "      <td>The next one week 😷\\n\\n #coronaviruskenya</td>\n",
       "      <td>2020-03-23 16:17:49</td>\n",
       "      <td>0</td>\n",
       "    </tr>\n",
       "    <tr>\n",
       "      <th>2</th>\n",
       "      <td>1242123373188124673</td>\n",
       "      <td>#coronaviruskenya #LockdownNow #UhuruKenyatta ...</td>\n",
       "      <td>2020-03-23 16:17:44</td>\n",
       "      <td>0</td>\n",
       "    </tr>\n",
       "    <tr>\n",
       "      <th>3</th>\n",
       "      <td>1242086219519012867</td>\n",
       "      <td>Internet never forget we will remind you that ...</td>\n",
       "      <td>2020-03-23 13:50:06</td>\n",
       "      <td>0</td>\n",
       "    </tr>\n",
       "    <tr>\n",
       "      <th>4</th>\n",
       "      <td>1242123367882330113</td>\n",
       "      <td>@ntsa_kenya @DCI_Kenya #coronaviruskenya If on...</td>\n",
       "      <td>2020-03-23 16:17:43</td>\n",
       "      <td>0</td>\n",
       "    </tr>\n",
       "  </tbody>\n",
       "</table>\n",
       "</div>"
      ],
      "text/plain": [
       "              tweet_id                                               text  \\\n",
       "0  1242123434466979841  Everyday might not be good but there's always ...   \n",
       "1  1242123396684697603          The next one week 😷\\n\\n #coronaviruskenya   \n",
       "2  1242123373188124673  #coronaviruskenya #LockdownNow #UhuruKenyatta ...   \n",
       "3  1242086219519012867  Internet never forget we will remind you that ...   \n",
       "4  1242123367882330113  @ntsa_kenya @DCI_Kenya #coronaviruskenya If on...   \n",
       "\n",
       "            created_at  likes  \n",
       "0  2020-03-23 16:17:58      1  \n",
       "1  2020-03-23 16:17:49      0  \n",
       "2  2020-03-23 16:17:44      0  \n",
       "3  2020-03-23 13:50:06      0  \n",
       "4  2020-03-23 16:17:43      0  "
      ]
     },
     "execution_count": 70,
     "metadata": {},
     "output_type": "execute_result"
    }
   ],
   "source": [
    "tweets.head()"
   ]
  },
  {
   "cell_type": "code",
   "execution_count": 71,
   "metadata": {},
   "outputs": [
    {
     "name": "stdout",
     "output_type": "stream",
     "text": [
      "<class 'pandas.core.frame.DataFrame'>\n",
      "RangeIndex: 1190 entries, 0 to 1189\n",
      "Data columns (total 4 columns):\n",
      " #   Column      Non-Null Count  Dtype \n",
      "---  ------      --------------  ----- \n",
      " 0   tweet_id    1190 non-null   int64 \n",
      " 1   text        1190 non-null   object\n",
      " 2   created_at  1190 non-null   object\n",
      " 3   likes       1190 non-null   int64 \n",
      "dtypes: int64(2), object(2)\n",
      "memory usage: 37.3+ KB\n"
     ]
    }
   ],
   "source": [
    "tweets.info()"
   ]
  },
  {
   "cell_type": "markdown",
   "metadata": {},
   "source": [
    "## Text Preprocessing\n",
    "\n",
    "We remove any special characters, punctuations and stopwords from the tweets."
   ]
  },
  {
   "cell_type": "code",
   "execution_count": 72,
   "metadata": {},
   "outputs": [],
   "source": [
    "import string\n",
    "from nltk.corpus import stopwords"
   ]
  },
  {
   "cell_type": "markdown",
   "metadata": {},
   "source": [
    "Let's design a function for this task"
   ]
  },
  {
   "cell_type": "code",
   "execution_count": 73,
   "metadata": {},
   "outputs": [],
   "source": [
    "def text_process(text):\n",
    "    np = text.lower().split('#coronaviruskenya') # Remove the hashtag\n",
    "    np = ''.join(np)\n",
    "    np = [c for c in np if c not in string.punctuation]\n",
    "    np = [c for c in np if c != '\\n'] # Removing newline\n",
    "    np = ''.join(np)\n",
    "    np = np.split('https')[0] # Remove links\n",
    "    np = [word for word in np.split() if word not in stopwords.words('english')] # Remove stopwords\n",
    "    return ' '.join(np)"
   ]
  },
  {
   "cell_type": "code",
   "execution_count": 74,
   "metadata": {},
   "outputs": [],
   "source": [
    "# Apply function to the text column\n",
    "# We will overwrite the text column (after testing the function on a single tweet)\n",
    "\n",
    "tweets['text'] = tweets['text'].apply(text_process)"
   ]
  },
  {
   "cell_type": "code",
   "execution_count": 75,
   "metadata": {},
   "outputs": [
    {
     "data": {
      "text/html": [
       "<div>\n",
       "<style scoped>\n",
       "    .dataframe tbody tr th:only-of-type {\n",
       "        vertical-align: middle;\n",
       "    }\n",
       "\n",
       "    .dataframe tbody tr th {\n",
       "        vertical-align: top;\n",
       "    }\n",
       "\n",
       "    .dataframe thead th {\n",
       "        text-align: right;\n",
       "    }\n",
       "</style>\n",
       "<table border=\"1\" class=\"dataframe\">\n",
       "  <thead>\n",
       "    <tr style=\"text-align: right;\">\n",
       "      <th></th>\n",
       "      <th>tweet_id</th>\n",
       "      <th>text</th>\n",
       "      <th>created_at</th>\n",
       "      <th>likes</th>\n",
       "    </tr>\n",
       "  </thead>\n",
       "  <tbody>\n",
       "    <tr>\n",
       "      <th>0</th>\n",
       "      <td>1242123434466979841</td>\n",
       "      <td>everyday might good theres always something go...</td>\n",
       "      <td>2020-03-23 16:17:58</td>\n",
       "      <td>1</td>\n",
       "    </tr>\n",
       "    <tr>\n",
       "      <th>1</th>\n",
       "      <td>1242123396684697603</td>\n",
       "      <td>next one week 😷</td>\n",
       "      <td>2020-03-23 16:17:49</td>\n",
       "      <td>0</td>\n",
       "    </tr>\n",
       "    <tr>\n",
       "      <th>2</th>\n",
       "      <td>1242123373188124673</td>\n",
       "      <td>lockdownnow uhurukenyatta imagine people copin...</td>\n",
       "      <td>2020-03-23 16:17:44</td>\n",
       "      <td>0</td>\n",
       "    </tr>\n",
       "    <tr>\n",
       "      <th>3</th>\n",
       "      <td>1242086219519012867</td>\n",
       "      <td>internet never forget remind resorted internet...</td>\n",
       "      <td>2020-03-23 13:50:06</td>\n",
       "      <td>0</td>\n",
       "    </tr>\n",
       "    <tr>\n",
       "      <th>4</th>\n",
       "      <td>1242123367882330113</td>\n",
       "      <td>ntsakenya dcikenya theyll provide food outdoor...</td>\n",
       "      <td>2020-03-23 16:17:43</td>\n",
       "      <td>0</td>\n",
       "    </tr>\n",
       "  </tbody>\n",
       "</table>\n",
       "</div>"
      ],
      "text/plain": [
       "              tweet_id                                               text  \\\n",
       "0  1242123434466979841  everyday might good theres always something go...   \n",
       "1  1242123396684697603                                    next one week 😷   \n",
       "2  1242123373188124673  lockdownnow uhurukenyatta imagine people copin...   \n",
       "3  1242086219519012867  internet never forget remind resorted internet...   \n",
       "4  1242123367882330113  ntsakenya dcikenya theyll provide food outdoor...   \n",
       "\n",
       "            created_at  likes  \n",
       "0  2020-03-23 16:17:58      1  \n",
       "1  2020-03-23 16:17:49      0  \n",
       "2  2020-03-23 16:17:44      0  \n",
       "3  2020-03-23 13:50:06      0  \n",
       "4  2020-03-23 16:17:43      0  "
      ]
     },
     "execution_count": 75,
     "metadata": {},
     "output_type": "execute_result"
    }
   ],
   "source": [
    "tweets.head()"
   ]
  },
  {
   "cell_type": "markdown",
   "metadata": {},
   "source": [
    "## Sentiment Analysis"
   ]
  },
  {
   "cell_type": "markdown",
   "metadata": {},
   "source": [
    "An example to show how we get the sentiment score/polarity for a single tweet"
   ]
  },
  {
   "cell_type": "code",
   "execution_count": 76,
   "metadata": {},
   "outputs": [
    {
     "data": {
      "text/plain": [
       "Sentiment(polarity=0.39999999999999997, subjectivity=0.6000000000000001)"
      ]
     },
     "execution_count": 76,
     "metadata": {},
     "output_type": "execute_result"
    }
   ],
   "source": [
    "TextBlob(tweets.text[0]).sentiment"
   ]
  },
  {
   "cell_type": "code",
   "execution_count": 77,
   "metadata": {},
   "outputs": [
    {
     "data": {
      "text/plain": [
       "0.39999999999999997"
      ]
     },
     "execution_count": 77,
     "metadata": {},
     "output_type": "execute_result"
    }
   ],
   "source": [
    "TextBlob(tweets['text'][0]).sentiment.polarity"
   ]
  },
  {
   "cell_type": "markdown",
   "metadata": {},
   "source": [
    "Let's add a numerical column relating to text; text length "
   ]
  },
  {
   "cell_type": "code",
   "execution_count": 78,
   "metadata": {},
   "outputs": [],
   "source": [
    "tweets['text length'] = tweets['text'].apply(len)"
   ]
  },
  {
   "cell_type": "code",
   "execution_count": 79,
   "metadata": {},
   "outputs": [
    {
     "data": {
      "text/html": [
       "<div>\n",
       "<style scoped>\n",
       "    .dataframe tbody tr th:only-of-type {\n",
       "        vertical-align: middle;\n",
       "    }\n",
       "\n",
       "    .dataframe tbody tr th {\n",
       "        vertical-align: top;\n",
       "    }\n",
       "\n",
       "    .dataframe thead th {\n",
       "        text-align: right;\n",
       "    }\n",
       "</style>\n",
       "<table border=\"1\" class=\"dataframe\">\n",
       "  <thead>\n",
       "    <tr style=\"text-align: right;\">\n",
       "      <th></th>\n",
       "      <th>tweet_id</th>\n",
       "      <th>text</th>\n",
       "      <th>created_at</th>\n",
       "      <th>likes</th>\n",
       "      <th>text length</th>\n",
       "    </tr>\n",
       "  </thead>\n",
       "  <tbody>\n",
       "    <tr>\n",
       "      <th>0</th>\n",
       "      <td>1242123434466979841</td>\n",
       "      <td>everyday might good theres always something go...</td>\n",
       "      <td>2020-03-23 16:17:58</td>\n",
       "      <td>1</td>\n",
       "      <td>61</td>\n",
       "    </tr>\n",
       "    <tr>\n",
       "      <th>1</th>\n",
       "      <td>1242123396684697603</td>\n",
       "      <td>next one week 😷</td>\n",
       "      <td>2020-03-23 16:17:49</td>\n",
       "      <td>0</td>\n",
       "      <td>15</td>\n",
       "    </tr>\n",
       "    <tr>\n",
       "      <th>2</th>\n",
       "      <td>1242123373188124673</td>\n",
       "      <td>lockdownnow uhurukenyatta imagine people copin...</td>\n",
       "      <td>2020-03-23 16:17:44</td>\n",
       "      <td>0</td>\n",
       "      <td>72</td>\n",
       "    </tr>\n",
       "    <tr>\n",
       "      <th>3</th>\n",
       "      <td>1242086219519012867</td>\n",
       "      <td>internet never forget remind resorted internet...</td>\n",
       "      <td>2020-03-23 13:50:06</td>\n",
       "      <td>0</td>\n",
       "      <td>59</td>\n",
       "    </tr>\n",
       "    <tr>\n",
       "      <th>4</th>\n",
       "      <td>1242123367882330113</td>\n",
       "      <td>ntsakenya dcikenya theyll provide food outdoor...</td>\n",
       "      <td>2020-03-23 16:17:43</td>\n",
       "      <td>0</td>\n",
       "      <td>68</td>\n",
       "    </tr>\n",
       "  </tbody>\n",
       "</table>\n",
       "</div>"
      ],
      "text/plain": [
       "              tweet_id                                               text  \\\n",
       "0  1242123434466979841  everyday might good theres always something go...   \n",
       "1  1242123396684697603                                    next one week 😷   \n",
       "2  1242123373188124673  lockdownnow uhurukenyatta imagine people copin...   \n",
       "3  1242086219519012867  internet never forget remind resorted internet...   \n",
       "4  1242123367882330113  ntsakenya dcikenya theyll provide food outdoor...   \n",
       "\n",
       "            created_at  likes  text length  \n",
       "0  2020-03-23 16:17:58      1           61  \n",
       "1  2020-03-23 16:17:49      0           15  \n",
       "2  2020-03-23 16:17:44      0           72  \n",
       "3  2020-03-23 13:50:06      0           59  \n",
       "4  2020-03-23 16:17:43      0           68  "
      ]
     },
     "execution_count": 79,
     "metadata": {},
     "output_type": "execute_result"
    }
   ],
   "source": [
    "tweets.head()"
   ]
  },
  {
   "cell_type": "markdown",
   "metadata": {},
   "source": [
    "Now we design a function to apply to the text column to produce polarity for each tweet"
   ]
  },
  {
   "cell_type": "code",
   "execution_count": 80,
   "metadata": {},
   "outputs": [],
   "source": [
    "def get_polarity(text):\n",
    "    return TextBlob(text).sentiment.polarity"
   ]
  },
  {
   "cell_type": "markdown",
   "metadata": {},
   "source": [
    "We add a new column to the dataframe based off of tweet polarity"
   ]
  },
  {
   "cell_type": "code",
   "execution_count": 81,
   "metadata": {},
   "outputs": [],
   "source": [
    "tweets['polarity'] = tweets['text'].apply(get_polarity)"
   ]
  },
  {
   "cell_type": "code",
   "execution_count": 82,
   "metadata": {},
   "outputs": [],
   "source": [
    "# Short form using lambda\n",
    "\n",
    "#tweets['polarity'] = tweets['text'].apply(lambda text: TextBlob(text).sentiment.polarity)"
   ]
  },
  {
   "cell_type": "code",
   "execution_count": 83,
   "metadata": {},
   "outputs": [
    {
     "data": {
      "text/html": [
       "<div>\n",
       "<style scoped>\n",
       "    .dataframe tbody tr th:only-of-type {\n",
       "        vertical-align: middle;\n",
       "    }\n",
       "\n",
       "    .dataframe tbody tr th {\n",
       "        vertical-align: top;\n",
       "    }\n",
       "\n",
       "    .dataframe thead th {\n",
       "        text-align: right;\n",
       "    }\n",
       "</style>\n",
       "<table border=\"1\" class=\"dataframe\">\n",
       "  <thead>\n",
       "    <tr style=\"text-align: right;\">\n",
       "      <th></th>\n",
       "      <th>tweet_id</th>\n",
       "      <th>text</th>\n",
       "      <th>created_at</th>\n",
       "      <th>likes</th>\n",
       "      <th>text length</th>\n",
       "      <th>polarity</th>\n",
       "    </tr>\n",
       "  </thead>\n",
       "  <tbody>\n",
       "    <tr>\n",
       "      <th>1063</th>\n",
       "      <td>1242073856329818112</td>\n",
       "      <td>clear dont know selfquarantine put people lock...</td>\n",
       "      <td>2020-03-23 13:00:58</td>\n",
       "      <td>0</td>\n",
       "      <td>63</td>\n",
       "      <td>0.100000</td>\n",
       "    </tr>\n",
       "    <tr>\n",
       "      <th>738</th>\n",
       "      <td>1242092769323122690</td>\n",
       "      <td>hoping president would say something soothing ...</td>\n",
       "      <td>2020-03-23 14:16:07</td>\n",
       "      <td>1</td>\n",
       "      <td>84</td>\n",
       "      <td>0.000000</td>\n",
       "    </tr>\n",
       "    <tr>\n",
       "      <th>207</th>\n",
       "      <td>1242067803902849025</td>\n",
       "      <td>lets subscribe like share live streaming covid...</td>\n",
       "      <td>2020-03-23 12:36:55</td>\n",
       "      <td>0</td>\n",
       "      <td>92</td>\n",
       "      <td>0.136364</td>\n",
       "    </tr>\n",
       "    <tr>\n",
       "      <th>467</th>\n",
       "      <td>1242102232671117314</td>\n",
       "      <td>646 people interacted 8 patients tested positi...</td>\n",
       "      <td>2020-03-23 14:53:44</td>\n",
       "      <td>2</td>\n",
       "      <td>77</td>\n",
       "      <td>0.227273</td>\n",
       "    </tr>\n",
       "    <tr>\n",
       "      <th>34</th>\n",
       "      <td>1242122277963038720</td>\n",
       "      <td>kenya 🇰🇪 fighting covid19 ignorance consider i...</td>\n",
       "      <td>2020-03-23 16:13:23</td>\n",
       "      <td>0</td>\n",
       "      <td>63</td>\n",
       "      <td>0.000000</td>\n",
       "    </tr>\n",
       "    <tr>\n",
       "      <th>215</th>\n",
       "      <td>1242114259712163847</td>\n",
       "      <td>sautisol nice plan sato sorted halafu naskia k...</td>\n",
       "      <td>2020-03-23 15:41:31</td>\n",
       "      <td>0</td>\n",
       "      <td>105</td>\n",
       "      <td>0.300000</td>\n",
       "    </tr>\n",
       "    <tr>\n",
       "      <th>961</th>\n",
       "      <td>1242081188942053377</td>\n",
       "      <td>home remember sanitize set targets deliverfor ...</td>\n",
       "      <td>2020-03-23 13:30:06</td>\n",
       "      <td>0</td>\n",
       "      <td>66</td>\n",
       "      <td>0.000000</td>\n",
       "    </tr>\n",
       "    <tr>\n",
       "      <th>555</th>\n",
       "      <td>1242098916847468548</td>\n",
       "      <td>gone days boasting coming usa europe get plane...</td>\n",
       "      <td>2020-03-23 14:40:33</td>\n",
       "      <td>0</td>\n",
       "      <td>62</td>\n",
       "      <td>0.000000</td>\n",
       "    </tr>\n",
       "    <tr>\n",
       "      <th>925</th>\n",
       "      <td>1242083517313560577</td>\n",
       "      <td>hi swvlkenya also implemented 60 rulelet know ...</td>\n",
       "      <td>2020-03-23 13:39:21</td>\n",
       "      <td>1</td>\n",
       "      <td>62</td>\n",
       "      <td>0.000000</td>\n",
       "    </tr>\n",
       "    <tr>\n",
       "      <th>781</th>\n",
       "      <td>1242091129866199040</td>\n",
       "      <td>people dont know read visa stamps priest leave...</td>\n",
       "      <td>2020-03-23 14:09:36</td>\n",
       "      <td>0</td>\n",
       "      <td>78</td>\n",
       "      <td>0.400000</td>\n",
       "    </tr>\n",
       "    <tr>\n",
       "      <th>602</th>\n",
       "      <td>1242097410127642624</td>\n",
       "      <td>feel cs kagwe tell many kenyans dead covid19 p...</td>\n",
       "      <td>2020-03-23 14:34:34</td>\n",
       "      <td>0</td>\n",
       "      <td>74</td>\n",
       "      <td>0.012500</td>\n",
       "    </tr>\n",
       "    <tr>\n",
       "      <th>1133</th>\n",
       "      <td>1242067839462387713</td>\n",
       "      <td>president uhuru dress come tell hungry kenyans...</td>\n",
       "      <td>2020-03-23 12:37:04</td>\n",
       "      <td>1</td>\n",
       "      <td>65</td>\n",
       "      <td>0.000000</td>\n",
       "    </tr>\n",
       "    <tr>\n",
       "      <th>643</th>\n",
       "      <td>1242096304446111754</td>\n",
       "      <td>government kenya tracing 700 peopleits going w...</td>\n",
       "      <td>2020-03-23 14:30:10</td>\n",
       "      <td>1</td>\n",
       "      <td>61</td>\n",
       "      <td>0.100000</td>\n",
       "    </tr>\n",
       "    <tr>\n",
       "      <th>806</th>\n",
       "      <td>1242090232964669442</td>\n",
       "      <td>let get straight gok let country priest italy ...</td>\n",
       "      <td>2020-03-23 14:06:03</td>\n",
       "      <td>2</td>\n",
       "      <td>73</td>\n",
       "      <td>0.100000</td>\n",
       "    </tr>\n",
       "    <tr>\n",
       "      <th>80</th>\n",
       "      <td>1242120508600188928</td>\n",
       "      <td>matatu public transport owners urged scale far...</td>\n",
       "      <td>2020-03-23 16:06:21</td>\n",
       "      <td>0</td>\n",
       "      <td>73</td>\n",
       "      <td>0.000000</td>\n",
       "    </tr>\n",
       "    <tr>\n",
       "      <th>539</th>\n",
       "      <td>1242099544940253184</td>\n",
       "      <td>wondering kenyamy country like next 2 weeks</td>\n",
       "      <td>2020-03-23 14:43:03</td>\n",
       "      <td>0</td>\n",
       "      <td>43</td>\n",
       "      <td>0.000000</td>\n",
       "    </tr>\n",
       "    <tr>\n",
       "      <th>410</th>\n",
       "      <td>1242104561269198848</td>\n",
       "      <td>virus expose bubble live learn things 1 silico...</td>\n",
       "      <td>2020-03-23 15:02:59</td>\n",
       "      <td>2</td>\n",
       "      <td>56</td>\n",
       "      <td>0.136364</td>\n",
       "    </tr>\n",
       "    <tr>\n",
       "      <th>1173</th>\n",
       "      <td>1242064784163573760</td>\n",
       "      <td>dating sugar momma online – worth</td>\n",
       "      <td>2020-03-23 12:24:55</td>\n",
       "      <td>2</td>\n",
       "      <td>33</td>\n",
       "      <td>0.300000</td>\n",
       "    </tr>\n",
       "    <tr>\n",
       "      <th>211</th>\n",
       "      <td>1242098280445759489</td>\n",
       "      <td>mohkenya effective methylated spirit sanitizer...</td>\n",
       "      <td>2020-03-23 14:38:01</td>\n",
       "      <td>1</td>\n",
       "      <td>54</td>\n",
       "      <td>0.600000</td>\n",
       "    </tr>\n",
       "    <tr>\n",
       "      <th>479</th>\n",
       "      <td>1242101800645378048</td>\n",
       "      <td>extremely irresponsible behavior said priest k...</td>\n",
       "      <td>2020-03-23 14:52:01</td>\n",
       "      <td>0</td>\n",
       "      <td>83</td>\n",
       "      <td>-0.212500</td>\n",
       "    </tr>\n",
       "    <tr>\n",
       "      <th>780</th>\n",
       "      <td>1242091203547607043</td>\n",
       "      <td>kenyans please stop judging presidentuhurukeny...</td>\n",
       "      <td>2020-03-23 14:09:54</td>\n",
       "      <td>0</td>\n",
       "      <td>97</td>\n",
       "      <td>0.000000</td>\n",
       "    </tr>\n",
       "    <tr>\n",
       "      <th>381</th>\n",
       "      <td>1242105667353227268</td>\n",
       "      <td>patient 31 already lockdownnowsiaya</td>\n",
       "      <td>2020-03-23 15:07:22</td>\n",
       "      <td>2</td>\n",
       "      <td>35</td>\n",
       "      <td>0.000000</td>\n",
       "    </tr>\n",
       "    <tr>\n",
       "      <th>1108</th>\n",
       "      <td>1242070516007153667</td>\n",
       "      <td>prepared scared</td>\n",
       "      <td>2020-03-23 12:47:42</td>\n",
       "      <td>1</td>\n",
       "      <td>15</td>\n",
       "      <td>0.000000</td>\n",
       "    </tr>\n",
       "    <tr>\n",
       "      <th>342</th>\n",
       "      <td>1242107647878467584</td>\n",
       "      <td>“he cures disease may skillfullest prevents sa...</td>\n",
       "      <td>2020-03-23 15:15:15</td>\n",
       "      <td>0</td>\n",
       "      <td>76</td>\n",
       "      <td>0.000000</td>\n",
       "    </tr>\n",
       "    <tr>\n",
       "      <th>744</th>\n",
       "      <td>1242092434722631682</td>\n",
       "      <td>isaiah 2620 go people enter rooms shut doors b...</td>\n",
       "      <td>2020-03-23 14:14:48</td>\n",
       "      <td>1</td>\n",
       "      <td>68</td>\n",
       "      <td>-0.293750</td>\n",
       "    </tr>\n",
       "    <tr>\n",
       "      <th>238</th>\n",
       "      <td>1242112835888521221</td>\n",
       "      <td>kilifi deputy governor gideon saburi driver te...</td>\n",
       "      <td>2020-03-23 15:35:52</td>\n",
       "      <td>0</td>\n",
       "      <td>92</td>\n",
       "      <td>-0.136364</td>\n",
       "    </tr>\n",
       "    <tr>\n",
       "      <th>226</th>\n",
       "      <td>1242066804039655428</td>\n",
       "      <td>drink enough alcohol youwill sweat alcohol mak...</td>\n",
       "      <td>2020-03-23 12:32:57</td>\n",
       "      <td>0</td>\n",
       "      <td>59</td>\n",
       "      <td>0.000000</td>\n",
       "    </tr>\n",
       "    <tr>\n",
       "      <th>444</th>\n",
       "      <td>1242103130021560321</td>\n",
       "      <td>people get sick covid19 mild illness recover h...</td>\n",
       "      <td>2020-03-23 14:57:18</td>\n",
       "      <td>0</td>\n",
       "      <td>57</td>\n",
       "      <td>-0.190476</td>\n",
       "    </tr>\n",
       "    <tr>\n",
       "      <th>306</th>\n",
       "      <td>1242108884401229826</td>\n",
       "      <td>keequitybank kikuyu branch atm lobby hand sani...</td>\n",
       "      <td>2020-03-23 15:20:09</td>\n",
       "      <td>0</td>\n",
       "      <td>81</td>\n",
       "      <td>0.000000</td>\n",
       "    </tr>\n",
       "    <tr>\n",
       "      <th>406</th>\n",
       "      <td>1242104569741672450</td>\n",
       "      <td>7 8 5 work day highly overrated 9 people lose ...</td>\n",
       "      <td>2020-03-23 15:03:01</td>\n",
       "      <td>2</td>\n",
       "      <td>80</td>\n",
       "      <td>-0.146667</td>\n",
       "    </tr>\n",
       "  </tbody>\n",
       "</table>\n",
       "</div>"
      ],
      "text/plain": [
       "                 tweet_id                                               text  \\\n",
       "1063  1242073856329818112  clear dont know selfquarantine put people lock...   \n",
       "738   1242092769323122690  hoping president would say something soothing ...   \n",
       "207   1242067803902849025  lets subscribe like share live streaming covid...   \n",
       "467   1242102232671117314  646 people interacted 8 patients tested positi...   \n",
       "34    1242122277963038720  kenya 🇰🇪 fighting covid19 ignorance consider i...   \n",
       "215   1242114259712163847  sautisol nice plan sato sorted halafu naskia k...   \n",
       "961   1242081188942053377  home remember sanitize set targets deliverfor ...   \n",
       "555   1242098916847468548  gone days boasting coming usa europe get plane...   \n",
       "925   1242083517313560577  hi swvlkenya also implemented 60 rulelet know ...   \n",
       "781   1242091129866199040  people dont know read visa stamps priest leave...   \n",
       "602   1242097410127642624  feel cs kagwe tell many kenyans dead covid19 p...   \n",
       "1133  1242067839462387713  president uhuru dress come tell hungry kenyans...   \n",
       "643   1242096304446111754  government kenya tracing 700 peopleits going w...   \n",
       "806   1242090232964669442  let get straight gok let country priest italy ...   \n",
       "80    1242120508600188928  matatu public transport owners urged scale far...   \n",
       "539   1242099544940253184        wondering kenyamy country like next 2 weeks   \n",
       "410   1242104561269198848  virus expose bubble live learn things 1 silico...   \n",
       "1173  1242064784163573760                  dating sugar momma online – worth   \n",
       "211   1242098280445759489  mohkenya effective methylated spirit sanitizer...   \n",
       "479   1242101800645378048  extremely irresponsible behavior said priest k...   \n",
       "780   1242091203547607043  kenyans please stop judging presidentuhurukeny...   \n",
       "381   1242105667353227268                patient 31 already lockdownnowsiaya   \n",
       "1108  1242070516007153667                                    prepared scared   \n",
       "342   1242107647878467584  “he cures disease may skillfullest prevents sa...   \n",
       "744   1242092434722631682  isaiah 2620 go people enter rooms shut doors b...   \n",
       "238   1242112835888521221  kilifi deputy governor gideon saburi driver te...   \n",
       "226   1242066804039655428  drink enough alcohol youwill sweat alcohol mak...   \n",
       "444   1242103130021560321  people get sick covid19 mild illness recover h...   \n",
       "306   1242108884401229826  keequitybank kikuyu branch atm lobby hand sani...   \n",
       "406   1242104569741672450  7 8 5 work day highly overrated 9 people lose ...   \n",
       "\n",
       "               created_at  likes  text length  polarity  \n",
       "1063  2020-03-23 13:00:58      0           63  0.100000  \n",
       "738   2020-03-23 14:16:07      1           84  0.000000  \n",
       "207   2020-03-23 12:36:55      0           92  0.136364  \n",
       "467   2020-03-23 14:53:44      2           77  0.227273  \n",
       "34    2020-03-23 16:13:23      0           63  0.000000  \n",
       "215   2020-03-23 15:41:31      0          105  0.300000  \n",
       "961   2020-03-23 13:30:06      0           66  0.000000  \n",
       "555   2020-03-23 14:40:33      0           62  0.000000  \n",
       "925   2020-03-23 13:39:21      1           62  0.000000  \n",
       "781   2020-03-23 14:09:36      0           78  0.400000  \n",
       "602   2020-03-23 14:34:34      0           74  0.012500  \n",
       "1133  2020-03-23 12:37:04      1           65  0.000000  \n",
       "643   2020-03-23 14:30:10      1           61  0.100000  \n",
       "806   2020-03-23 14:06:03      2           73  0.100000  \n",
       "80    2020-03-23 16:06:21      0           73  0.000000  \n",
       "539   2020-03-23 14:43:03      0           43  0.000000  \n",
       "410   2020-03-23 15:02:59      2           56  0.136364  \n",
       "1173  2020-03-23 12:24:55      2           33  0.300000  \n",
       "211   2020-03-23 14:38:01      1           54  0.600000  \n",
       "479   2020-03-23 14:52:01      0           83 -0.212500  \n",
       "780   2020-03-23 14:09:54      0           97  0.000000  \n",
       "381   2020-03-23 15:07:22      2           35  0.000000  \n",
       "1108  2020-03-23 12:47:42      1           15  0.000000  \n",
       "342   2020-03-23 15:15:15      0           76  0.000000  \n",
       "744   2020-03-23 14:14:48      1           68 -0.293750  \n",
       "238   2020-03-23 15:35:52      0           92 -0.136364  \n",
       "226   2020-03-23 12:32:57      0           59  0.000000  \n",
       "444   2020-03-23 14:57:18      0           57 -0.190476  \n",
       "306   2020-03-23 15:20:09      0           81  0.000000  \n",
       "406   2020-03-23 15:03:01      2           80 -0.146667  "
      ]
     },
     "execution_count": 83,
     "metadata": {},
     "output_type": "execute_result"
    }
   ],
   "source": [
    "tweets.sample(30)"
   ]
  },
  {
   "cell_type": "markdown",
   "metadata": {},
   "source": [
    "Tweets with lowest polarity(-1)"
   ]
  },
  {
   "cell_type": "code",
   "execution_count": 84,
   "metadata": {},
   "outputs": [
    {
     "data": {
      "text/html": [
       "<div>\n",
       "<style scoped>\n",
       "    .dataframe tbody tr th:only-of-type {\n",
       "        vertical-align: middle;\n",
       "    }\n",
       "\n",
       "    .dataframe tbody tr th {\n",
       "        vertical-align: top;\n",
       "    }\n",
       "\n",
       "    .dataframe thead th {\n",
       "        text-align: right;\n",
       "    }\n",
       "</style>\n",
       "<table border=\"1\" class=\"dataframe\">\n",
       "  <thead>\n",
       "    <tr style=\"text-align: right;\">\n",
       "      <th></th>\n",
       "      <th>tweet_id</th>\n",
       "      <th>text</th>\n",
       "      <th>created_at</th>\n",
       "      <th>likes</th>\n",
       "      <th>text length</th>\n",
       "      <th>polarity</th>\n",
       "    </tr>\n",
       "  </thead>\n",
       "  <tbody>\n",
       "    <tr>\n",
       "      <th>357</th>\n",
       "      <td>1242106974927573000</td>\n",
       "      <td>safaricomplc apana tunataka zile za 200 mbs do...</td>\n",
       "      <td>2020-03-23 15:12:34</td>\n",
       "      <td>2</td>\n",
       "      <td>95</td>\n",
       "      <td>-1.0</td>\n",
       "    </tr>\n",
       "    <tr>\n",
       "      <th>645</th>\n",
       "      <td>1242096205234085894</td>\n",
       "      <td>worst thing mulikacorona father mother brother...</td>\n",
       "      <td>2020-03-23 14:29:47</td>\n",
       "      <td>1</td>\n",
       "      <td>69</td>\n",
       "      <td>-1.0</td>\n",
       "    </tr>\n",
       "    <tr>\n",
       "      <th>1009</th>\n",
       "      <td>1242077721976545280</td>\n",
       "      <td>kplccustomercare worst time cut lights covid19...</td>\n",
       "      <td>2020-03-23 13:16:20</td>\n",
       "      <td>0</td>\n",
       "      <td>72</td>\n",
       "      <td>-1.0</td>\n",
       "    </tr>\n",
       "  </tbody>\n",
       "</table>\n",
       "</div>"
      ],
      "text/plain": [
       "                 tweet_id                                               text  \\\n",
       "357   1242106974927573000  safaricomplc apana tunataka zile za 200 mbs do...   \n",
       "645   1242096205234085894  worst thing mulikacorona father mother brother...   \n",
       "1009  1242077721976545280  kplccustomercare worst time cut lights covid19...   \n",
       "\n",
       "               created_at  likes  text length  polarity  \n",
       "357   2020-03-23 15:12:34      2           95      -1.0  \n",
       "645   2020-03-23 14:29:47      1           69      -1.0  \n",
       "1009  2020-03-23 13:16:20      0           72      -1.0  "
      ]
     },
     "execution_count": 84,
     "metadata": {},
     "output_type": "execute_result"
    }
   ],
   "source": [
    "tweets[tweets['polarity'] == -1]"
   ]
  },
  {
   "cell_type": "markdown",
   "metadata": {},
   "source": [
    "Tweets with polarity 0"
   ]
  },
  {
   "cell_type": "code",
   "execution_count": 85,
   "metadata": {},
   "outputs": [
    {
     "data": {
      "text/html": [
       "<div>\n",
       "<style scoped>\n",
       "    .dataframe tbody tr th:only-of-type {\n",
       "        vertical-align: middle;\n",
       "    }\n",
       "\n",
       "    .dataframe tbody tr th {\n",
       "        vertical-align: top;\n",
       "    }\n",
       "\n",
       "    .dataframe thead th {\n",
       "        text-align: right;\n",
       "    }\n",
       "</style>\n",
       "<table border=\"1\" class=\"dataframe\">\n",
       "  <thead>\n",
       "    <tr style=\"text-align: right;\">\n",
       "      <th></th>\n",
       "      <th>tweet_id</th>\n",
       "      <th>text</th>\n",
       "      <th>created_at</th>\n",
       "      <th>likes</th>\n",
       "      <th>text length</th>\n",
       "      <th>polarity</th>\n",
       "    </tr>\n",
       "  </thead>\n",
       "  <tbody>\n",
       "    <tr>\n",
       "      <th>1</th>\n",
       "      <td>1242123396684697603</td>\n",
       "      <td>next one week 😷</td>\n",
       "      <td>2020-03-23 16:17:49</td>\n",
       "      <td>0</td>\n",
       "      <td>15</td>\n",
       "      <td>0.0</td>\n",
       "    </tr>\n",
       "    <tr>\n",
       "      <th>2</th>\n",
       "      <td>1242123373188124673</td>\n",
       "      <td>lockdownnow uhurukenyatta imagine people copin...</td>\n",
       "      <td>2020-03-23 16:17:44</td>\n",
       "      <td>0</td>\n",
       "      <td>72</td>\n",
       "      <td>0.0</td>\n",
       "    </tr>\n",
       "    <tr>\n",
       "      <th>3</th>\n",
       "      <td>1242086219519012867</td>\n",
       "      <td>internet never forget remind resorted internet...</td>\n",
       "      <td>2020-03-23 13:50:06</td>\n",
       "      <td>0</td>\n",
       "      <td>59</td>\n",
       "      <td>0.0</td>\n",
       "    </tr>\n",
       "    <tr>\n",
       "      <th>4</th>\n",
       "      <td>1242123367882330113</td>\n",
       "      <td>ntsakenya dcikenya theyll provide food outdoor...</td>\n",
       "      <td>2020-03-23 16:17:43</td>\n",
       "      <td>0</td>\n",
       "      <td>68</td>\n",
       "      <td>0.0</td>\n",
       "    </tr>\n",
       "    <tr>\n",
       "      <th>5</th>\n",
       "      <td>1242123307903844353</td>\n",
       "      <td>like hassanalijoho said total shutdown</td>\n",
       "      <td>2020-03-23 16:17:28</td>\n",
       "      <td>0</td>\n",
       "      <td>38</td>\n",
       "      <td>0.0</td>\n",
       "    </tr>\n",
       "    <tr>\n",
       "      <th>...</th>\n",
       "      <td>...</td>\n",
       "      <td>...</td>\n",
       "      <td>...</td>\n",
       "      <td>...</td>\n",
       "      <td>...</td>\n",
       "      <td>...</td>\n",
       "    </tr>\n",
       "    <tr>\n",
       "      <th>1181</th>\n",
       "      <td>1242064302816874502</td>\n",
       "      <td>itsjakusa georgew27191819 inequality kenya dif...</td>\n",
       "      <td>2020-03-23 12:23:00</td>\n",
       "      <td>0</td>\n",
       "      <td>77</td>\n",
       "      <td>0.0</td>\n",
       "    </tr>\n",
       "    <tr>\n",
       "      <th>1182</th>\n",
       "      <td>1242064212895174662</td>\n",
       "      <td>1 death zimbabwe 3 corona virus cases 😭</td>\n",
       "      <td>2020-03-23 12:22:39</td>\n",
       "      <td>4</td>\n",
       "      <td>39</td>\n",
       "      <td>0.0</td>\n",
       "    </tr>\n",
       "    <tr>\n",
       "      <th>1183</th>\n",
       "      <td>1242064211800477697</td>\n",
       "      <td>three kakamega county officials came back trip...</td>\n",
       "      <td>2020-03-23 12:22:39</td>\n",
       "      <td>2</td>\n",
       "      <td>84</td>\n",
       "      <td>0.0</td>\n",
       "    </tr>\n",
       "    <tr>\n",
       "      <th>1184</th>\n",
       "      <td>1242064200840744960</td>\n",
       "      <td>lets graceful enough observe protocol stay mat...</td>\n",
       "      <td>2020-03-23 12:22:36</td>\n",
       "      <td>2</td>\n",
       "      <td>75</td>\n",
       "      <td>0.0</td>\n",
       "    </tr>\n",
       "    <tr>\n",
       "      <th>1187</th>\n",
       "      <td>1242063970632163329</td>\n",
       "      <td>people lose trust institutions governing becom...</td>\n",
       "      <td>2020-03-23 12:21:41</td>\n",
       "      <td>1</td>\n",
       "      <td>72</td>\n",
       "      <td>0.0</td>\n",
       "    </tr>\n",
       "  </tbody>\n",
       "</table>\n",
       "<p>601 rows × 6 columns</p>\n",
       "</div>"
      ],
      "text/plain": [
       "                 tweet_id                                               text  \\\n",
       "1     1242123396684697603                                    next one week 😷   \n",
       "2     1242123373188124673  lockdownnow uhurukenyatta imagine people copin...   \n",
       "3     1242086219519012867  internet never forget remind resorted internet...   \n",
       "4     1242123367882330113  ntsakenya dcikenya theyll provide food outdoor...   \n",
       "5     1242123307903844353             like hassanalijoho said total shutdown   \n",
       "...                   ...                                                ...   \n",
       "1181  1242064302816874502  itsjakusa georgew27191819 inequality kenya dif...   \n",
       "1182  1242064212895174662            1 death zimbabwe 3 corona virus cases 😭   \n",
       "1183  1242064211800477697  three kakamega county officials came back trip...   \n",
       "1184  1242064200840744960  lets graceful enough observe protocol stay mat...   \n",
       "1187  1242063970632163329  people lose trust institutions governing becom...   \n",
       "\n",
       "               created_at  likes  text length  polarity  \n",
       "1     2020-03-23 16:17:49      0           15       0.0  \n",
       "2     2020-03-23 16:17:44      0           72       0.0  \n",
       "3     2020-03-23 13:50:06      0           59       0.0  \n",
       "4     2020-03-23 16:17:43      0           68       0.0  \n",
       "5     2020-03-23 16:17:28      0           38       0.0  \n",
       "...                   ...    ...          ...       ...  \n",
       "1181  2020-03-23 12:23:00      0           77       0.0  \n",
       "1182  2020-03-23 12:22:39      4           39       0.0  \n",
       "1183  2020-03-23 12:22:39      2           84       0.0  \n",
       "1184  2020-03-23 12:22:36      2           75       0.0  \n",
       "1187  2020-03-23 12:21:41      1           72       0.0  \n",
       "\n",
       "[601 rows x 6 columns]"
      ]
     },
     "execution_count": 85,
     "metadata": {},
     "output_type": "execute_result"
    }
   ],
   "source": [
    "tweets[tweets['polarity'] == 0]"
   ]
  },
  {
   "cell_type": "markdown",
   "metadata": {},
   "source": [
    "Tweets with highest polarity(1)"
   ]
  },
  {
   "cell_type": "code",
   "execution_count": 86,
   "metadata": {},
   "outputs": [
    {
     "data": {
      "text/html": [
       "<div>\n",
       "<style scoped>\n",
       "    .dataframe tbody tr th:only-of-type {\n",
       "        vertical-align: middle;\n",
       "    }\n",
       "\n",
       "    .dataframe tbody tr th {\n",
       "        vertical-align: top;\n",
       "    }\n",
       "\n",
       "    .dataframe thead th {\n",
       "        text-align: right;\n",
       "    }\n",
       "</style>\n",
       "<table border=\"1\" class=\"dataframe\">\n",
       "  <thead>\n",
       "    <tr style=\"text-align: right;\">\n",
       "      <th></th>\n",
       "      <th>tweet_id</th>\n",
       "      <th>text</th>\n",
       "      <th>created_at</th>\n",
       "      <th>likes</th>\n",
       "      <th>text length</th>\n",
       "      <th>polarity</th>\n",
       "    </tr>\n",
       "  </thead>\n",
       "  <tbody>\n",
       "    <tr>\n",
       "      <th>237</th>\n",
       "      <td>1242112888082481153</td>\n",
       "      <td>lets best version selves crisis tupendane</td>\n",
       "      <td>2020-03-23 15:36:04</td>\n",
       "      <td>0</td>\n",
       "      <td>41</td>\n",
       "      <td>1.0</td>\n",
       "    </tr>\n",
       "    <tr>\n",
       "      <th>1055</th>\n",
       "      <td>1242074830842793985</td>\n",
       "      <td>probably best thing youll read today click link</td>\n",
       "      <td>2020-03-23 13:04:50</td>\n",
       "      <td>1</td>\n",
       "      <td>47</td>\n",
       "      <td>1.0</td>\n",
       "    </tr>\n",
       "    <tr>\n",
       "      <th>1066</th>\n",
       "      <td>1242073657297551370</td>\n",
       "      <td>create best shoe impression minuel minuelfalet...</td>\n",
       "      <td>2020-03-23 13:00:11</td>\n",
       "      <td>0</td>\n",
       "      <td>94</td>\n",
       "      <td>1.0</td>\n",
       "    </tr>\n",
       "  </tbody>\n",
       "</table>\n",
       "</div>"
      ],
      "text/plain": [
       "                 tweet_id                                               text  \\\n",
       "237   1242112888082481153          lets best version selves crisis tupendane   \n",
       "1055  1242074830842793985    probably best thing youll read today click link   \n",
       "1066  1242073657297551370  create best shoe impression minuel minuelfalet...   \n",
       "\n",
       "               created_at  likes  text length  polarity  \n",
       "237   2020-03-23 15:36:04      0           41       1.0  \n",
       "1055  2020-03-23 13:04:50      1           47       1.0  \n",
       "1066  2020-03-23 13:00:11      0           94       1.0  "
      ]
     },
     "execution_count": 86,
     "metadata": {},
     "output_type": "execute_result"
    }
   ],
   "source": [
    "tweets[tweets['polarity'] == 1]"
   ]
  },
  {
   "cell_type": "code",
   "execution_count": 87,
   "metadata": {},
   "outputs": [],
   "source": [
    "# It is evident that almost half of the obtained tweets have polarity 0"
   ]
  },
  {
   "cell_type": "markdown",
   "metadata": {},
   "source": [
    "Tweets with negative polarity"
   ]
  },
  {
   "cell_type": "code",
   "execution_count": 88,
   "metadata": {},
   "outputs": [
    {
     "data": {
      "text/html": [
       "<div>\n",
       "<style scoped>\n",
       "    .dataframe tbody tr th:only-of-type {\n",
       "        vertical-align: middle;\n",
       "    }\n",
       "\n",
       "    .dataframe tbody tr th {\n",
       "        vertical-align: top;\n",
       "    }\n",
       "\n",
       "    .dataframe thead th {\n",
       "        text-align: right;\n",
       "    }\n",
       "</style>\n",
       "<table border=\"1\" class=\"dataframe\">\n",
       "  <thead>\n",
       "    <tr style=\"text-align: right;\">\n",
       "      <th></th>\n",
       "      <th>tweet_id</th>\n",
       "      <th>text</th>\n",
       "      <th>created_at</th>\n",
       "      <th>likes</th>\n",
       "      <th>text length</th>\n",
       "      <th>polarity</th>\n",
       "    </tr>\n",
       "  </thead>\n",
       "  <tbody>\n",
       "    <tr>\n",
       "      <th>10</th>\n",
       "      <td>1242099789694750720</td>\n",
       "      <td>need help mean ukipata corona nkama uko na aid...</td>\n",
       "      <td>2020-03-23 14:44:01</td>\n",
       "      <td>1</td>\n",
       "      <td>52</td>\n",
       "      <td>-0.3125</td>\n",
       "    </tr>\n",
       "    <tr>\n",
       "      <th>11</th>\n",
       "      <td>1242099788893564929</td>\n",
       "      <td>money pandemic difficult chose dying hunger you…</td>\n",
       "      <td>2020-03-23 14:44:01</td>\n",
       "      <td>0</td>\n",
       "      <td>48</td>\n",
       "      <td>-0.5000</td>\n",
       "    </tr>\n",
       "    <tr>\n",
       "      <th>26</th>\n",
       "      <td>1242085595842838529</td>\n",
       "      <td>unga revolution weve waiting may unravel hang ...</td>\n",
       "      <td>2020-03-23 13:47:37</td>\n",
       "      <td>0</td>\n",
       "      <td>65</td>\n",
       "      <td>-0.3000</td>\n",
       "    </tr>\n",
       "    <tr>\n",
       "      <th>27</th>\n",
       "      <td>1242122438814715904</td>\n",
       "      <td>time want see kenyans billionaires coming help...</td>\n",
       "      <td>2020-03-23 16:14:01</td>\n",
       "      <td>0</td>\n",
       "      <td>83</td>\n",
       "      <td>-0.4000</td>\n",
       "    </tr>\n",
       "    <tr>\n",
       "      <th>40</th>\n",
       "      <td>1242122030373318657</td>\n",
       "      <td>wanted knowwhat logic behind gap bathroom door...</td>\n",
       "      <td>2020-03-23 16:12:24</td>\n",
       "      <td>0</td>\n",
       "      <td>77</td>\n",
       "      <td>-0.4000</td>\n",
       "    </tr>\n",
       "    <tr>\n",
       "      <th>...</th>\n",
       "      <td>...</td>\n",
       "      <td>...</td>\n",
       "      <td>...</td>\n",
       "      <td>...</td>\n",
       "      <td>...</td>\n",
       "      <td>...</td>\n",
       "    </tr>\n",
       "    <tr>\n",
       "      <th>1172</th>\n",
       "      <td>1242064801540591621</td>\n",
       "      <td>citizentvkenya sad god bless us god heals us</td>\n",
       "      <td>2020-03-23 12:24:59</td>\n",
       "      <td>3</td>\n",
       "      <td>44</td>\n",
       "      <td>-0.5000</td>\n",
       "    </tr>\n",
       "    <tr>\n",
       "      <th>1174</th>\n",
       "      <td>1242064688533438464</td>\n",
       "      <td>startimeskenya poor services ways pandemic wat...</td>\n",
       "      <td>2020-03-23 12:24:32</td>\n",
       "      <td>2</td>\n",
       "      <td>61</td>\n",
       "      <td>-0.4000</td>\n",
       "    </tr>\n",
       "    <tr>\n",
       "      <th>1186</th>\n",
       "      <td>1242064012797530112</td>\n",
       "      <td>oleitumbi time put mandatory😓😓i hate what’s ha...</td>\n",
       "      <td>2020-03-23 12:21:51</td>\n",
       "      <td>1</td>\n",
       "      <td>95</td>\n",
       "      <td>-0.8000</td>\n",
       "    </tr>\n",
       "    <tr>\n",
       "      <th>1188</th>\n",
       "      <td>1242063856727396352</td>\n",
       "      <td>mwendwafelix cisnyakundi robertalai levels inc...</td>\n",
       "      <td>2020-03-23 12:21:14</td>\n",
       "      <td>2</td>\n",
       "      <td>87</td>\n",
       "      <td>-0.3500</td>\n",
       "    </tr>\n",
       "    <tr>\n",
       "      <th>1189</th>\n",
       "      <td>1242063643883307008</td>\n",
       "      <td>next corona virus strain even deadly see rippi...</td>\n",
       "      <td>2020-03-23 12:20:23</td>\n",
       "      <td>1</td>\n",
       "      <td>71</td>\n",
       "      <td>-0.1000</td>\n",
       "    </tr>\n",
       "  </tbody>\n",
       "</table>\n",
       "<p>204 rows × 6 columns</p>\n",
       "</div>"
      ],
      "text/plain": [
       "                 tweet_id                                               text  \\\n",
       "10    1242099789694750720  need help mean ukipata corona nkama uko na aid...   \n",
       "11    1242099788893564929   money pandemic difficult chose dying hunger you…   \n",
       "26    1242085595842838529  unga revolution weve waiting may unravel hang ...   \n",
       "27    1242122438814715904  time want see kenyans billionaires coming help...   \n",
       "40    1242122030373318657  wanted knowwhat logic behind gap bathroom door...   \n",
       "...                   ...                                                ...   \n",
       "1172  1242064801540591621       citizentvkenya sad god bless us god heals us   \n",
       "1174  1242064688533438464  startimeskenya poor services ways pandemic wat...   \n",
       "1186  1242064012797530112  oleitumbi time put mandatory😓😓i hate what’s ha...   \n",
       "1188  1242063856727396352  mwendwafelix cisnyakundi robertalai levels inc...   \n",
       "1189  1242063643883307008  next corona virus strain even deadly see rippi...   \n",
       "\n",
       "               created_at  likes  text length  polarity  \n",
       "10    2020-03-23 14:44:01      1           52   -0.3125  \n",
       "11    2020-03-23 14:44:01      0           48   -0.5000  \n",
       "26    2020-03-23 13:47:37      0           65   -0.3000  \n",
       "27    2020-03-23 16:14:01      0           83   -0.4000  \n",
       "40    2020-03-23 16:12:24      0           77   -0.4000  \n",
       "...                   ...    ...          ...       ...  \n",
       "1172  2020-03-23 12:24:59      3           44   -0.5000  \n",
       "1174  2020-03-23 12:24:32      2           61   -0.4000  \n",
       "1186  2020-03-23 12:21:51      1           95   -0.8000  \n",
       "1188  2020-03-23 12:21:14      2           87   -0.3500  \n",
       "1189  2020-03-23 12:20:23      1           71   -0.1000  \n",
       "\n",
       "[204 rows x 6 columns]"
      ]
     },
     "execution_count": 88,
     "metadata": {},
     "output_type": "execute_result"
    }
   ],
   "source": [
    "tweets[tweets['polarity'] < 0]"
   ]
  },
  {
   "cell_type": "markdown",
   "metadata": {},
   "source": [
    "Tweets with positive polarity"
   ]
  },
  {
   "cell_type": "code",
   "execution_count": 89,
   "metadata": {},
   "outputs": [
    {
     "data": {
      "text/html": [
       "<div>\n",
       "<style scoped>\n",
       "    .dataframe tbody tr th:only-of-type {\n",
       "        vertical-align: middle;\n",
       "    }\n",
       "\n",
       "    .dataframe tbody tr th {\n",
       "        vertical-align: top;\n",
       "    }\n",
       "\n",
       "    .dataframe thead th {\n",
       "        text-align: right;\n",
       "    }\n",
       "</style>\n",
       "<table border=\"1\" class=\"dataframe\">\n",
       "  <thead>\n",
       "    <tr style=\"text-align: right;\">\n",
       "      <th></th>\n",
       "      <th>tweet_id</th>\n",
       "      <th>text</th>\n",
       "      <th>created_at</th>\n",
       "      <th>likes</th>\n",
       "      <th>text length</th>\n",
       "      <th>polarity</th>\n",
       "    </tr>\n",
       "  </thead>\n",
       "  <tbody>\n",
       "    <tr>\n",
       "      <th>0</th>\n",
       "      <td>1242123434466979841</td>\n",
       "      <td>everyday might good theres always something go...</td>\n",
       "      <td>2020-03-23 16:17:58</td>\n",
       "      <td>1</td>\n",
       "      <td>61</td>\n",
       "      <td>0.400000</td>\n",
       "    </tr>\n",
       "    <tr>\n",
       "      <th>8</th>\n",
       "      <td>1242069774231887880</td>\n",
       "      <td>wish would much anticipated presidential addre...</td>\n",
       "      <td>2020-03-23 12:44:45</td>\n",
       "      <td>2</td>\n",
       "      <td>75</td>\n",
       "      <td>0.100000</td>\n",
       "    </tr>\n",
       "    <tr>\n",
       "      <th>13</th>\n",
       "      <td>1242116336739913728</td>\n",
       "      <td>taken since last friday buy gas seems differen...</td>\n",
       "      <td>2020-03-23 15:49:46</td>\n",
       "      <td>1</td>\n",
       "      <td>81</td>\n",
       "      <td>0.037500</td>\n",
       "    </tr>\n",
       "    <tr>\n",
       "      <th>16</th>\n",
       "      <td>1242122964608434181</td>\n",
       "      <td>togetherlets safe stop spread covid19 coronavi...</td>\n",
       "      <td>2020-03-23 16:16:06</td>\n",
       "      <td>1</td>\n",
       "      <td>50</td>\n",
       "      <td>0.500000</td>\n",
       "    </tr>\n",
       "    <tr>\n",
       "      <th>20</th>\n",
       "      <td>1242099340342067203</td>\n",
       "      <td>confirmed coronavirus cases kenya stands 16 on...</td>\n",
       "      <td>2020-03-23 14:42:14</td>\n",
       "      <td>5</td>\n",
       "      <td>86</td>\n",
       "      <td>0.400000</td>\n",
       "    </tr>\n",
       "    <tr>\n",
       "      <th>...</th>\n",
       "      <td>...</td>\n",
       "      <td>...</td>\n",
       "      <td>...</td>\n",
       "      <td>...</td>\n",
       "      <td>...</td>\n",
       "      <td>...</td>\n",
       "    </tr>\n",
       "    <tr>\n",
       "      <th>1168</th>\n",
       "      <td>1242064900278620160</td>\n",
       "      <td>😫😫😫here go againhow many retweets usitoe io ng...</td>\n",
       "      <td>2020-03-23 12:25:23</td>\n",
       "      <td>2</td>\n",
       "      <td>87</td>\n",
       "      <td>0.500000</td>\n",
       "    </tr>\n",
       "    <tr>\n",
       "      <th>1170</th>\n",
       "      <td>1242064847866662913</td>\n",
       "      <td>nahashon87 way uk taking risks win google ball...</td>\n",
       "      <td>2020-03-23 12:25:10</td>\n",
       "      <td>1</td>\n",
       "      <td>59</td>\n",
       "      <td>0.800000</td>\n",
       "    </tr>\n",
       "    <tr>\n",
       "      <th>1173</th>\n",
       "      <td>1242064784163573760</td>\n",
       "      <td>dating sugar momma online – worth</td>\n",
       "      <td>2020-03-23 12:24:55</td>\n",
       "      <td>2</td>\n",
       "      <td>33</td>\n",
       "      <td>0.300000</td>\n",
       "    </tr>\n",
       "    <tr>\n",
       "      <th>1176</th>\n",
       "      <td>1242064663577272321</td>\n",
       "      <td>advice young cubs looking sugar mummy online</td>\n",
       "      <td>2020-03-23 12:24:26</td>\n",
       "      <td>1</td>\n",
       "      <td>44</td>\n",
       "      <td>0.100000</td>\n",
       "    </tr>\n",
       "    <tr>\n",
       "      <th>1185</th>\n",
       "      <td>1242064075405905921</td>\n",
       "      <td>siaya emergency response team sent trace conta...</td>\n",
       "      <td>2020-03-23 12:22:06</td>\n",
       "      <td>4</td>\n",
       "      <td>99</td>\n",
       "      <td>0.113636</td>\n",
       "    </tr>\n",
       "  </tbody>\n",
       "</table>\n",
       "<p>385 rows × 6 columns</p>\n",
       "</div>"
      ],
      "text/plain": [
       "                 tweet_id                                               text  \\\n",
       "0     1242123434466979841  everyday might good theres always something go...   \n",
       "8     1242069774231887880  wish would much anticipated presidential addre...   \n",
       "13    1242116336739913728  taken since last friday buy gas seems differen...   \n",
       "16    1242122964608434181  togetherlets safe stop spread covid19 coronavi...   \n",
       "20    1242099340342067203  confirmed coronavirus cases kenya stands 16 on...   \n",
       "...                   ...                                                ...   \n",
       "1168  1242064900278620160  😫😫😫here go againhow many retweets usitoe io ng...   \n",
       "1170  1242064847866662913  nahashon87 way uk taking risks win google ball...   \n",
       "1173  1242064784163573760                  dating sugar momma online – worth   \n",
       "1176  1242064663577272321       advice young cubs looking sugar mummy online   \n",
       "1185  1242064075405905921  siaya emergency response team sent trace conta...   \n",
       "\n",
       "               created_at  likes  text length  polarity  \n",
       "0     2020-03-23 16:17:58      1           61  0.400000  \n",
       "8     2020-03-23 12:44:45      2           75  0.100000  \n",
       "13    2020-03-23 15:49:46      1           81  0.037500  \n",
       "16    2020-03-23 16:16:06      1           50  0.500000  \n",
       "20    2020-03-23 14:42:14      5           86  0.400000  \n",
       "...                   ...    ...          ...       ...  \n",
       "1168  2020-03-23 12:25:23      2           87  0.500000  \n",
       "1170  2020-03-23 12:25:10      1           59  0.800000  \n",
       "1173  2020-03-23 12:24:55      2           33  0.300000  \n",
       "1176  2020-03-23 12:24:26      1           44  0.100000  \n",
       "1185  2020-03-23 12:22:06      4           99  0.113636  \n",
       "\n",
       "[385 rows x 6 columns]"
      ]
     },
     "execution_count": 89,
     "metadata": {},
     "output_type": "execute_result"
    }
   ],
   "source": [
    "tweets[tweets['polarity'] > 0]"
   ]
  },
  {
   "cell_type": "markdown",
   "metadata": {},
   "source": [
    "## Some EDA"
   ]
  },
  {
   "cell_type": "code",
   "execution_count": 90,
   "metadata": {},
   "outputs": [],
   "source": [
    "import matplotlib.pyplot as plt\n",
    "%matplotlib inline\n",
    "\n",
    "import seaborn as sns\n",
    "sns.set_style('whitegrid')"
   ]
  },
  {
   "cell_type": "markdown",
   "metadata": {},
   "source": [
    "**Distribution of polarity**"
   ]
  },
  {
   "cell_type": "code",
   "execution_count": 91,
   "metadata": {},
   "outputs": [
    {
     "data": {
      "text/plain": [
       "<matplotlib.axes._subplots.AxesSubplot at 0x7f05f574bf50>"
      ]
     },
     "execution_count": 91,
     "metadata": {},
     "output_type": "execute_result"
    },
    {
     "data": {
      "image/png": "[encoded data removed]",
      "text/plain": [
       "<Figure size 432x288 with 1 Axes>"
      ]
     },
     "metadata": {},
     "output_type": "display_data"
    }
   ],
   "source": [
    "sns.distplot(tweets['polarity'], bins=50, kde=False)"
   ]
  },
  {
   "cell_type": "markdown",
   "metadata": {},
   "source": [
    "**Distribution of text length**"
   ]
  },
  {
   "cell_type": "code",
   "execution_count": 92,
   "metadata": {},
   "outputs": [
    {
     "data": {
      "text/plain": [
       "<matplotlib.axes._subplots.AxesSubplot at 0x7f05f55b4550>"
      ]
     },
     "execution_count": 92,
     "metadata": {},
     "output_type": "execute_result"
    },
    {
     "data": {
      "image/png": "[encoded data removed]",
      "text/plain": [
       "<Figure size 432x288 with 1 Axes>"
      ]
     },
     "metadata": {},
     "output_type": "display_data"
    }
   ],
   "source": [
    "sns.distplot(tweets['text length'], kde=False)"
   ]
  },
  {
   "cell_type": "markdown",
   "metadata": {},
   "source": [
    "A jointplot to show relation of text length and polarity"
   ]
  },
  {
   "cell_type": "code",
   "execution_count": 93,
   "metadata": {},
   "outputs": [
    {
     "data": {
      "text/plain": [
       "<seaborn.axisgrid.JointGrid at 0x7f05f678c150>"
      ]
     },
     "execution_count": 93,
     "metadata": {},
     "output_type": "execute_result"
    },
    {
     "data": {
      "image/png": "[encoded data removed]",
      "text/plain": [
       "<Figure size 432x432 with 3 Axes>"
      ]
     },
     "metadata": {},
     "output_type": "display_data"
    }
   ],
   "source": [
    "sns.jointplot(x='polarity', y='text length', data=tweets)"
   ]
  },
  {
   "cell_type": "markdown",
   "metadata": {},
   "source": [
    "Most lengthy(range from 60 to 100) tweets range polarity from -0.25 and 0.25 from the jointplot above  \n",
    "This is roughly around polarity 0, so we wouldn't be wrong to say that most lengthy tweets(in this range) have polarity of 0 or more appealing around polarity 0  \n",
    "Let's get the mean length of tweets with polarity 0 to see that indeed this length lies in this range(60 to 100)"
   ]
  },
  {
   "cell_type": "code",
   "execution_count": 94,
   "metadata": {},
   "outputs": [
    {
     "data": {
      "text/plain": [
       "65.73710482529118"
      ]
     },
     "execution_count": 94,
     "metadata": {},
     "output_type": "execute_result"
    }
   ],
   "source": [
    "tweets[tweets['polarity']==0]['text length'].mean()"
   ]
  },
  {
   "cell_type": "markdown",
   "metadata": {},
   "source": [
    "To further visualize this fact, let's create the same plot but of hexagonal and regressional nature"
   ]
  },
  {
   "cell_type": "code",
   "execution_count": 95,
   "metadata": {},
   "outputs": [
    {
     "data": {
      "text/plain": [
       "<seaborn.axisgrid.JointGrid at 0x7f05f52ea6d0>"
      ]
     },
     "execution_count": 95,
     "metadata": {},
     "output_type": "execute_result"
    },
    {
     "data": {
      "image/png": "[encoded data removed]",
      "text/plain": [
       "<Figure size 432x432 with 3 Axes>"
      ]
     },
     "metadata": {},
     "output_type": "display_data"
    }
   ],
   "source": [
    "sns.jointplot(x='polarity', y='text length', data=tweets, kind='hex')"
   ]
  },
  {
   "cell_type": "code",
   "execution_count": 96,
   "metadata": {},
   "outputs": [
    {
     "data": {
      "text/plain": [
       "<seaborn.axisgrid.JointGrid at 0x7f05f523f090>"
      ]
     },
     "execution_count": 96,
     "metadata": {},
     "output_type": "execute_result"
    },
    {
     "data": {
      "image/png": "[encoded data removed]",
      "text/plain": [
       "<Figure size 432x432 with 3 Axes>"
      ]
     },
     "metadata": {},
     "output_type": "display_data"
    }
   ],
   "source": [
    "sns.jointplot(x='polarity', y='text length', data=tweets, kind='reg')"
   ]
  },
  {
   "cell_type": "markdown",
   "metadata": {},
   "source": [
    "From this jointplot we can clearly see that the kde on the upper side of the plot shows some normal distribution around polarity 0  \n",
    "This justifies our above argument that most lengthy(our range of 'lengthy') tweets have polarity of 0 (or around 0)"
   ]
  },
  {
   "cell_type": "markdown",
   "metadata": {},
   "source": [
    "## Project conclusion\n",
    "\n",
    "Clearly, we have seen that like half of the tweets have polarity of around 0.  \n",
    "Does this mean that when a population is under such fear and anxiety of an epidemic, their messages express no negativity or positivity but are more neutral?"
   ]
  }
 ],
 "metadata": {
  "kernelspec": {
   "display_name": "Python 3",
   "language": "python",
   "name": "python3"
  },
  "language_info": {
   "codemirror_mode": {
    "name": "ipython",
    "version": 3
   },
   "file_extension": ".py",
   "mimetype": "text/x-python",
   "name": "python",
   "nbconvert_exporter": "python",
   "pygments_lexer": "ipython3",
   "version": "3.7.7"
  }
 },
 "nbformat": 4,
 "nbformat_minor": 4
}
