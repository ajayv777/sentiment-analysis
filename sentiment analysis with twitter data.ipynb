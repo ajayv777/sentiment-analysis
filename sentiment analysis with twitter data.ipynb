{
 "cells": [
  {
   "cell_type": "markdown",
   "metadata": {},
   "source": [
    "# Sentiment Analysis with twitter data  \n",
    "This project entails analyzing the sentiment associated with tweets on the current pandemic of covid-19.  \n",
    "The data is obtained from twitter using a script I designed,you may have a look at it [here.](https://github.com/lyraxvincent/twitter-tweepy/blob/master/tweetscrap.py) (with a few modifications of the script of course)  \n",
    "I modified the script to fit the needs:\n",
    "- Tweets obtained are only from the country Kenya\n",
    "- Tweets obtained are only in the English language\n",
    "- No retweets obtained\n",
    "\n",
    "I used the powerful text processing python module **TextBlob** for this task."
   ]
  },
  {
   "cell_type": "markdown",
   "metadata": {},
   "source": [
    "**Import necessary modules**"
   ]
  },
  {
   "cell_type": "code",
   "execution_count": 56,
   "metadata": {},
   "outputs": [],
   "source": [
    "import pandas as pd\n",
    "from textblob import TextBlob"
   ]
  },
  {
   "cell_type": "markdown",
   "metadata": {},
   "source": [
    "Load the data"
   ]
  },
  {
   "cell_type": "code",
   "execution_count": 57,
   "metadata": {},
   "outputs": [],
   "source": [
    "tweets = pd.read_csv('covidKE tweets.csv')"
   ]
  },
  {
   "cell_type": "markdown",
   "metadata": {},
   "source": [
    "Viewing the data"
   ]
  },
  {
   "cell_type": "code",
   "execution_count": 58,
   "metadata": {
    "scrolled": true
   },
   "outputs": [
    {
     "data": {
      "text/html": [
       "<div>\n",
       "<style scoped>\n",
       "    .dataframe tbody tr th:only-of-type {\n",
       "        vertical-align: middle;\n",
       "    }\n",
       "\n",
       "    .dataframe tbody tr th {\n",
       "        vertical-align: top;\n",
       "    }\n",
       "\n",
       "    .dataframe thead th {\n",
       "        text-align: right;\n",
       "    }\n",
       "</style>\n",
       "<table border=\"1\" class=\"dataframe\">\n",
       "  <thead>\n",
       "    <tr style=\"text-align: right;\">\n",
       "      <th></th>\n",
       "      <th>tweet_id</th>\n",
       "      <th>text</th>\n",
       "      <th>created_at</th>\n",
       "      <th>likes</th>\n",
       "    </tr>\n",
       "  </thead>\n",
       "  <tbody>\n",
       "    <tr>\n",
       "      <th>0</th>\n",
       "      <td>1242123434466979841</td>\n",
       "      <td>Everyday might not be good but there's always ...</td>\n",
       "      <td>2020-03-23 16:17:58</td>\n",
       "      <td>1</td>\n",
       "    </tr>\n",
       "    <tr>\n",
       "      <th>1</th>\n",
       "      <td>1242123396684697603</td>\n",
       "      <td>The next one week 😷\\n\\n #coronaviruskenya</td>\n",
       "      <td>2020-03-23 16:17:49</td>\n",
       "      <td>0</td>\n",
       "    </tr>\n",
       "    <tr>\n",
       "      <th>2</th>\n",
       "      <td>1242123373188124673</td>\n",
       "      <td>#coronaviruskenya #LockdownNow #UhuruKenyatta ...</td>\n",
       "      <td>2020-03-23 16:17:44</td>\n",
       "      <td>0</td>\n",
       "    </tr>\n",
       "    <tr>\n",
       "      <th>3</th>\n",
       "      <td>1242086219519012867</td>\n",
       "      <td>Internet never forget we will remind you that ...</td>\n",
       "      <td>2020-03-23 13:50:06</td>\n",
       "      <td>0</td>\n",
       "    </tr>\n",
       "    <tr>\n",
       "      <th>4</th>\n",
       "      <td>1242123367882330113</td>\n",
       "      <td>@ntsa_kenya @DCI_Kenya #coronaviruskenya If on...</td>\n",
       "      <td>2020-03-23 16:17:43</td>\n",
       "      <td>0</td>\n",
       "    </tr>\n",
       "  </tbody>\n",
       "</table>\n",
       "</div>"
      ],
      "text/plain": [
       "              tweet_id                                               text  \\\n",
       "0  1242123434466979841  Everyday might not be good but there's always ...   \n",
       "1  1242123396684697603          The next one week 😷\\n\\n #coronaviruskenya   \n",
       "2  1242123373188124673  #coronaviruskenya #LockdownNow #UhuruKenyatta ...   \n",
       "3  1242086219519012867  Internet never forget we will remind you that ...   \n",
       "4  1242123367882330113  @ntsa_kenya @DCI_Kenya #coronaviruskenya If on...   \n",
       "\n",
       "            created_at  likes  \n",
       "0  2020-03-23 16:17:58      1  \n",
       "1  2020-03-23 16:17:49      0  \n",
       "2  2020-03-23 16:17:44      0  \n",
       "3  2020-03-23 13:50:06      0  \n",
       "4  2020-03-23 16:17:43      0  "
      ]
     },
     "execution_count": 58,
     "metadata": {},
     "output_type": "execute_result"
    }
   ],
   "source": [
    "tweets.head()"
   ]
  },
  {
   "cell_type": "code",
   "execution_count": 59,
   "metadata": {},
   "outputs": [
    {
     "name": "stdout",
     "output_type": "stream",
     "text": [
      "<class 'pandas.core.frame.DataFrame'>\n",
      "RangeIndex: 1190 entries, 0 to 1189\n",
      "Data columns (total 4 columns):\n",
      " #   Column      Non-Null Count  Dtype \n",
      "---  ------      --------------  ----- \n",
      " 0   tweet_id    1190 non-null   int64 \n",
      " 1   text        1190 non-null   object\n",
      " 2   created_at  1190 non-null   object\n",
      " 3   likes       1190 non-null   int64 \n",
      "dtypes: int64(2), object(2)\n",
      "memory usage: 37.3+ KB\n"
     ]
    }
   ],
   "source": [
    "tweets.info()"
   ]
  },
  {
   "cell_type": "markdown",
   "metadata": {},
   "source": [
    "An example to show how we get the sentiment score/polarity for a single tweet"
   ]
  },
  {
   "cell_type": "code",
   "execution_count": 60,
   "metadata": {},
   "outputs": [
    {
     "data": {
      "text/plain": [
       "Sentiment(polarity=0.39999999999999997, subjectivity=0.6000000000000001)"
      ]
     },
     "execution_count": 60,
     "metadata": {},
     "output_type": "execute_result"
    }
   ],
   "source": [
    "TextBlob(tweets.text[0]).sentiment"
   ]
  },
  {
   "cell_type": "code",
   "execution_count": 61,
   "metadata": {},
   "outputs": [
    {
     "data": {
      "text/plain": [
       "0.39999999999999997"
      ]
     },
     "execution_count": 61,
     "metadata": {},
     "output_type": "execute_result"
    }
   ],
   "source": [
    "TextBlob(tweets['text'][0]).sentiment.polarity"
   ]
  },
  {
   "cell_type": "markdown",
   "metadata": {},
   "source": [
    "Let's add a numerical column relating to text; text length "
   ]
  },
  {
   "cell_type": "code",
   "execution_count": 62,
   "metadata": {},
   "outputs": [],
   "source": [
    "tweets['text length'] = tweets['text'].apply(len)"
   ]
  },
  {
   "cell_type": "code",
   "execution_count": 63,
   "metadata": {},
   "outputs": [
    {
     "data": {
      "text/html": [
       "<div>\n",
       "<style scoped>\n",
       "    .dataframe tbody tr th:only-of-type {\n",
       "        vertical-align: middle;\n",
       "    }\n",
       "\n",
       "    .dataframe tbody tr th {\n",
       "        vertical-align: top;\n",
       "    }\n",
       "\n",
       "    .dataframe thead th {\n",
       "        text-align: right;\n",
       "    }\n",
       "</style>\n",
       "<table border=\"1\" class=\"dataframe\">\n",
       "  <thead>\n",
       "    <tr style=\"text-align: right;\">\n",
       "      <th></th>\n",
       "      <th>tweet_id</th>\n",
       "      <th>text</th>\n",
       "      <th>created_at</th>\n",
       "      <th>likes</th>\n",
       "      <th>text length</th>\n",
       "    </tr>\n",
       "  </thead>\n",
       "  <tbody>\n",
       "    <tr>\n",
       "      <th>0</th>\n",
       "      <td>1242123434466979841</td>\n",
       "      <td>Everyday might not be good but there's always ...</td>\n",
       "      <td>2020-03-23 16:17:58</td>\n",
       "      <td>1</td>\n",
       "      <td>126</td>\n",
       "    </tr>\n",
       "    <tr>\n",
       "      <th>1</th>\n",
       "      <td>1242123396684697603</td>\n",
       "      <td>The next one week 😷\\n\\n #coronaviruskenya</td>\n",
       "      <td>2020-03-23 16:17:49</td>\n",
       "      <td>0</td>\n",
       "      <td>39</td>\n",
       "    </tr>\n",
       "    <tr>\n",
       "      <th>2</th>\n",
       "      <td>1242123373188124673</td>\n",
       "      <td>#coronaviruskenya #LockdownNow #UhuruKenyatta ...</td>\n",
       "      <td>2020-03-23 16:17:44</td>\n",
       "      <td>0</td>\n",
       "      <td>140</td>\n",
       "    </tr>\n",
       "    <tr>\n",
       "      <th>3</th>\n",
       "      <td>1242086219519012867</td>\n",
       "      <td>Internet never forget we will remind you that ...</td>\n",
       "      <td>2020-03-23 13:50:06</td>\n",
       "      <td>0</td>\n",
       "      <td>104</td>\n",
       "    </tr>\n",
       "    <tr>\n",
       "      <th>4</th>\n",
       "      <td>1242123367882330113</td>\n",
       "      <td>@ntsa_kenya @DCI_Kenya #coronaviruskenya If on...</td>\n",
       "      <td>2020-03-23 16:17:43</td>\n",
       "      <td>0</td>\n",
       "      <td>131</td>\n",
       "    </tr>\n",
       "  </tbody>\n",
       "</table>\n",
       "</div>"
      ],
      "text/plain": [
       "              tweet_id                                               text  \\\n",
       "0  1242123434466979841  Everyday might not be good but there's always ...   \n",
       "1  1242123396684697603          The next one week 😷\\n\\n #coronaviruskenya   \n",
       "2  1242123373188124673  #coronaviruskenya #LockdownNow #UhuruKenyatta ...   \n",
       "3  1242086219519012867  Internet never forget we will remind you that ...   \n",
       "4  1242123367882330113  @ntsa_kenya @DCI_Kenya #coronaviruskenya If on...   \n",
       "\n",
       "            created_at  likes  text length  \n",
       "0  2020-03-23 16:17:58      1          126  \n",
       "1  2020-03-23 16:17:49      0           39  \n",
       "2  2020-03-23 16:17:44      0          140  \n",
       "3  2020-03-23 13:50:06      0          104  \n",
       "4  2020-03-23 16:17:43      0          131  "
      ]
     },
     "execution_count": 63,
     "metadata": {},
     "output_type": "execute_result"
    }
   ],
   "source": [
    "tweets.head()"
   ]
  },
  {
   "cell_type": "markdown",
   "metadata": {},
   "source": [
    "Now we design a function to apply to the text column to produce polarity for each tweet"
   ]
  },
  {
   "cell_type": "code",
   "execution_count": 64,
   "metadata": {},
   "outputs": [],
   "source": [
    "def get_polarity(text):\n",
    "    return TextBlob(text).sentiment.polarity"
   ]
  },
  {
   "cell_type": "markdown",
   "metadata": {},
   "source": [
    "We add a new column to the dataframe based off of tweet polarity"
   ]
  },
  {
   "cell_type": "code",
   "execution_count": 65,
   "metadata": {},
   "outputs": [],
   "source": [
    "tweets['polarity'] = tweets['text'].apply(get_polarity)"
   ]
  },
  {
   "cell_type": "code",
   "execution_count": 66,
   "metadata": {},
   "outputs": [],
   "source": [
    "# Short form using lambda\n",
    "\n",
    "#tweets['polarity'] = tweets['text'].apply(lambda text: TextBlob(text).sentiment.polarity)"
   ]
  },
  {
   "cell_type": "code",
   "execution_count": 67,
   "metadata": {},
   "outputs": [
    {
     "data": {
      "text/html": [
       "<div>\n",
       "<style scoped>\n",
       "    .dataframe tbody tr th:only-of-type {\n",
       "        vertical-align: middle;\n",
       "    }\n",
       "\n",
       "    .dataframe tbody tr th {\n",
       "        vertical-align: top;\n",
       "    }\n",
       "\n",
       "    .dataframe thead th {\n",
       "        text-align: right;\n",
       "    }\n",
       "</style>\n",
       "<table border=\"1\" class=\"dataframe\">\n",
       "  <thead>\n",
       "    <tr style=\"text-align: right;\">\n",
       "      <th></th>\n",
       "      <th>tweet_id</th>\n",
       "      <th>text</th>\n",
       "      <th>created_at</th>\n",
       "      <th>likes</th>\n",
       "      <th>text length</th>\n",
       "      <th>polarity</th>\n",
       "    </tr>\n",
       "  </thead>\n",
       "  <tbody>\n",
       "    <tr>\n",
       "      <th>969</th>\n",
       "      <td>1242080246758879246</td>\n",
       "      <td>There's so much that we can learn from #corona...</td>\n",
       "      <td>2020-03-23 13:26:22</td>\n",
       "      <td>0</td>\n",
       "      <td>140</td>\n",
       "      <td>0.200000</td>\n",
       "    </tr>\n",
       "    <tr>\n",
       "      <th>112</th>\n",
       "      <td>1242119325349285889</td>\n",
       "      <td>The government should give us names of #corona...</td>\n",
       "      <td>2020-03-23 16:01:39</td>\n",
       "      <td>0</td>\n",
       "      <td>80</td>\n",
       "      <td>0.000000</td>\n",
       "    </tr>\n",
       "    <tr>\n",
       "      <th>123</th>\n",
       "      <td>1242112296496791557</td>\n",
       "      <td>I have realized most civil servants are saying...</td>\n",
       "      <td>2020-03-23 15:33:43</td>\n",
       "      <td>0</td>\n",
       "      <td>140</td>\n",
       "      <td>0.500000</td>\n",
       "    </tr>\n",
       "    <tr>\n",
       "      <th>452</th>\n",
       "      <td>1242102922281766912</td>\n",
       "      <td>1. Covid-19 Arrived From Space\\nKicking off th...</td>\n",
       "      <td>2020-03-23 14:56:28</td>\n",
       "      <td>0</td>\n",
       "      <td>133</td>\n",
       "      <td>0.166667</td>\n",
       "    </tr>\n",
       "    <tr>\n",
       "      <th>976</th>\n",
       "      <td>1242079827290738688</td>\n",
       "      <td>#coronaviruskenya has come as a cash cow for s...</td>\n",
       "      <td>2020-03-23 13:24:42</td>\n",
       "      <td>0</td>\n",
       "      <td>140</td>\n",
       "      <td>0.183333</td>\n",
       "    </tr>\n",
       "    <tr>\n",
       "      <th>369</th>\n",
       "      <td>1242077487011676163</td>\n",
       "      <td>#FeaturingApocalypse\\nLet us go back to the LO...</td>\n",
       "      <td>2020-03-23 13:15:24</td>\n",
       "      <td>0</td>\n",
       "      <td>87</td>\n",
       "      <td>0.000000</td>\n",
       "    </tr>\n",
       "    <tr>\n",
       "      <th>194</th>\n",
       "      <td>1242084889685614592</td>\n",
       "      <td>Sabina joy closed for the first time since 197...</td>\n",
       "      <td>2020-03-23 13:44:49</td>\n",
       "      <td>2</td>\n",
       "      <td>80</td>\n",
       "      <td>0.316667</td>\n",
       "    </tr>\n",
       "    <tr>\n",
       "      <th>579</th>\n",
       "      <td>1242098133062029325</td>\n",
       "      <td>CS Mutahi Kagwe is not being realistic telling...</td>\n",
       "      <td>2020-03-23 14:37:26</td>\n",
       "      <td>2</td>\n",
       "      <td>140</td>\n",
       "      <td>0.000000</td>\n",
       "    </tr>\n",
       "    <tr>\n",
       "      <th>581</th>\n",
       "      <td>1242067277010386951</td>\n",
       "      <td>Young men, especially between 21 and 33.... #D...</td>\n",
       "      <td>2020-03-23 12:34:49</td>\n",
       "      <td>0</td>\n",
       "      <td>140</td>\n",
       "      <td>0.033333</td>\n",
       "    </tr>\n",
       "    <tr>\n",
       "      <th>437</th>\n",
       "      <td>1242074174002286593</td>\n",
       "      <td>#coronaviruskenya\\nNOW KENYANS YOU HAVE FREEDO...</td>\n",
       "      <td>2020-03-23 13:02:14</td>\n",
       "      <td>2</td>\n",
       "      <td>126</td>\n",
       "      <td>0.000000</td>\n",
       "    </tr>\n",
       "    <tr>\n",
       "      <th>649</th>\n",
       "      <td>1242096137017995270</td>\n",
       "      <td>One more #Covid_19 case confirmed in Kenya. We...</td>\n",
       "      <td>2020-03-23 14:29:30</td>\n",
       "      <td>1</td>\n",
       "      <td>96</td>\n",
       "      <td>0.450000</td>\n",
       "    </tr>\n",
       "    <tr>\n",
       "      <th>274</th>\n",
       "      <td>1242110875034619906</td>\n",
       "      <td>E-Reporters: See How Ghanaian Armed Forces for...</td>\n",
       "      <td>2020-03-23 15:28:04</td>\n",
       "      <td>0</td>\n",
       "      <td>139</td>\n",
       "      <td>0.000000</td>\n",
       "    </tr>\n",
       "    <tr>\n",
       "      <th>715</th>\n",
       "      <td>1242094037911441410</td>\n",
       "      <td>Kenyans have prayed for an end to corruption f...</td>\n",
       "      <td>2020-03-23 14:21:10</td>\n",
       "      <td>0</td>\n",
       "      <td>134</td>\n",
       "      <td>0.000000</td>\n",
       "    </tr>\n",
       "    <tr>\n",
       "      <th>745</th>\n",
       "      <td>1242092429576146946</td>\n",
       "      <td>Kenyatta National Hospital anticipates a total...</td>\n",
       "      <td>2020-03-23 14:14:46</td>\n",
       "      <td>1</td>\n",
       "      <td>140</td>\n",
       "      <td>-0.077778</td>\n",
       "    </tr>\n",
       "    <tr>\n",
       "      <th>532</th>\n",
       "      <td>1242100048021905409</td>\n",
       "      <td>@StandardKenya Wakenya! The tweet say's analys...</td>\n",
       "      <td>2020-03-23 14:45:03</td>\n",
       "      <td>0</td>\n",
       "      <td>108</td>\n",
       "      <td>0.000000</td>\n",
       "    </tr>\n",
       "    <tr>\n",
       "      <th>1151</th>\n",
       "      <td>1242066241088520194</td>\n",
       "      <td>Na si watu wanakula perdiems. Almost all count...</td>\n",
       "      <td>2020-03-23 12:30:43</td>\n",
       "      <td>1</td>\n",
       "      <td>140</td>\n",
       "      <td>0.000000</td>\n",
       "    </tr>\n",
       "    <tr>\n",
       "      <th>725</th>\n",
       "      <td>1242093585966731266</td>\n",
       "      <td>I hate the fact that my survival depends on ot...</td>\n",
       "      <td>2020-03-23 14:19:22</td>\n",
       "      <td>1</td>\n",
       "      <td>139</td>\n",
       "      <td>-0.408333</td>\n",
       "    </tr>\n",
       "    <tr>\n",
       "      <th>421</th>\n",
       "      <td>1242104144342716416</td>\n",
       "      <td>Invention of the year #coronaviruskenya https:...</td>\n",
       "      <td>2020-03-23 15:01:19</td>\n",
       "      <td>0</td>\n",
       "      <td>63</td>\n",
       "      <td>0.000000</td>\n",
       "    </tr>\n",
       "    <tr>\n",
       "      <th>767</th>\n",
       "      <td>1242091715974045697</td>\n",
       "      <td>@TheStarBreaking @CBKKenya turbulence hits the...</td>\n",
       "      <td>2020-03-23 14:11:56</td>\n",
       "      <td>1</td>\n",
       "      <td>96</td>\n",
       "      <td>0.000000</td>\n",
       "    </tr>\n",
       "    <tr>\n",
       "      <th>941</th>\n",
       "      <td>1242082416661061638</td>\n",
       "      <td>Regrettably, this will be our Achilles heel. W...</td>\n",
       "      <td>2020-03-23 13:34:59</td>\n",
       "      <td>0</td>\n",
       "      <td>140</td>\n",
       "      <td>0.800000</td>\n",
       "    </tr>\n",
       "    <tr>\n",
       "      <th>1131</th>\n",
       "      <td>1242067946790363136</td>\n",
       "      <td>RT @BelasiLimited: The only medicine found til...</td>\n",
       "      <td>2020-03-23 12:37:29</td>\n",
       "      <td>0</td>\n",
       "      <td>113</td>\n",
       "      <td>0.000000</td>\n",
       "    </tr>\n",
       "    <tr>\n",
       "      <th>562</th>\n",
       "      <td>1242068276903100416</td>\n",
       "      <td>A month ago we were talking of #WW3 maybe we'r...</td>\n",
       "      <td>2020-03-23 12:38:48</td>\n",
       "      <td>1</td>\n",
       "      <td>90</td>\n",
       "      <td>0.285714</td>\n",
       "    </tr>\n",
       "    <tr>\n",
       "      <th>769</th>\n",
       "      <td>1242091688044253185</td>\n",
       "      <td>#KomeshaCorona press briefing by Health CS Mut...</td>\n",
       "      <td>2020-03-23 14:11:50</td>\n",
       "      <td>4</td>\n",
       "      <td>138</td>\n",
       "      <td>0.136364</td>\n",
       "    </tr>\n",
       "    <tr>\n",
       "      <th>843</th>\n",
       "      <td>1242088821040259074</td>\n",
       "      <td>Word of a prophet is the voice of God. It was ...</td>\n",
       "      <td>2020-03-23 14:00:26</td>\n",
       "      <td>1</td>\n",
       "      <td>139</td>\n",
       "      <td>0.000000</td>\n",
       "    </tr>\n",
       "    <tr>\n",
       "      <th>1109</th>\n",
       "      <td>1242070386071818243</td>\n",
       "      <td>Among the issues resolved include:\\ni)Bodaboda...</td>\n",
       "      <td>2020-03-23 12:47:11</td>\n",
       "      <td>0</td>\n",
       "      <td>140</td>\n",
       "      <td>0.000000</td>\n",
       "    </tr>\n",
       "    <tr>\n",
       "      <th>705</th>\n",
       "      <td>1242078861543854083</td>\n",
       "      <td>When she moan yo full name she a keeper😍💦cuz u...</td>\n",
       "      <td>2020-03-23 13:20:51</td>\n",
       "      <td>10</td>\n",
       "      <td>136</td>\n",
       "      <td>0.425000</td>\n",
       "    </tr>\n",
       "    <tr>\n",
       "      <th>1088</th>\n",
       "      <td>1242072224183603202</td>\n",
       "      <td>Pastor who came back from Sweden put under man...</td>\n",
       "      <td>2020-03-23 12:54:29</td>\n",
       "      <td>1</td>\n",
       "      <td>140</td>\n",
       "      <td>0.000000</td>\n",
       "    </tr>\n",
       "    <tr>\n",
       "      <th>441</th>\n",
       "      <td>1242103350088384513</td>\n",
       "      <td>Lock down is a good idea but it only favours t...</td>\n",
       "      <td>2020-03-23 14:58:10</td>\n",
       "      <td>0</td>\n",
       "      <td>140</td>\n",
       "      <td>0.283889</td>\n",
       "    </tr>\n",
       "    <tr>\n",
       "      <th>1084</th>\n",
       "      <td>1242072687301754882</td>\n",
       "      <td>Covid-19: Kilifi to discharge all patients, re...</td>\n",
       "      <td>2020-03-23 12:56:19</td>\n",
       "      <td>0</td>\n",
       "      <td>104</td>\n",
       "      <td>0.000000</td>\n",
       "    </tr>\n",
       "    <tr>\n",
       "      <th>536</th>\n",
       "      <td>1242099764029726723</td>\n",
       "      <td>#coronaviruskenya since bahati started doing g...</td>\n",
       "      <td>2020-03-23 14:43:55</td>\n",
       "      <td>4</td>\n",
       "      <td>81</td>\n",
       "      <td>0.700000</td>\n",
       "    </tr>\n",
       "  </tbody>\n",
       "</table>\n",
       "</div>"
      ],
      "text/plain": [
       "                 tweet_id                                               text  \\\n",
       "969   1242080246758879246  There's so much that we can learn from #corona...   \n",
       "112   1242119325349285889  The government should give us names of #corona...   \n",
       "123   1242112296496791557  I have realized most civil servants are saying...   \n",
       "452   1242102922281766912  1. Covid-19 Arrived From Space\\nKicking off th...   \n",
       "976   1242079827290738688  #coronaviruskenya has come as a cash cow for s...   \n",
       "369   1242077487011676163  #FeaturingApocalypse\\nLet us go back to the LO...   \n",
       "194   1242084889685614592  Sabina joy closed for the first time since 197...   \n",
       "579   1242098133062029325  CS Mutahi Kagwe is not being realistic telling...   \n",
       "581   1242067277010386951  Young men, especially between 21 and 33.... #D...   \n",
       "437   1242074174002286593  #coronaviruskenya\\nNOW KENYANS YOU HAVE FREEDO...   \n",
       "649   1242096137017995270  One more #Covid_19 case confirmed in Kenya. We...   \n",
       "274   1242110875034619906  E-Reporters: See How Ghanaian Armed Forces for...   \n",
       "715   1242094037911441410  Kenyans have prayed for an end to corruption f...   \n",
       "745   1242092429576146946  Kenyatta National Hospital anticipates a total...   \n",
       "532   1242100048021905409  @StandardKenya Wakenya! The tweet say's analys...   \n",
       "1151  1242066241088520194  Na si watu wanakula perdiems. Almost all count...   \n",
       "725   1242093585966731266  I hate the fact that my survival depends on ot...   \n",
       "421   1242104144342716416  Invention of the year #coronaviruskenya https:...   \n",
       "767   1242091715974045697  @TheStarBreaking @CBKKenya turbulence hits the...   \n",
       "941   1242082416661061638  Regrettably, this will be our Achilles heel. W...   \n",
       "1131  1242067946790363136  RT @BelasiLimited: The only medicine found til...   \n",
       "562   1242068276903100416  A month ago we were talking of #WW3 maybe we'r...   \n",
       "769   1242091688044253185  #KomeshaCorona press briefing by Health CS Mut...   \n",
       "843   1242088821040259074  Word of a prophet is the voice of God. It was ...   \n",
       "1109  1242070386071818243  Among the issues resolved include:\\ni)Bodaboda...   \n",
       "705   1242078861543854083  When she moan yo full name she a keeper😍💦cuz u...   \n",
       "1088  1242072224183603202  Pastor who came back from Sweden put under man...   \n",
       "441   1242103350088384513  Lock down is a good idea but it only favours t...   \n",
       "1084  1242072687301754882  Covid-19: Kilifi to discharge all patients, re...   \n",
       "536   1242099764029726723  #coronaviruskenya since bahati started doing g...   \n",
       "\n",
       "               created_at  likes  text length  polarity  \n",
       "969   2020-03-23 13:26:22      0          140  0.200000  \n",
       "112   2020-03-23 16:01:39      0           80  0.000000  \n",
       "123   2020-03-23 15:33:43      0          140  0.500000  \n",
       "452   2020-03-23 14:56:28      0          133  0.166667  \n",
       "976   2020-03-23 13:24:42      0          140  0.183333  \n",
       "369   2020-03-23 13:15:24      0           87  0.000000  \n",
       "194   2020-03-23 13:44:49      2           80  0.316667  \n",
       "579   2020-03-23 14:37:26      2          140  0.000000  \n",
       "581   2020-03-23 12:34:49      0          140  0.033333  \n",
       "437   2020-03-23 13:02:14      2          126  0.000000  \n",
       "649   2020-03-23 14:29:30      1           96  0.450000  \n",
       "274   2020-03-23 15:28:04      0          139  0.000000  \n",
       "715   2020-03-23 14:21:10      0          134  0.000000  \n",
       "745   2020-03-23 14:14:46      1          140 -0.077778  \n",
       "532   2020-03-23 14:45:03      0          108  0.000000  \n",
       "1151  2020-03-23 12:30:43      1          140  0.000000  \n",
       "725   2020-03-23 14:19:22      1          139 -0.408333  \n",
       "421   2020-03-23 15:01:19      0           63  0.000000  \n",
       "767   2020-03-23 14:11:56      1           96  0.000000  \n",
       "941   2020-03-23 13:34:59      0          140  0.800000  \n",
       "1131  2020-03-23 12:37:29      0          113  0.000000  \n",
       "562   2020-03-23 12:38:48      1           90  0.285714  \n",
       "769   2020-03-23 14:11:50      4          138  0.136364  \n",
       "843   2020-03-23 14:00:26      1          139  0.000000  \n",
       "1109  2020-03-23 12:47:11      0          140  0.000000  \n",
       "705   2020-03-23 13:20:51     10          136  0.425000  \n",
       "1088  2020-03-23 12:54:29      1          140  0.000000  \n",
       "441   2020-03-23 14:58:10      0          140  0.283889  \n",
       "1084  2020-03-23 12:56:19      0          104  0.000000  \n",
       "536   2020-03-23 14:43:55      4           81  0.700000  "
      ]
     },
     "execution_count": 67,
     "metadata": {},
     "output_type": "execute_result"
    }
   ],
   "source": [
    "tweets.sample(30)"
   ]
  },
  {
   "cell_type": "markdown",
   "metadata": {},
   "source": [
    "Tweets with lowest polarity(-1)"
   ]
  },
  {
   "cell_type": "code",
   "execution_count": 68,
   "metadata": {},
   "outputs": [
    {
     "data": {
      "text/html": [
       "<div>\n",
       "<style scoped>\n",
       "    .dataframe tbody tr th:only-of-type {\n",
       "        vertical-align: middle;\n",
       "    }\n",
       "\n",
       "    .dataframe tbody tr th {\n",
       "        vertical-align: top;\n",
       "    }\n",
       "\n",
       "    .dataframe thead th {\n",
       "        text-align: right;\n",
       "    }\n",
       "</style>\n",
       "<table border=\"1\" class=\"dataframe\">\n",
       "  <thead>\n",
       "    <tr style=\"text-align: right;\">\n",
       "      <th></th>\n",
       "      <th>tweet_id</th>\n",
       "      <th>text</th>\n",
       "      <th>created_at</th>\n",
       "      <th>likes</th>\n",
       "      <th>text length</th>\n",
       "      <th>polarity</th>\n",
       "    </tr>\n",
       "  </thead>\n",
       "  <tbody>\n",
       "    <tr>\n",
       "      <th>357</th>\n",
       "      <td>1242106974927573000</td>\n",
       "      <td>@SafaricomPLC Apana tunataka zile za 200 MBs ....</td>\n",
       "      <td>2020-03-23 15:12:34</td>\n",
       "      <td>2</td>\n",
       "      <td>140</td>\n",
       "      <td>-1.0</td>\n",
       "    </tr>\n",
       "    <tr>\n",
       "      <th>645</th>\n",
       "      <td>1242096205234085894</td>\n",
       "      <td>The worst thing about #MulikaCorona #coronavir...</td>\n",
       "      <td>2020-03-23 14:29:47</td>\n",
       "      <td>1</td>\n",
       "      <td>140</td>\n",
       "      <td>-1.0</td>\n",
       "    </tr>\n",
       "    <tr>\n",
       "      <th>1009</th>\n",
       "      <td>1242077721976545280</td>\n",
       "      <td>#kplccustomercare this is the worst time to cu...</td>\n",
       "      <td>2020-03-23 13:16:20</td>\n",
       "      <td>0</td>\n",
       "      <td>113</td>\n",
       "      <td>-1.0</td>\n",
       "    </tr>\n",
       "  </tbody>\n",
       "</table>\n",
       "</div>"
      ],
      "text/plain": [
       "                 tweet_id                                               text  \\\n",
       "357   1242106974927573000  @SafaricomPLC Apana tunataka zile za 200 MBs ....   \n",
       "645   1242096205234085894  The worst thing about #MulikaCorona #coronavir...   \n",
       "1009  1242077721976545280  #kplccustomercare this is the worst time to cu...   \n",
       "\n",
       "               created_at  likes  text length  polarity  \n",
       "357   2020-03-23 15:12:34      2          140      -1.0  \n",
       "645   2020-03-23 14:29:47      1          140      -1.0  \n",
       "1009  2020-03-23 13:16:20      0          113      -1.0  "
      ]
     },
     "execution_count": 68,
     "metadata": {},
     "output_type": "execute_result"
    }
   ],
   "source": [
    "tweets[tweets['polarity'] == -1]"
   ]
  },
  {
   "cell_type": "markdown",
   "metadata": {},
   "source": [
    "Tweets with polarity 0"
   ]
  },
  {
   "cell_type": "code",
   "execution_count": 69,
   "metadata": {},
   "outputs": [
    {
     "data": {
      "text/html": [
       "<div>\n",
       "<style scoped>\n",
       "    .dataframe tbody tr th:only-of-type {\n",
       "        vertical-align: middle;\n",
       "    }\n",
       "\n",
       "    .dataframe tbody tr th {\n",
       "        vertical-align: top;\n",
       "    }\n",
       "\n",
       "    .dataframe thead th {\n",
       "        text-align: right;\n",
       "    }\n",
       "</style>\n",
       "<table border=\"1\" class=\"dataframe\">\n",
       "  <thead>\n",
       "    <tr style=\"text-align: right;\">\n",
       "      <th></th>\n",
       "      <th>tweet_id</th>\n",
       "      <th>text</th>\n",
       "      <th>created_at</th>\n",
       "      <th>likes</th>\n",
       "      <th>text length</th>\n",
       "      <th>polarity</th>\n",
       "    </tr>\n",
       "  </thead>\n",
       "  <tbody>\n",
       "    <tr>\n",
       "      <th>1</th>\n",
       "      <td>1242123396684697603</td>\n",
       "      <td>The next one week 😷\\n\\n #coronaviruskenya</td>\n",
       "      <td>2020-03-23 16:17:49</td>\n",
       "      <td>0</td>\n",
       "      <td>39</td>\n",
       "      <td>0.0</td>\n",
       "    </tr>\n",
       "    <tr>\n",
       "      <th>2</th>\n",
       "      <td>1242123373188124673</td>\n",
       "      <td>#coronaviruskenya #LockdownNow #UhuruKenyatta ...</td>\n",
       "      <td>2020-03-23 16:17:44</td>\n",
       "      <td>0</td>\n",
       "      <td>140</td>\n",
       "      <td>0.0</td>\n",
       "    </tr>\n",
       "    <tr>\n",
       "      <th>3</th>\n",
       "      <td>1242086219519012867</td>\n",
       "      <td>Internet never forget we will remind you that ...</td>\n",
       "      <td>2020-03-23 13:50:06</td>\n",
       "      <td>0</td>\n",
       "      <td>104</td>\n",
       "      <td>0.0</td>\n",
       "    </tr>\n",
       "    <tr>\n",
       "      <th>4</th>\n",
       "      <td>1242123367882330113</td>\n",
       "      <td>@ntsa_kenya @DCI_Kenya #coronaviruskenya If on...</td>\n",
       "      <td>2020-03-23 16:17:43</td>\n",
       "      <td>0</td>\n",
       "      <td>131</td>\n",
       "      <td>0.0</td>\n",
       "    </tr>\n",
       "    <tr>\n",
       "      <th>5</th>\n",
       "      <td>1242123307903844353</td>\n",
       "      <td>I like what @HassanAliJoho said about #coronav...</td>\n",
       "      <td>2020-03-23 16:17:28</td>\n",
       "      <td>0</td>\n",
       "      <td>74</td>\n",
       "      <td>0.0</td>\n",
       "    </tr>\n",
       "    <tr>\n",
       "      <th>...</th>\n",
       "      <td>...</td>\n",
       "      <td>...</td>\n",
       "      <td>...</td>\n",
       "      <td>...</td>\n",
       "      <td>...</td>\n",
       "      <td>...</td>\n",
       "    </tr>\n",
       "    <tr>\n",
       "      <th>1181</th>\n",
       "      <td>1242064302816874502</td>\n",
       "      <td>@Its_Jakusa @GeorgeW27191819 The inequality in...</td>\n",
       "      <td>2020-03-23 12:23:00</td>\n",
       "      <td>0</td>\n",
       "      <td>140</td>\n",
       "      <td>0.0</td>\n",
       "    </tr>\n",
       "    <tr>\n",
       "      <th>1182</th>\n",
       "      <td>1242064212895174662</td>\n",
       "      <td>1 death in Zimbabwe with only 3 Corona Virus c...</td>\n",
       "      <td>2020-03-23 12:22:39</td>\n",
       "      <td>4</td>\n",
       "      <td>69</td>\n",
       "      <td>0.0</td>\n",
       "    </tr>\n",
       "    <tr>\n",
       "      <th>1183</th>\n",
       "      <td>1242064211800477697</td>\n",
       "      <td>Three Kakamega County officials who came back ...</td>\n",
       "      <td>2020-03-23 12:22:39</td>\n",
       "      <td>2</td>\n",
       "      <td>140</td>\n",
       "      <td>0.0</td>\n",
       "    </tr>\n",
       "    <tr>\n",
       "      <th>1184</th>\n",
       "      <td>1242064200840744960</td>\n",
       "      <td>Let's be Graceful enough to observe protocol. ...</td>\n",
       "      <td>2020-03-23 12:22:36</td>\n",
       "      <td>2</td>\n",
       "      <td>139</td>\n",
       "      <td>0.0</td>\n",
       "    </tr>\n",
       "    <tr>\n",
       "      <th>1187</th>\n",
       "      <td>1242063970632163329</td>\n",
       "      <td>When people lose trust in institutions, govern...</td>\n",
       "      <td>2020-03-23 12:21:41</td>\n",
       "      <td>1</td>\n",
       "      <td>109</td>\n",
       "      <td>0.0</td>\n",
       "    </tr>\n",
       "  </tbody>\n",
       "</table>\n",
       "<p>525 rows × 6 columns</p>\n",
       "</div>"
      ],
      "text/plain": [
       "                 tweet_id                                               text  \\\n",
       "1     1242123396684697603          The next one week 😷\\n\\n #coronaviruskenya   \n",
       "2     1242123373188124673  #coronaviruskenya #LockdownNow #UhuruKenyatta ...   \n",
       "3     1242086219519012867  Internet never forget we will remind you that ...   \n",
       "4     1242123367882330113  @ntsa_kenya @DCI_Kenya #coronaviruskenya If on...   \n",
       "5     1242123307903844353  I like what @HassanAliJoho said about #coronav...   \n",
       "...                   ...                                                ...   \n",
       "1181  1242064302816874502  @Its_Jakusa @GeorgeW27191819 The inequality in...   \n",
       "1182  1242064212895174662  1 death in Zimbabwe with only 3 Corona Virus c...   \n",
       "1183  1242064211800477697  Three Kakamega County officials who came back ...   \n",
       "1184  1242064200840744960  Let's be Graceful enough to observe protocol. ...   \n",
       "1187  1242063970632163329  When people lose trust in institutions, govern...   \n",
       "\n",
       "               created_at  likes  text length  polarity  \n",
       "1     2020-03-23 16:17:49      0           39       0.0  \n",
       "2     2020-03-23 16:17:44      0          140       0.0  \n",
       "3     2020-03-23 13:50:06      0          104       0.0  \n",
       "4     2020-03-23 16:17:43      0          131       0.0  \n",
       "5     2020-03-23 16:17:28      0           74       0.0  \n",
       "...                   ...    ...          ...       ...  \n",
       "1181  2020-03-23 12:23:00      0          140       0.0  \n",
       "1182  2020-03-23 12:22:39      4           69       0.0  \n",
       "1183  2020-03-23 12:22:39      2          140       0.0  \n",
       "1184  2020-03-23 12:22:36      2          139       0.0  \n",
       "1187  2020-03-23 12:21:41      1          109       0.0  \n",
       "\n",
       "[525 rows x 6 columns]"
      ]
     },
     "execution_count": 69,
     "metadata": {},
     "output_type": "execute_result"
    }
   ],
   "source": [
    "tweets[tweets['polarity'] == 0]"
   ]
  },
  {
   "cell_type": "markdown",
   "metadata": {},
   "source": [
    "Tweets with highest polarity(1)"
   ]
  },
  {
   "cell_type": "code",
   "execution_count": 70,
   "metadata": {},
   "outputs": [
    {
     "data": {
      "text/html": [
       "<div>\n",
       "<style scoped>\n",
       "    .dataframe tbody tr th:only-of-type {\n",
       "        vertical-align: middle;\n",
       "    }\n",
       "\n",
       "    .dataframe tbody tr th {\n",
       "        vertical-align: top;\n",
       "    }\n",
       "\n",
       "    .dataframe thead th {\n",
       "        text-align: right;\n",
       "    }\n",
       "</style>\n",
       "<table border=\"1\" class=\"dataframe\">\n",
       "  <thead>\n",
       "    <tr style=\"text-align: right;\">\n",
       "      <th></th>\n",
       "      <th>tweet_id</th>\n",
       "      <th>text</th>\n",
       "      <th>created_at</th>\n",
       "      <th>likes</th>\n",
       "      <th>text length</th>\n",
       "      <th>polarity</th>\n",
       "    </tr>\n",
       "  </thead>\n",
       "  <tbody>\n",
       "    <tr>\n",
       "      <th>237</th>\n",
       "      <td>1242112888082481153</td>\n",
       "      <td>#coronaviruskenya  Lets be the best version of...</td>\n",
       "      <td>2020-03-23 15:36:04</td>\n",
       "      <td>0</td>\n",
       "      <td>108</td>\n",
       "      <td>1.0</td>\n",
       "    </tr>\n",
       "    <tr>\n",
       "      <th>1055</th>\n",
       "      <td>1242074830842793985</td>\n",
       "      <td>This is probably the best thing you'll read to...</td>\n",
       "      <td>2020-03-23 13:04:50</td>\n",
       "      <td>1</td>\n",
       "      <td>140</td>\n",
       "      <td>1.0</td>\n",
       "    </tr>\n",
       "    <tr>\n",
       "      <th>1066</th>\n",
       "      <td>1242073657297551370</td>\n",
       "      <td>We create the best shoe impression \\n\\n#Minuel...</td>\n",
       "      <td>2020-03-23 13:00:11</td>\n",
       "      <td>0</td>\n",
       "      <td>140</td>\n",
       "      <td>1.0</td>\n",
       "    </tr>\n",
       "  </tbody>\n",
       "</table>\n",
       "</div>"
      ],
      "text/plain": [
       "                 tweet_id                                               text  \\\n",
       "237   1242112888082481153  #coronaviruskenya  Lets be the best version of...   \n",
       "1055  1242074830842793985  This is probably the best thing you'll read to...   \n",
       "1066  1242073657297551370  We create the best shoe impression \\n\\n#Minuel...   \n",
       "\n",
       "               created_at  likes  text length  polarity  \n",
       "237   2020-03-23 15:36:04      0          108       1.0  \n",
       "1055  2020-03-23 13:04:50      1          140       1.0  \n",
       "1066  2020-03-23 13:00:11      0          140       1.0  "
      ]
     },
     "execution_count": 70,
     "metadata": {},
     "output_type": "execute_result"
    }
   ],
   "source": [
    "tweets[tweets['polarity'] == 1]"
   ]
  },
  {
   "cell_type": "code",
   "execution_count": 71,
   "metadata": {},
   "outputs": [],
   "source": [
    "# It is evident that almost half of the obtained tweets have polarity 0"
   ]
  },
  {
   "cell_type": "markdown",
   "metadata": {},
   "source": [
    "Tweets with negative polarity"
   ]
  },
  {
   "cell_type": "code",
   "execution_count": 72,
   "metadata": {},
   "outputs": [
    {
     "data": {
      "text/html": [
       "<div>\n",
       "<style scoped>\n",
       "    .dataframe tbody tr th:only-of-type {\n",
       "        vertical-align: middle;\n",
       "    }\n",
       "\n",
       "    .dataframe tbody tr th {\n",
       "        vertical-align: top;\n",
       "    }\n",
       "\n",
       "    .dataframe thead th {\n",
       "        text-align: right;\n",
       "    }\n",
       "</style>\n",
       "<table border=\"1\" class=\"dataframe\">\n",
       "  <thead>\n",
       "    <tr style=\"text-align: right;\">\n",
       "      <th></th>\n",
       "      <th>tweet_id</th>\n",
       "      <th>text</th>\n",
       "      <th>created_at</th>\n",
       "      <th>likes</th>\n",
       "      <th>text length</th>\n",
       "      <th>polarity</th>\n",
       "    </tr>\n",
       "  </thead>\n",
       "  <tbody>\n",
       "    <tr>\n",
       "      <th>10</th>\n",
       "      <td>1242099789694750720</td>\n",
       "      <td>I need help here does it mean ukipata corona n...</td>\n",
       "      <td>2020-03-23 14:44:01</td>\n",
       "      <td>1</td>\n",
       "      <td>98</td>\n",
       "      <td>-0.3125</td>\n",
       "    </tr>\n",
       "    <tr>\n",
       "      <th>11</th>\n",
       "      <td>1242099788893564929</td>\n",
       "      <td>Not having money during this #coronaviruskenya...</td>\n",
       "      <td>2020-03-23 14:44:01</td>\n",
       "      <td>0</td>\n",
       "      <td>140</td>\n",
       "      <td>-0.5000</td>\n",
       "    </tr>\n",
       "    <tr>\n",
       "      <th>14</th>\n",
       "      <td>1242116304934440961</td>\n",
       "      <td>I hope CS Mutahi can see what other government...</td>\n",
       "      <td>2020-03-23 15:49:39</td>\n",
       "      <td>6</td>\n",
       "      <td>101</td>\n",
       "      <td>-0.1250</td>\n",
       "    </tr>\n",
       "    <tr>\n",
       "      <th>19</th>\n",
       "      <td>1242122752032718849</td>\n",
       "      <td>I don't understand why mutahi is pleading with...</td>\n",
       "      <td>2020-03-23 16:15:16</td>\n",
       "      <td>1</td>\n",
       "      <td>140</td>\n",
       "      <td>-0.1250</td>\n",
       "    </tr>\n",
       "    <tr>\n",
       "      <th>26</th>\n",
       "      <td>1242085595842838529</td>\n",
       "      <td>The Unga revolution we've all been waiting for...</td>\n",
       "      <td>2020-03-23 13:47:37</td>\n",
       "      <td>0</td>\n",
       "      <td>130</td>\n",
       "      <td>-0.3000</td>\n",
       "    </tr>\n",
       "    <tr>\n",
       "      <th>...</th>\n",
       "      <td>...</td>\n",
       "      <td>...</td>\n",
       "      <td>...</td>\n",
       "      <td>...</td>\n",
       "      <td>...</td>\n",
       "      <td>...</td>\n",
       "    </tr>\n",
       "    <tr>\n",
       "      <th>1171</th>\n",
       "      <td>1242064802916306944</td>\n",
       "      <td>@KanzeDena finally its out there.Thank you\\nNo...</td>\n",
       "      <td>2020-03-23 12:25:00</td>\n",
       "      <td>4</td>\n",
       "      <td>126</td>\n",
       "      <td>-0.2000</td>\n",
       "    </tr>\n",
       "    <tr>\n",
       "      <th>1172</th>\n",
       "      <td>1242064801540591621</td>\n",
       "      <td>@citizentvkenya #coronaviruskenya \\nSo sad. \\n...</td>\n",
       "      <td>2020-03-23 12:24:59</td>\n",
       "      <td>3</td>\n",
       "      <td>72</td>\n",
       "      <td>-0.5000</td>\n",
       "    </tr>\n",
       "    <tr>\n",
       "      <th>1174</th>\n",
       "      <td>1242064688533438464</td>\n",
       "      <td>@StarTimesKenya  you have very poor services a...</td>\n",
       "      <td>2020-03-23 12:24:32</td>\n",
       "      <td>2</td>\n",
       "      <td>140</td>\n",
       "      <td>-0.5200</td>\n",
       "    </tr>\n",
       "    <tr>\n",
       "      <th>1186</th>\n",
       "      <td>1242064012797530112</td>\n",
       "      <td>@OleItumbi Time to put it mandatory😓😓I hate wh...</td>\n",
       "      <td>2020-03-23 12:21:51</td>\n",
       "      <td>1</td>\n",
       "      <td>125</td>\n",
       "      <td>-0.8000</td>\n",
       "    </tr>\n",
       "    <tr>\n",
       "      <th>1188</th>\n",
       "      <td>1242063856727396352</td>\n",
       "      <td>@_mwendwa_felix @CisNyakundi @RobertAlai Level...</td>\n",
       "      <td>2020-03-23 12:21:14</td>\n",
       "      <td>2</td>\n",
       "      <td>124</td>\n",
       "      <td>-0.3500</td>\n",
       "    </tr>\n",
       "  </tbody>\n",
       "</table>\n",
       "<p>224 rows × 6 columns</p>\n",
       "</div>"
      ],
      "text/plain": [
       "                 tweet_id                                               text  \\\n",
       "10    1242099789694750720  I need help here does it mean ukipata corona n...   \n",
       "11    1242099788893564929  Not having money during this #coronaviruskenya...   \n",
       "14    1242116304934440961  I hope CS Mutahi can see what other government...   \n",
       "19    1242122752032718849  I don't understand why mutahi is pleading with...   \n",
       "26    1242085595842838529  The Unga revolution we've all been waiting for...   \n",
       "...                   ...                                                ...   \n",
       "1171  1242064802916306944  @KanzeDena finally its out there.Thank you\\nNo...   \n",
       "1172  1242064801540591621  @citizentvkenya #coronaviruskenya \\nSo sad. \\n...   \n",
       "1174  1242064688533438464  @StarTimesKenya  you have very poor services a...   \n",
       "1186  1242064012797530112  @OleItumbi Time to put it mandatory😓😓I hate wh...   \n",
       "1188  1242063856727396352  @_mwendwa_felix @CisNyakundi @RobertAlai Level...   \n",
       "\n",
       "               created_at  likes  text length  polarity  \n",
       "10    2020-03-23 14:44:01      1           98   -0.3125  \n",
       "11    2020-03-23 14:44:01      0          140   -0.5000  \n",
       "14    2020-03-23 15:49:39      6          101   -0.1250  \n",
       "19    2020-03-23 16:15:16      1          140   -0.1250  \n",
       "26    2020-03-23 13:47:37      0          130   -0.3000  \n",
       "...                   ...    ...          ...       ...  \n",
       "1171  2020-03-23 12:25:00      4          126   -0.2000  \n",
       "1172  2020-03-23 12:24:59      3           72   -0.5000  \n",
       "1174  2020-03-23 12:24:32      2          140   -0.5200  \n",
       "1186  2020-03-23 12:21:51      1          125   -0.8000  \n",
       "1188  2020-03-23 12:21:14      2          124   -0.3500  \n",
       "\n",
       "[224 rows x 6 columns]"
      ]
     },
     "execution_count": 72,
     "metadata": {},
     "output_type": "execute_result"
    }
   ],
   "source": [
    "tweets[tweets['polarity'] < 0]"
   ]
  },
  {
   "cell_type": "markdown",
   "metadata": {},
   "source": [
    "Tweets with positive polarity"
   ]
  },
  {
   "cell_type": "code",
   "execution_count": 73,
   "metadata": {},
   "outputs": [
    {
     "data": {
      "text/html": [
       "<div>\n",
       "<style scoped>\n",
       "    .dataframe tbody tr th:only-of-type {\n",
       "        vertical-align: middle;\n",
       "    }\n",
       "\n",
       "    .dataframe tbody tr th {\n",
       "        vertical-align: top;\n",
       "    }\n",
       "\n",
       "    .dataframe thead th {\n",
       "        text-align: right;\n",
       "    }\n",
       "</style>\n",
       "<table border=\"1\" class=\"dataframe\">\n",
       "  <thead>\n",
       "    <tr style=\"text-align: right;\">\n",
       "      <th></th>\n",
       "      <th>tweet_id</th>\n",
       "      <th>text</th>\n",
       "      <th>created_at</th>\n",
       "      <th>likes</th>\n",
       "      <th>text length</th>\n",
       "      <th>polarity</th>\n",
       "    </tr>\n",
       "  </thead>\n",
       "  <tbody>\n",
       "    <tr>\n",
       "      <th>0</th>\n",
       "      <td>1242123434466979841</td>\n",
       "      <td>Everyday might not be good but there's always ...</td>\n",
       "      <td>2020-03-23 16:17:58</td>\n",
       "      <td>1</td>\n",
       "      <td>126</td>\n",
       "      <td>0.400000</td>\n",
       "    </tr>\n",
       "    <tr>\n",
       "      <th>8</th>\n",
       "      <td>1242069774231887880</td>\n",
       "      <td>I wish this would have been the much anticipat...</td>\n",
       "      <td>2020-03-23 12:44:45</td>\n",
       "      <td>2</td>\n",
       "      <td>140</td>\n",
       "      <td>0.100000</td>\n",
       "    </tr>\n",
       "    <tr>\n",
       "      <th>13</th>\n",
       "      <td>1242116336739913728</td>\n",
       "      <td>Taken out since last Friday to buy gas. Seems ...</td>\n",
       "      <td>2020-03-23 15:49:46</td>\n",
       "      <td>1</td>\n",
       "      <td>140</td>\n",
       "      <td>0.037500</td>\n",
       "    </tr>\n",
       "    <tr>\n",
       "      <th>16</th>\n",
       "      <td>1242122964608434181</td>\n",
       "      <td>We are in this together.\\nLet's be safe and st...</td>\n",
       "      <td>2020-03-23 16:16:06</td>\n",
       "      <td>1</td>\n",
       "      <td>126</td>\n",
       "      <td>0.500000</td>\n",
       "    </tr>\n",
       "    <tr>\n",
       "      <th>20</th>\n",
       "      <td>1242099340342067203</td>\n",
       "      <td>Confirmed #coronavirus cases in Kenya stands a...</td>\n",
       "      <td>2020-03-23 14:42:14</td>\n",
       "      <td>5</td>\n",
       "      <td>128</td>\n",
       "      <td>0.433333</td>\n",
       "    </tr>\n",
       "    <tr>\n",
       "      <th>...</th>\n",
       "      <td>...</td>\n",
       "      <td>...</td>\n",
       "      <td>...</td>\n",
       "      <td>...</td>\n",
       "      <td>...</td>\n",
       "      <td>...</td>\n",
       "    </tr>\n",
       "    <tr>\n",
       "      <th>1176</th>\n",
       "      <td>1242064663577272321</td>\n",
       "      <td>Advice for Young Cubs Looking for Sugar Mummy ...</td>\n",
       "      <td>2020-03-23 12:24:26</td>\n",
       "      <td>1</td>\n",
       "      <td>140</td>\n",
       "      <td>0.100000</td>\n",
       "    </tr>\n",
       "    <tr>\n",
       "      <th>1177</th>\n",
       "      <td>1242064476834324481</td>\n",
       "      <td>One would have wished to see a more emotional ...</td>\n",
       "      <td>2020-03-23 12:23:42</td>\n",
       "      <td>4</td>\n",
       "      <td>128</td>\n",
       "      <td>0.250000</td>\n",
       "    </tr>\n",
       "    <tr>\n",
       "      <th>1179</th>\n",
       "      <td>1242064465413226496</td>\n",
       "      <td>Very soon some parts of the country will start...</td>\n",
       "      <td>2020-03-23 12:23:39</td>\n",
       "      <td>2</td>\n",
       "      <td>140</td>\n",
       "      <td>0.200000</td>\n",
       "    </tr>\n",
       "    <tr>\n",
       "      <th>1185</th>\n",
       "      <td>1242064075405905921</td>\n",
       "      <td>SIAYA EMERGENCY response team sent to trace co...</td>\n",
       "      <td>2020-03-23 12:22:06</td>\n",
       "      <td>4</td>\n",
       "      <td>139</td>\n",
       "      <td>0.113636</td>\n",
       "    </tr>\n",
       "    <tr>\n",
       "      <th>1189</th>\n",
       "      <td>1242063643883307008</td>\n",
       "      <td>The next Corona virus strain will be even more...</td>\n",
       "      <td>2020-03-23 12:20:23</td>\n",
       "      <td>1</td>\n",
       "      <td>140</td>\n",
       "      <td>0.100000</td>\n",
       "    </tr>\n",
       "  </tbody>\n",
       "</table>\n",
       "<p>441 rows × 6 columns</p>\n",
       "</div>"
      ],
      "text/plain": [
       "                 tweet_id                                               text  \\\n",
       "0     1242123434466979841  Everyday might not be good but there's always ...   \n",
       "8     1242069774231887880  I wish this would have been the much anticipat...   \n",
       "13    1242116336739913728  Taken out since last Friday to buy gas. Seems ...   \n",
       "16    1242122964608434181  We are in this together.\\nLet's be safe and st...   \n",
       "20    1242099340342067203  Confirmed #coronavirus cases in Kenya stands a...   \n",
       "...                   ...                                                ...   \n",
       "1176  1242064663577272321  Advice for Young Cubs Looking for Sugar Mummy ...   \n",
       "1177  1242064476834324481  One would have wished to see a more emotional ...   \n",
       "1179  1242064465413226496  Very soon some parts of the country will start...   \n",
       "1185  1242064075405905921  SIAYA EMERGENCY response team sent to trace co...   \n",
       "1189  1242063643883307008  The next Corona virus strain will be even more...   \n",
       "\n",
       "               created_at  likes  text length  polarity  \n",
       "0     2020-03-23 16:17:58      1          126  0.400000  \n",
       "8     2020-03-23 12:44:45      2          140  0.100000  \n",
       "13    2020-03-23 15:49:46      1          140  0.037500  \n",
       "16    2020-03-23 16:16:06      1          126  0.500000  \n",
       "20    2020-03-23 14:42:14      5          128  0.433333  \n",
       "...                   ...    ...          ...       ...  \n",
       "1176  2020-03-23 12:24:26      1          140  0.100000  \n",
       "1177  2020-03-23 12:23:42      4          128  0.250000  \n",
       "1179  2020-03-23 12:23:39      2          140  0.200000  \n",
       "1185  2020-03-23 12:22:06      4          139  0.113636  \n",
       "1189  2020-03-23 12:20:23      1          140  0.100000  \n",
       "\n",
       "[441 rows x 6 columns]"
      ]
     },
     "execution_count": 73,
     "metadata": {},
     "output_type": "execute_result"
    }
   ],
   "source": [
    "tweets[tweets['polarity'] > 0]"
   ]
  },
  {
   "cell_type": "markdown",
   "metadata": {},
   "source": [
    "## Some EDA"
   ]
  },
  {
   "cell_type": "code",
   "execution_count": 74,
   "metadata": {},
   "outputs": [],
   "source": [
    "import matplotlib.pyplot as plt\n",
    "%matplotlib inline\n",
    "\n",
    "import seaborn as sns\n",
    "sns.set_style('whitegrid')"
   ]
  },
  {
   "cell_type": "markdown",
   "metadata": {},
   "source": [
    "**Distribution of polarity**"
   ]
  },
  {
   "cell_type": "code",
   "execution_count": 75,
   "metadata": {},
   "outputs": [
    {
     "data": {
      "text/plain": [
       "<matplotlib.axes._subplots.AxesSubplot at 0x7f44de2edf90>"
      ]
     },
     "execution_count": 75,
     "metadata": {},
     "output_type": "execute_result"
    },
    {
     "data": {
      "image/png": "[encoded data removed]",
      "text/plain": [
       "<Figure size 432x288 with 1 Axes>"
      ]
     },
     "metadata": {},
     "output_type": "display_data"
    }
   ],
   "source": [
    "sns.distplot(tweets['polarity'], bins=50, kde=False)"
   ]
  },
  {
   "cell_type": "markdown",
   "metadata": {},
   "source": [
    "**Distribution of text length**"
   ]
  },
  {
   "cell_type": "code",
   "execution_count": 76,
   "metadata": {},
   "outputs": [
    {
     "data": {
      "text/plain": [
       "<matplotlib.axes._subplots.AxesSubplot at 0x7f44de306e50>"
      ]
     },
     "execution_count": 76,
     "metadata": {},
     "output_type": "execute_result"
    },
    {
     "data": {
      "image/png": "[encoded data removed]",
      "text/plain": [
       "<Figure size 432x288 with 1 Axes>"
      ]
     },
     "metadata": {},
     "output_type": "display_data"
    }
   ],
   "source": [
    "sns.distplot(tweets['text length'], kde=False)"
   ]
  },
  {
   "cell_type": "markdown",
   "metadata": {},
   "source": [
    "A jointplot to show relation of text length and polarity"
   ]
  },
  {
   "cell_type": "code",
   "execution_count": 79,
   "metadata": {},
   "outputs": [
    {
     "data": {
      "text/plain": [
       "<seaborn.axisgrid.JointGrid at 0x7f44de622c10>"
      ]
     },
     "execution_count": 79,
     "metadata": {},
     "output_type": "execute_result"
    },
    {
     "data": {
      "image/png": "[encoded data removed]",
      "text/plain": [
       "<Figure size 432x432 with 3 Axes>"
      ]
     },
     "metadata": {},
     "output_type": "display_data"
    }
   ],
   "source": [
    "sns.jointplot(x='polarity', y='text length', data=tweets)"
   ]
  },
  {
   "cell_type": "markdown",
   "metadata": {},
   "source": [
    "From this plot, we see that most lengthy tweets are associated with a polarity of 0  \n",
    "Let's get the mean length of tweets with polarity 0 to see that indeed that's the case:"
   ]
  },
  {
   "cell_type": "code",
   "execution_count": 81,
   "metadata": {},
   "outputs": [
    {
     "data": {
      "text/plain": [
       "118.22095238095238"
      ]
     },
     "execution_count": 81,
     "metadata": {},
     "output_type": "execute_result"
    }
   ],
   "source": [
    "tweets[tweets['polarity']==0]['text length'].mean()"
   ]
  },
  {
   "cell_type": "markdown",
   "metadata": {},
   "source": [
    "To further visualize this fact, let's create the same plot but of hexagonal and regressional nature"
   ]
  },
  {
   "cell_type": "code",
   "execution_count": 97,
   "metadata": {},
   "outputs": [
    {
     "data": {
      "text/plain": [
       "<seaborn.axisgrid.JointGrid at 0x7f44d50dbad0>"
      ]
     },
     "execution_count": 97,
     "metadata": {},
     "output_type": "execute_result"
    },
    {
     "data": {
      "image/png": "[encoded data removed]",
      "text/plain": [
       "<Figure size 432x432 with 3 Axes>"
      ]
     },
     "metadata": {},
     "output_type": "display_data"
    }
   ],
   "source": [
    "sns.jointplot(x='polarity', y='text length', data=tweets, kind='hex')"
   ]
  },
  {
   "cell_type": "code",
   "execution_count": 83,
   "metadata": {},
   "outputs": [
    {
     "data": {
      "text/plain": [
       "<seaborn.axisgrid.JointGrid at 0x7f44dd8eded0>"
      ]
     },
     "execution_count": 83,
     "metadata": {},
     "output_type": "execute_result"
    },
    {
     "data": {
      "image/png": "[encoded data removed]",
      "text/plain": [
       "<Figure size 432x432 with 3 Axes>"
      ]
     },
     "metadata": {},
     "output_type": "display_data"
    }
   ],
   "source": [
    "sns.jointplot(x='polarity', y='text length', data=tweets, kind='reg')"
   ]
  },
  {
   "cell_type": "markdown",
   "metadata": {},
   "source": [
    "## Project conclusion\n",
    "\n",
    "Clearly, we have seen that like half of the tweets have polarity of 0.  \n",
    "Does this mean that when a population is under such fear and anxiety of an epidemic, their messages express no negativity or positivity but are more neutral?"
   ]
  }
 ],
 "metadata": {
  "kernelspec": {
   "display_name": "Python 3",
   "language": "python",
   "name": "python3"
  },
  "language_info": {
   "codemirror_mode": {
    "name": "ipython",
    "version": 3
   },
   "file_extension": ".py",
   "mimetype": "text/x-python",
   "name": "python",
   "nbconvert_exporter": "python",
   "pygments_lexer": "ipython3",
   "version": "3.7.7"
  }
 },
 "nbformat": 4,
 "nbformat_minor": 4
}
