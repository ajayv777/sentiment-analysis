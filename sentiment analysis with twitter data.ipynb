{
 "cells": [
  {
   "cell_type": "markdown",
   "metadata": {},
   "source": [
    "# Sentiment Analysis with twitter data  \n",
    "This project entails analyzing the sentiment associated with tweets on the current pandemic of covid-19.  \n",
    "The data is obtained from twitter using a script I designed,you may have a look at it [here.](https://github.com/lyraxvincent/twitter-tweepy/blob/master/tweetscrap.py) (with a few modifications of the script of course)  \n",
    "I modified the script to fit the needs:\n",
    "- Tweets obtained are only from the country Kenya\n",
    "- Tweets obtained are only in the English language\n",
    "- No retweets obtained\n",
    "\n",
    "I used the powerful text processing python module **TextBlob** for this task."
   ]
  },
  {
   "cell_type": "markdown",
   "metadata": {},
   "source": [
    "**Import necessary modules**"
   ]
  },
  {
   "cell_type": "code",
   "execution_count": 1,
   "metadata": {},
   "outputs": [],
   "source": [
    "import pandas as pd\n",
    "from textblob import TextBlob"
   ]
  },
  {
   "cell_type": "markdown",
   "metadata": {},
   "source": [
    "Load the data"
   ]
  },
  {
   "cell_type": "code",
   "execution_count": 2,
   "metadata": {},
   "outputs": [],
   "source": [
    "tweets = pd.read_csv('covidKE tweets.csv')"
   ]
  },
  {
   "cell_type": "markdown",
   "metadata": {},
   "source": [
    "Viewing the data"
   ]
  },
  {
   "cell_type": "code",
   "execution_count": 3,
   "metadata": {
    "scrolled": true
   },
   "outputs": [
    {
     "data": {
      "text/html": [
       "<div>\n",
       "<style scoped>\n",
       "    .dataframe tbody tr th:only-of-type {\n",
       "        vertical-align: middle;\n",
       "    }\n",
       "\n",
       "    .dataframe tbody tr th {\n",
       "        vertical-align: top;\n",
       "    }\n",
       "\n",
       "    .dataframe thead th {\n",
       "        text-align: right;\n",
       "    }\n",
       "</style>\n",
       "<table border=\"1\" class=\"dataframe\">\n",
       "  <thead>\n",
       "    <tr style=\"text-align: right;\">\n",
       "      <th></th>\n",
       "      <th>tweet_id</th>\n",
       "      <th>text</th>\n",
       "      <th>created_at</th>\n",
       "      <th>likes</th>\n",
       "    </tr>\n",
       "  </thead>\n",
       "  <tbody>\n",
       "    <tr>\n",
       "      <th>0</th>\n",
       "      <td>1242123434466979841</td>\n",
       "      <td>Everyday might not be good but there's always ...</td>\n",
       "      <td>2020-03-23 16:17:58</td>\n",
       "      <td>1</td>\n",
       "    </tr>\n",
       "    <tr>\n",
       "      <th>1</th>\n",
       "      <td>1242123396684697603</td>\n",
       "      <td>The next one week 😷\\n\\n #coronaviruskenya</td>\n",
       "      <td>2020-03-23 16:17:49</td>\n",
       "      <td>0</td>\n",
       "    </tr>\n",
       "    <tr>\n",
       "      <th>2</th>\n",
       "      <td>1242123373188124673</td>\n",
       "      <td>#coronaviruskenya #LockdownNow #UhuruKenyatta ...</td>\n",
       "      <td>2020-03-23 16:17:44</td>\n",
       "      <td>0</td>\n",
       "    </tr>\n",
       "    <tr>\n",
       "      <th>3</th>\n",
       "      <td>1242086219519012867</td>\n",
       "      <td>Internet never forget we will remind you that ...</td>\n",
       "      <td>2020-03-23 13:50:06</td>\n",
       "      <td>0</td>\n",
       "    </tr>\n",
       "    <tr>\n",
       "      <th>4</th>\n",
       "      <td>1242123367882330113</td>\n",
       "      <td>@ntsa_kenya @DCI_Kenya #coronaviruskenya If on...</td>\n",
       "      <td>2020-03-23 16:17:43</td>\n",
       "      <td>0</td>\n",
       "    </tr>\n",
       "  </tbody>\n",
       "</table>\n",
       "</div>"
      ],
      "text/plain": [
       "              tweet_id                                               text  \\\n",
       "0  1242123434466979841  Everyday might not be good but there's always ...   \n",
       "1  1242123396684697603          The next one week 😷\\n\\n #coronaviruskenya   \n",
       "2  1242123373188124673  #coronaviruskenya #LockdownNow #UhuruKenyatta ...   \n",
       "3  1242086219519012867  Internet never forget we will remind you that ...   \n",
       "4  1242123367882330113  @ntsa_kenya @DCI_Kenya #coronaviruskenya If on...   \n",
       "\n",
       "            created_at  likes  \n",
       "0  2020-03-23 16:17:58      1  \n",
       "1  2020-03-23 16:17:49      0  \n",
       "2  2020-03-23 16:17:44      0  \n",
       "3  2020-03-23 13:50:06      0  \n",
       "4  2020-03-23 16:17:43      0  "
      ]
     },
     "execution_count": 3,
     "metadata": {},
     "output_type": "execute_result"
    }
   ],
   "source": [
    "tweets.head()"
   ]
  },
  {
   "cell_type": "code",
   "execution_count": 4,
   "metadata": {},
   "outputs": [
    {
     "name": "stdout",
     "output_type": "stream",
     "text": [
      "<class 'pandas.core.frame.DataFrame'>\n",
      "RangeIndex: 1190 entries, 0 to 1189\n",
      "Data columns (total 4 columns):\n",
      " #   Column      Non-Null Count  Dtype \n",
      "---  ------      --------------  ----- \n",
      " 0   tweet_id    1190 non-null   int64 \n",
      " 1   text        1190 non-null   object\n",
      " 2   created_at  1190 non-null   object\n",
      " 3   likes       1190 non-null   int64 \n",
      "dtypes: int64(2), object(2)\n",
      "memory usage: 37.3+ KB\n"
     ]
    }
   ],
   "source": [
    "tweets.info()"
   ]
  },
  {
   "cell_type": "markdown",
   "metadata": {},
   "source": [
    "## Text Preprocessing\n",
    "\n",
    "We remove any special characters, punctuations and stopwords from the tweets."
   ]
  },
  {
   "cell_type": "code",
   "execution_count": 12,
   "metadata": {},
   "outputs": [],
   "source": [
    "import re\n",
    "import string\n",
    "from nltk.corpus import stopwords"
   ]
  },
  {
   "cell_type": "markdown",
   "metadata": {},
   "source": [
    "Let's design a function for this task"
   ]
  },
  {
   "cell_type": "code",
   "execution_count": 17,
   "metadata": {},
   "outputs": [],
   "source": [
    "regex = re.compile('[^a-zA-Z]')\n",
    "def text_process(text):\n",
    "    np = text.lower().split('#coronaviruskenya') # Remove the hashtag\n",
    "    np = ''.join(np)\n",
    "    np = [c for c in np if c not in string.punctuation]\n",
    "    np = [c for c in np if c != '\\n'] # Removing newline\n",
    "    np = ''.join(np)\n",
    "    np = np.split('https')[0] # Remove links\n",
    "    np = regex.sub(' ', np) # Remove emojis and any non-letters\n",
    "    np = [word for word in np.split() if word not in stopwords.words('english')] # Remove stopwords\n",
    "    return ' '.join(np)"
   ]
  },
  {
   "cell_type": "code",
   "execution_count": 18,
   "metadata": {},
   "outputs": [],
   "source": [
    "# Apply function to the text column\n",
    "# We will overwrite the text column (after testing the function on a single tweet)\n",
    "\n",
    "tweets['text'] = tweets['text'].apply(text_process)"
   ]
  },
  {
   "cell_type": "code",
   "execution_count": 19,
   "metadata": {},
   "outputs": [
    {
     "data": {
      "text/html": [
       "<div>\n",
       "<style scoped>\n",
       "    .dataframe tbody tr th:only-of-type {\n",
       "        vertical-align: middle;\n",
       "    }\n",
       "\n",
       "    .dataframe tbody tr th {\n",
       "        vertical-align: top;\n",
       "    }\n",
       "\n",
       "    .dataframe thead th {\n",
       "        text-align: right;\n",
       "    }\n",
       "</style>\n",
       "<table border=\"1\" class=\"dataframe\">\n",
       "  <thead>\n",
       "    <tr style=\"text-align: right;\">\n",
       "      <th></th>\n",
       "      <th>tweet_id</th>\n",
       "      <th>text</th>\n",
       "      <th>created_at</th>\n",
       "      <th>likes</th>\n",
       "    </tr>\n",
       "  </thead>\n",
       "  <tbody>\n",
       "    <tr>\n",
       "      <th>0</th>\n",
       "      <td>1242123434466979841</td>\n",
       "      <td>everyday might good theres always something go...</td>\n",
       "      <td>2020-03-23 16:17:58</td>\n",
       "      <td>1</td>\n",
       "    </tr>\n",
       "    <tr>\n",
       "      <th>1</th>\n",
       "      <td>1242123396684697603</td>\n",
       "      <td>next one week</td>\n",
       "      <td>2020-03-23 16:17:49</td>\n",
       "      <td>0</td>\n",
       "    </tr>\n",
       "    <tr>\n",
       "      <th>2</th>\n",
       "      <td>1242123373188124673</td>\n",
       "      <td>lockdownnow uhurukenyatta imagine people copin...</td>\n",
       "      <td>2020-03-23 16:17:44</td>\n",
       "      <td>0</td>\n",
       "    </tr>\n",
       "    <tr>\n",
       "      <th>3</th>\n",
       "      <td>1242086219519012867</td>\n",
       "      <td>internet never forget remind resorted internet...</td>\n",
       "      <td>2020-03-23 13:50:06</td>\n",
       "      <td>0</td>\n",
       "    </tr>\n",
       "    <tr>\n",
       "      <th>4</th>\n",
       "      <td>1242123367882330113</td>\n",
       "      <td>ntsakenya dcikenya theyll provide food outdoor...</td>\n",
       "      <td>2020-03-23 16:17:43</td>\n",
       "      <td>0</td>\n",
       "    </tr>\n",
       "  </tbody>\n",
       "</table>\n",
       "</div>"
      ],
      "text/plain": [
       "              tweet_id                                               text  \\\n",
       "0  1242123434466979841  everyday might good theres always something go...   \n",
       "1  1242123396684697603                                      next one week   \n",
       "2  1242123373188124673  lockdownnow uhurukenyatta imagine people copin...   \n",
       "3  1242086219519012867  internet never forget remind resorted internet...   \n",
       "4  1242123367882330113  ntsakenya dcikenya theyll provide food outdoor...   \n",
       "\n",
       "            created_at  likes  \n",
       "0  2020-03-23 16:17:58      1  \n",
       "1  2020-03-23 16:17:49      0  \n",
       "2  2020-03-23 16:17:44      0  \n",
       "3  2020-03-23 13:50:06      0  \n",
       "4  2020-03-23 16:17:43      0  "
      ]
     },
     "execution_count": 19,
     "metadata": {},
     "output_type": "execute_result"
    }
   ],
   "source": [
    "tweets.head()"
   ]
  },
  {
   "cell_type": "markdown",
   "metadata": {},
   "source": [
    "## Sentiment Analysis"
   ]
  },
  {
   "cell_type": "markdown",
   "metadata": {},
   "source": [
    "An example to show how we get the sentiment score/polarity for a single tweet"
   ]
  },
  {
   "cell_type": "code",
   "execution_count": 20,
   "metadata": {},
   "outputs": [
    {
     "data": {
      "text/plain": [
       "Sentiment(polarity=0.39999999999999997, subjectivity=0.6000000000000001)"
      ]
     },
     "execution_count": 20,
     "metadata": {},
     "output_type": "execute_result"
    }
   ],
   "source": [
    "TextBlob(tweets.text[0]).sentiment"
   ]
  },
  {
   "cell_type": "code",
   "execution_count": 21,
   "metadata": {},
   "outputs": [
    {
     "data": {
      "text/plain": [
       "0.39999999999999997"
      ]
     },
     "execution_count": 21,
     "metadata": {},
     "output_type": "execute_result"
    }
   ],
   "source": [
    "TextBlob(tweets['text'][0]).sentiment.polarity"
   ]
  },
  {
   "cell_type": "markdown",
   "metadata": {},
   "source": [
    "Let's add a numerical column relating to text; text length "
   ]
  },
  {
   "cell_type": "code",
   "execution_count": 22,
   "metadata": {},
   "outputs": [],
   "source": [
    "tweets['text length'] = tweets['text'].apply(len)"
   ]
  },
  {
   "cell_type": "code",
   "execution_count": 23,
   "metadata": {},
   "outputs": [
    {
     "data": {
      "text/html": [
       "<div>\n",
       "<style scoped>\n",
       "    .dataframe tbody tr th:only-of-type {\n",
       "        vertical-align: middle;\n",
       "    }\n",
       "\n",
       "    .dataframe tbody tr th {\n",
       "        vertical-align: top;\n",
       "    }\n",
       "\n",
       "    .dataframe thead th {\n",
       "        text-align: right;\n",
       "    }\n",
       "</style>\n",
       "<table border=\"1\" class=\"dataframe\">\n",
       "  <thead>\n",
       "    <tr style=\"text-align: right;\">\n",
       "      <th></th>\n",
       "      <th>tweet_id</th>\n",
       "      <th>text</th>\n",
       "      <th>created_at</th>\n",
       "      <th>likes</th>\n",
       "      <th>text length</th>\n",
       "    </tr>\n",
       "  </thead>\n",
       "  <tbody>\n",
       "    <tr>\n",
       "      <th>0</th>\n",
       "      <td>1242123434466979841</td>\n",
       "      <td>everyday might good theres always something go...</td>\n",
       "      <td>2020-03-23 16:17:58</td>\n",
       "      <td>1</td>\n",
       "      <td>58</td>\n",
       "    </tr>\n",
       "    <tr>\n",
       "      <th>1</th>\n",
       "      <td>1242123396684697603</td>\n",
       "      <td>next one week</td>\n",
       "      <td>2020-03-23 16:17:49</td>\n",
       "      <td>0</td>\n",
       "      <td>13</td>\n",
       "    </tr>\n",
       "    <tr>\n",
       "      <th>2</th>\n",
       "      <td>1242123373188124673</td>\n",
       "      <td>lockdownnow uhurukenyatta imagine people copin...</td>\n",
       "      <td>2020-03-23 16:17:44</td>\n",
       "      <td>0</td>\n",
       "      <td>71</td>\n",
       "    </tr>\n",
       "    <tr>\n",
       "      <th>3</th>\n",
       "      <td>1242086219519012867</td>\n",
       "      <td>internet never forget remind resorted internet...</td>\n",
       "      <td>2020-03-23 13:50:06</td>\n",
       "      <td>0</td>\n",
       "      <td>59</td>\n",
       "    </tr>\n",
       "    <tr>\n",
       "      <th>4</th>\n",
       "      <td>1242123367882330113</td>\n",
       "      <td>ntsakenya dcikenya theyll provide food outdoor...</td>\n",
       "      <td>2020-03-23 16:17:43</td>\n",
       "      <td>0</td>\n",
       "      <td>67</td>\n",
       "    </tr>\n",
       "  </tbody>\n",
       "</table>\n",
       "</div>"
      ],
      "text/plain": [
       "              tweet_id                                               text  \\\n",
       "0  1242123434466979841  everyday might good theres always something go...   \n",
       "1  1242123396684697603                                      next one week   \n",
       "2  1242123373188124673  lockdownnow uhurukenyatta imagine people copin...   \n",
       "3  1242086219519012867  internet never forget remind resorted internet...   \n",
       "4  1242123367882330113  ntsakenya dcikenya theyll provide food outdoor...   \n",
       "\n",
       "            created_at  likes  text length  \n",
       "0  2020-03-23 16:17:58      1           58  \n",
       "1  2020-03-23 16:17:49      0           13  \n",
       "2  2020-03-23 16:17:44      0           71  \n",
       "3  2020-03-23 13:50:06      0           59  \n",
       "4  2020-03-23 16:17:43      0           67  "
      ]
     },
     "execution_count": 23,
     "metadata": {},
     "output_type": "execute_result"
    }
   ],
   "source": [
    "tweets.head()"
   ]
  },
  {
   "cell_type": "markdown",
   "metadata": {},
   "source": [
    "Now we design a function to apply to the text column to produce polarity for each tweet"
   ]
  },
  {
   "cell_type": "code",
   "execution_count": 24,
   "metadata": {},
   "outputs": [],
   "source": [
    "def get_polarity(text):\n",
    "    return TextBlob(text).sentiment.polarity"
   ]
  },
  {
   "cell_type": "markdown",
   "metadata": {},
   "source": [
    "We add a new column to the dataframe based off of tweet polarity"
   ]
  },
  {
   "cell_type": "code",
   "execution_count": 25,
   "metadata": {},
   "outputs": [],
   "source": [
    "tweets['polarity'] = tweets['text'].apply(get_polarity)"
   ]
  },
  {
   "cell_type": "code",
   "execution_count": 26,
   "metadata": {},
   "outputs": [],
   "source": [
    "# Short form using lambda\n",
    "##\n",
    "#tweets['polarity'] = tweets['text'].apply(lambda text: TextBlob(text).sentiment.polarity)"
   ]
  },
  {
   "cell_type": "code",
   "execution_count": 27,
   "metadata": {},
   "outputs": [
    {
     "data": {
      "text/html": [
       "<div>\n",
       "<style scoped>\n",
       "    .dataframe tbody tr th:only-of-type {\n",
       "        vertical-align: middle;\n",
       "    }\n",
       "\n",
       "    .dataframe tbody tr th {\n",
       "        vertical-align: top;\n",
       "    }\n",
       "\n",
       "    .dataframe thead th {\n",
       "        text-align: right;\n",
       "    }\n",
       "</style>\n",
       "<table border=\"1\" class=\"dataframe\">\n",
       "  <thead>\n",
       "    <tr style=\"text-align: right;\">\n",
       "      <th></th>\n",
       "      <th>tweet_id</th>\n",
       "      <th>text</th>\n",
       "      <th>created_at</th>\n",
       "      <th>likes</th>\n",
       "      <th>text length</th>\n",
       "      <th>polarity</th>\n",
       "    </tr>\n",
       "  </thead>\n",
       "  <tbody>\n",
       "    <tr>\n",
       "      <th>165</th>\n",
       "      <td>1242110521903591424</td>\n",
       "      <td>dear kenyan stand italy washed hands kept good...</td>\n",
       "      <td>2020-03-23 15:26:40</td>\n",
       "      <td>1</td>\n",
       "      <td>74</td>\n",
       "      <td>0.700000</td>\n",
       "    </tr>\n",
       "    <tr>\n",
       "      <th>763</th>\n",
       "      <td>1242091822429679617</td>\n",
       "      <td>thought issue loans sorted relationship curren...</td>\n",
       "      <td>2020-03-23 14:12:22</td>\n",
       "      <td>0</td>\n",
       "      <td>69</td>\n",
       "      <td>0.000000</td>\n",
       "    </tr>\n",
       "    <tr>\n",
       "      <th>202</th>\n",
       "      <td>1242084672101920768</td>\n",
       "      <td>ok let get straightuhurukenyatta called press ...</td>\n",
       "      <td>2020-03-23 13:43:57</td>\n",
       "      <td>1</td>\n",
       "      <td>88</td>\n",
       "      <td>0.500000</td>\n",
       "    </tr>\n",
       "    <tr>\n",
       "      <th>842</th>\n",
       "      <td>1242088826421600259</td>\n",
       "      <td>saa zingine ata cant believe ourus audacity as...</td>\n",
       "      <td>2020-03-23 14:00:27</td>\n",
       "      <td>2</td>\n",
       "      <td>84</td>\n",
       "      <td>0.000000</td>\n",
       "    </tr>\n",
       "    <tr>\n",
       "      <th>491</th>\n",
       "      <td>1242071858083758080</td>\n",
       "      <td>govt put adequate measure prevent corona enter...</td>\n",
       "      <td>2020-03-23 12:53:02</td>\n",
       "      <td>0</td>\n",
       "      <td>76</td>\n",
       "      <td>0.333333</td>\n",
       "    </tr>\n",
       "    <tr>\n",
       "      <th>130</th>\n",
       "      <td>1242118313179840513</td>\n",
       "      <td>god heal world</td>\n",
       "      <td>2020-03-23 15:57:37</td>\n",
       "      <td>1</td>\n",
       "      <td>14</td>\n",
       "      <td>0.000000</td>\n",
       "    </tr>\n",
       "    <tr>\n",
       "      <th>679</th>\n",
       "      <td>1242095051804737536</td>\n",
       "      <td>kagwe appeal kenyans take matter seriously</td>\n",
       "      <td>2020-03-23 14:25:12</td>\n",
       "      <td>0</td>\n",
       "      <td>42</td>\n",
       "      <td>-0.333333</td>\n",
       "    </tr>\n",
       "    <tr>\n",
       "      <th>1186</th>\n",
       "      <td>1242064012797530112</td>\n",
       "      <td>oleitumbi time put mandatory hate happening it...</td>\n",
       "      <td>2020-03-23 12:21:51</td>\n",
       "      <td>1</td>\n",
       "      <td>82</td>\n",
       "      <td>-0.800000</td>\n",
       "    </tr>\n",
       "    <tr>\n",
       "      <th>337</th>\n",
       "      <td>1242107775435628546</td>\n",
       "      <td>huyu priest manze ametumess sana thing hits ea...</td>\n",
       "      <td>2020-03-23 15:15:45</td>\n",
       "      <td>0</td>\n",
       "      <td>58</td>\n",
       "      <td>0.000000</td>\n",
       "    </tr>\n",
       "    <tr>\n",
       "      <th>516</th>\n",
       "      <td>1242100273423810560</td>\n",
       "      <td>forced quarantine thing isnt working let peopl...</td>\n",
       "      <td>2020-03-23 14:45:56</td>\n",
       "      <td>1</td>\n",
       "      <td>75</td>\n",
       "      <td>0.212121</td>\n",
       "    </tr>\n",
       "    <tr>\n",
       "      <th>260</th>\n",
       "      <td>1242064947414216705</td>\n",
       "      <td>look calm deep inside really want talk corona ...</td>\n",
       "      <td>2020-03-23 12:25:34</td>\n",
       "      <td>2</td>\n",
       "      <td>58</td>\n",
       "      <td>0.166667</td>\n",
       "    </tr>\n",
       "    <tr>\n",
       "      <th>1158</th>\n",
       "      <td>1242065797641633797</td>\n",
       "      <td>critical painful fact government obviously ove...</td>\n",
       "      <td>2020-03-23 12:28:57</td>\n",
       "      <td>0</td>\n",
       "      <td>77</td>\n",
       "      <td>-0.233333</td>\n",
       "    </tr>\n",
       "    <tr>\n",
       "      <th>962</th>\n",
       "      <td>1242081187079823362</td>\n",
       "      <td>oamollo yet many us keep insisting meet places...</td>\n",
       "      <td>2020-03-23 13:30:06</td>\n",
       "      <td>0</td>\n",
       "      <td>85</td>\n",
       "      <td>0.500000</td>\n",
       "    </tr>\n",
       "    <tr>\n",
       "      <th>1146</th>\n",
       "      <td>1242066508483899395</td>\n",
       "      <td>survivors black survivorssome people got every...</td>\n",
       "      <td>2020-03-23 12:31:46</td>\n",
       "      <td>0</td>\n",
       "      <td>88</td>\n",
       "      <td>-0.166667</td>\n",
       "    </tr>\n",
       "    <tr>\n",
       "      <th>330</th>\n",
       "      <td>1242107920826892289</td>\n",
       "      <td>tracking covid africa check</td>\n",
       "      <td>2020-03-23 15:16:20</td>\n",
       "      <td>0</td>\n",
       "      <td>27</td>\n",
       "      <td>0.000000</td>\n",
       "    </tr>\n",
       "    <tr>\n",
       "      <th>98</th>\n",
       "      <td>1242120003631091719</td>\n",
       "      <td>afraid coronavirus pandemic coronarovirus work...</td>\n",
       "      <td>2020-03-23 16:04:20</td>\n",
       "      <td>0</td>\n",
       "      <td>78</td>\n",
       "      <td>-0.600000</td>\n",
       "    </tr>\n",
       "    <tr>\n",
       "      <th>632</th>\n",
       "      <td>1242096696550658048</td>\n",
       "      <td>african countries cannot afford lockdown must ...</td>\n",
       "      <td>2020-03-23 14:31:44</td>\n",
       "      <td>1</td>\n",
       "      <td>74</td>\n",
       "      <td>0.100000</td>\n",
       "    </tr>\n",
       "    <tr>\n",
       "      <th>581</th>\n",
       "      <td>1242067277010386951</td>\n",
       "      <td>young men especially dnatesting kshs spend sav...</td>\n",
       "      <td>2020-03-23 12:34:49</td>\n",
       "      <td>0</td>\n",
       "      <td>62</td>\n",
       "      <td>0.050000</td>\n",
       "    </tr>\n",
       "    <tr>\n",
       "      <th>908</th>\n",
       "      <td>1242067274170863618</td>\n",
       "      <td>kenyan government known copycatting policies d...</td>\n",
       "      <td>2020-03-23 12:34:49</td>\n",
       "      <td>1</td>\n",
       "      <td>97</td>\n",
       "      <td>0.050000</td>\n",
       "    </tr>\n",
       "    <tr>\n",
       "      <th>664</th>\n",
       "      <td>1242095553099546626</td>\n",
       "      <td>though government briefs us daily matters tend...</td>\n",
       "      <td>2020-03-23 14:27:11</td>\n",
       "      <td>2</td>\n",
       "      <td>63</td>\n",
       "      <td>0.000000</td>\n",
       "    </tr>\n",
       "    <tr>\n",
       "      <th>1143</th>\n",
       "      <td>1242066797572042753</td>\n",
       "      <td>recovering kenyan shares storypositivevibes covid</td>\n",
       "      <td>2020-03-23 12:32:55</td>\n",
       "      <td>0</td>\n",
       "      <td>49</td>\n",
       "      <td>0.000000</td>\n",
       "    </tr>\n",
       "    <tr>\n",
       "      <th>258</th>\n",
       "      <td>1242065069875310593</td>\n",
       "      <td>let kenyan top official advocate corona health...</td>\n",
       "      <td>2020-03-23 12:26:03</td>\n",
       "      <td>1</td>\n",
       "      <td>91</td>\n",
       "      <td>0.500000</td>\n",
       "    </tr>\n",
       "    <tr>\n",
       "      <th>1118</th>\n",
       "      <td>1242069442491711494</td>\n",
       "      <td>three kakamega county officials came back trip...</td>\n",
       "      <td>2020-03-23 12:43:26</td>\n",
       "      <td>0</td>\n",
       "      <td>84</td>\n",
       "      <td>-0.250000</td>\n",
       "    </tr>\n",
       "    <tr>\n",
       "      <th>502</th>\n",
       "      <td>1242100908353355780</td>\n",
       "      <td>president uhuru kenyatta google wataanza kutup...</td>\n",
       "      <td>2020-03-23 14:48:28</td>\n",
       "      <td>1</td>\n",
       "      <td>95</td>\n",
       "      <td>0.400000</td>\n",
       "    </tr>\n",
       "    <tr>\n",
       "      <th>28</th>\n",
       "      <td>1242115601608261634</td>\n",
       "      <td>joekiash even cook bado cjapata recipe</td>\n",
       "      <td>2020-03-23 15:46:51</td>\n",
       "      <td>1</td>\n",
       "      <td>38</td>\n",
       "      <td>0.000000</td>\n",
       "    </tr>\n",
       "    <tr>\n",
       "      <th>1137</th>\n",
       "      <td>1242067432816205824</td>\n",
       "      <td>government also provide free condoms everyone ...</td>\n",
       "      <td>2020-03-23 12:35:27</td>\n",
       "      <td>0</td>\n",
       "      <td>88</td>\n",
       "      <td>0.400000</td>\n",
       "    </tr>\n",
       "    <tr>\n",
       "      <th>138</th>\n",
       "      <td>1242117974460370948</td>\n",
       "      <td>kenya kenyans mohkenya way kenyashallovercome ...</td>\n",
       "      <td>2020-03-23 15:56:17</td>\n",
       "      <td>0</td>\n",
       "      <td>65</td>\n",
       "      <td>0.000000</td>\n",
       "    </tr>\n",
       "    <tr>\n",
       "      <th>948</th>\n",
       "      <td>1242081632414248960</td>\n",
       "      <td>great option incorporate meditation regular ro...</td>\n",
       "      <td>2020-03-23 13:31:52</td>\n",
       "      <td>0</td>\n",
       "      <td>85</td>\n",
       "      <td>0.400000</td>\n",
       "    </tr>\n",
       "    <tr>\n",
       "      <th>1059</th>\n",
       "      <td>1242074386271780865</td>\n",
       "      <td>comment reading association read commentsi app...</td>\n",
       "      <td>2020-03-23 13:03:04</td>\n",
       "      <td>0</td>\n",
       "      <td>68</td>\n",
       "      <td>0.000000</td>\n",
       "    </tr>\n",
       "    <tr>\n",
       "      <th>1131</th>\n",
       "      <td>1242067946790363136</td>\n",
       "      <td>rt belasilimited medicine found till staying home</td>\n",
       "      <td>2020-03-23 12:37:29</td>\n",
       "      <td>0</td>\n",
       "      <td>49</td>\n",
       "      <td>0.000000</td>\n",
       "    </tr>\n",
       "  </tbody>\n",
       "</table>\n",
       "</div>"
      ],
      "text/plain": [
       "                 tweet_id                                               text  \\\n",
       "165   1242110521903591424  dear kenyan stand italy washed hands kept good...   \n",
       "763   1242091822429679617  thought issue loans sorted relationship curren...   \n",
       "202   1242084672101920768  ok let get straightuhurukenyatta called press ...   \n",
       "842   1242088826421600259  saa zingine ata cant believe ourus audacity as...   \n",
       "491   1242071858083758080  govt put adequate measure prevent corona enter...   \n",
       "130   1242118313179840513                                     god heal world   \n",
       "679   1242095051804737536         kagwe appeal kenyans take matter seriously   \n",
       "1186  1242064012797530112  oleitumbi time put mandatory hate happening it...   \n",
       "337   1242107775435628546  huyu priest manze ametumess sana thing hits ea...   \n",
       "516   1242100273423810560  forced quarantine thing isnt working let peopl...   \n",
       "260   1242064947414216705  look calm deep inside really want talk corona ...   \n",
       "1158  1242065797641633797  critical painful fact government obviously ove...   \n",
       "962   1242081187079823362  oamollo yet many us keep insisting meet places...   \n",
       "1146  1242066508483899395  survivors black survivorssome people got every...   \n",
       "330   1242107920826892289                        tracking covid africa check   \n",
       "98    1242120003631091719  afraid coronavirus pandemic coronarovirus work...   \n",
       "632   1242096696550658048  african countries cannot afford lockdown must ...   \n",
       "581   1242067277010386951  young men especially dnatesting kshs spend sav...   \n",
       "908   1242067274170863618  kenyan government known copycatting policies d...   \n",
       "664   1242095553099546626  though government briefs us daily matters tend...   \n",
       "1143  1242066797572042753  recovering kenyan shares storypositivevibes covid   \n",
       "258   1242065069875310593  let kenyan top official advocate corona health...   \n",
       "1118  1242069442491711494  three kakamega county officials came back trip...   \n",
       "502   1242100908353355780  president uhuru kenyatta google wataanza kutup...   \n",
       "28    1242115601608261634             joekiash even cook bado cjapata recipe   \n",
       "1137  1242067432816205824  government also provide free condoms everyone ...   \n",
       "138   1242117974460370948  kenya kenyans mohkenya way kenyashallovercome ...   \n",
       "948   1242081632414248960  great option incorporate meditation regular ro...   \n",
       "1059  1242074386271780865  comment reading association read commentsi app...   \n",
       "1131  1242067946790363136  rt belasilimited medicine found till staying home   \n",
       "\n",
       "               created_at  likes  text length  polarity  \n",
       "165   2020-03-23 15:26:40      1           74  0.700000  \n",
       "763   2020-03-23 14:12:22      0           69  0.000000  \n",
       "202   2020-03-23 13:43:57      1           88  0.500000  \n",
       "842   2020-03-23 14:00:27      2           84  0.000000  \n",
       "491   2020-03-23 12:53:02      0           76  0.333333  \n",
       "130   2020-03-23 15:57:37      1           14  0.000000  \n",
       "679   2020-03-23 14:25:12      0           42 -0.333333  \n",
       "1186  2020-03-23 12:21:51      1           82 -0.800000  \n",
       "337   2020-03-23 15:15:45      0           58  0.000000  \n",
       "516   2020-03-23 14:45:56      1           75  0.212121  \n",
       "260   2020-03-23 12:25:34      2           58  0.166667  \n",
       "1158  2020-03-23 12:28:57      0           77 -0.233333  \n",
       "962   2020-03-23 13:30:06      0           85  0.500000  \n",
       "1146  2020-03-23 12:31:46      0           88 -0.166667  \n",
       "330   2020-03-23 15:16:20      0           27  0.000000  \n",
       "98    2020-03-23 16:04:20      0           78 -0.600000  \n",
       "632   2020-03-23 14:31:44      1           74  0.100000  \n",
       "581   2020-03-23 12:34:49      0           62  0.050000  \n",
       "908   2020-03-23 12:34:49      1           97  0.050000  \n",
       "664   2020-03-23 14:27:11      2           63  0.000000  \n",
       "1143  2020-03-23 12:32:55      0           49  0.000000  \n",
       "258   2020-03-23 12:26:03      1           91  0.500000  \n",
       "1118  2020-03-23 12:43:26      0           84 -0.250000  \n",
       "502   2020-03-23 14:48:28      1           95  0.400000  \n",
       "28    2020-03-23 15:46:51      1           38  0.000000  \n",
       "1137  2020-03-23 12:35:27      0           88  0.400000  \n",
       "138   2020-03-23 15:56:17      0           65  0.000000  \n",
       "948   2020-03-23 13:31:52      0           85  0.400000  \n",
       "1059  2020-03-23 13:03:04      0           68  0.000000  \n",
       "1131  2020-03-23 12:37:29      0           49  0.000000  "
      ]
     },
     "execution_count": 27,
     "metadata": {},
     "output_type": "execute_result"
    }
   ],
   "source": [
    "tweets.sample(30)"
   ]
  },
  {
   "cell_type": "markdown",
   "metadata": {},
   "source": [
    "Tweets with lowest polarity(-1)"
   ]
  },
  {
   "cell_type": "code",
   "execution_count": 28,
   "metadata": {},
   "outputs": [
    {
     "data": {
      "text/html": [
       "<div>\n",
       "<style scoped>\n",
       "    .dataframe tbody tr th:only-of-type {\n",
       "        vertical-align: middle;\n",
       "    }\n",
       "\n",
       "    .dataframe tbody tr th {\n",
       "        vertical-align: top;\n",
       "    }\n",
       "\n",
       "    .dataframe thead th {\n",
       "        text-align: right;\n",
       "    }\n",
       "</style>\n",
       "<table border=\"1\" class=\"dataframe\">\n",
       "  <thead>\n",
       "    <tr style=\"text-align: right;\">\n",
       "      <th></th>\n",
       "      <th>tweet_id</th>\n",
       "      <th>text</th>\n",
       "      <th>created_at</th>\n",
       "      <th>likes</th>\n",
       "      <th>text length</th>\n",
       "      <th>polarity</th>\n",
       "    </tr>\n",
       "  </thead>\n",
       "  <tbody>\n",
       "    <tr>\n",
       "      <th>357</th>\n",
       "      <td>1242106974927573000</td>\n",
       "      <td>safaricomplc apana tunataka zile za mbs dont t...</td>\n",
       "      <td>2020-03-23 15:12:34</td>\n",
       "      <td>2</td>\n",
       "      <td>90</td>\n",
       "      <td>-1.0</td>\n",
       "    </tr>\n",
       "    <tr>\n",
       "      <th>645</th>\n",
       "      <td>1242096205234085894</td>\n",
       "      <td>worst thing mulikacorona father mother brother...</td>\n",
       "      <td>2020-03-23 14:29:47</td>\n",
       "      <td>1</td>\n",
       "      <td>68</td>\n",
       "      <td>-1.0</td>\n",
       "    </tr>\n",
       "    <tr>\n",
       "      <th>1009</th>\n",
       "      <td>1242077721976545280</td>\n",
       "      <td>kplccustomercare worst time cut lights covid m...</td>\n",
       "      <td>2020-03-23 13:16:20</td>\n",
       "      <td>0</td>\n",
       "      <td>70</td>\n",
       "      <td>-1.0</td>\n",
       "    </tr>\n",
       "  </tbody>\n",
       "</table>\n",
       "</div>"
      ],
      "text/plain": [
       "                 tweet_id                                               text  \\\n",
       "357   1242106974927573000  safaricomplc apana tunataka zile za mbs dont t...   \n",
       "645   1242096205234085894  worst thing mulikacorona father mother brother...   \n",
       "1009  1242077721976545280  kplccustomercare worst time cut lights covid m...   \n",
       "\n",
       "               created_at  likes  text length  polarity  \n",
       "357   2020-03-23 15:12:34      2           90      -1.0  \n",
       "645   2020-03-23 14:29:47      1           68      -1.0  \n",
       "1009  2020-03-23 13:16:20      0           70      -1.0  "
      ]
     },
     "execution_count": 28,
     "metadata": {},
     "output_type": "execute_result"
    }
   ],
   "source": [
    "tweets[tweets['polarity'] == -1]"
   ]
  },
  {
   "cell_type": "markdown",
   "metadata": {},
   "source": [
    "Tweets with polarity 0"
   ]
  },
  {
   "cell_type": "code",
   "execution_count": 29,
   "metadata": {},
   "outputs": [
    {
     "data": {
      "text/html": [
       "<div>\n",
       "<style scoped>\n",
       "    .dataframe tbody tr th:only-of-type {\n",
       "        vertical-align: middle;\n",
       "    }\n",
       "\n",
       "    .dataframe tbody tr th {\n",
       "        vertical-align: top;\n",
       "    }\n",
       "\n",
       "    .dataframe thead th {\n",
       "        text-align: right;\n",
       "    }\n",
       "</style>\n",
       "<table border=\"1\" class=\"dataframe\">\n",
       "  <thead>\n",
       "    <tr style=\"text-align: right;\">\n",
       "      <th></th>\n",
       "      <th>tweet_id</th>\n",
       "      <th>text</th>\n",
       "      <th>created_at</th>\n",
       "      <th>likes</th>\n",
       "      <th>text length</th>\n",
       "      <th>polarity</th>\n",
       "    </tr>\n",
       "  </thead>\n",
       "  <tbody>\n",
       "    <tr>\n",
       "      <th>1</th>\n",
       "      <td>1242123396684697603</td>\n",
       "      <td>next one week</td>\n",
       "      <td>2020-03-23 16:17:49</td>\n",
       "      <td>0</td>\n",
       "      <td>13</td>\n",
       "      <td>0.0</td>\n",
       "    </tr>\n",
       "    <tr>\n",
       "      <th>2</th>\n",
       "      <td>1242123373188124673</td>\n",
       "      <td>lockdownnow uhurukenyatta imagine people copin...</td>\n",
       "      <td>2020-03-23 16:17:44</td>\n",
       "      <td>0</td>\n",
       "      <td>71</td>\n",
       "      <td>0.0</td>\n",
       "    </tr>\n",
       "    <tr>\n",
       "      <th>3</th>\n",
       "      <td>1242086219519012867</td>\n",
       "      <td>internet never forget remind resorted internet...</td>\n",
       "      <td>2020-03-23 13:50:06</td>\n",
       "      <td>0</td>\n",
       "      <td>59</td>\n",
       "      <td>0.0</td>\n",
       "    </tr>\n",
       "    <tr>\n",
       "      <th>4</th>\n",
       "      <td>1242123367882330113</td>\n",
       "      <td>ntsakenya dcikenya theyll provide food outdoor...</td>\n",
       "      <td>2020-03-23 16:17:43</td>\n",
       "      <td>0</td>\n",
       "      <td>67</td>\n",
       "      <td>0.0</td>\n",
       "    </tr>\n",
       "    <tr>\n",
       "      <th>5</th>\n",
       "      <td>1242123307903844353</td>\n",
       "      <td>like hassanalijoho said total shutdown</td>\n",
       "      <td>2020-03-23 16:17:28</td>\n",
       "      <td>0</td>\n",
       "      <td>38</td>\n",
       "      <td>0.0</td>\n",
       "    </tr>\n",
       "    <tr>\n",
       "      <th>...</th>\n",
       "      <td>...</td>\n",
       "      <td>...</td>\n",
       "      <td>...</td>\n",
       "      <td>...</td>\n",
       "      <td>...</td>\n",
       "      <td>...</td>\n",
       "    </tr>\n",
       "    <tr>\n",
       "      <th>1181</th>\n",
       "      <td>1242064302816874502</td>\n",
       "      <td>itsjakusa georgew inequality kenya different i...</td>\n",
       "      <td>2020-03-23 12:23:00</td>\n",
       "      <td>0</td>\n",
       "      <td>68</td>\n",
       "      <td>0.0</td>\n",
       "    </tr>\n",
       "    <tr>\n",
       "      <th>1182</th>\n",
       "      <td>1242064212895174662</td>\n",
       "      <td>death zimbabwe corona virus cases</td>\n",
       "      <td>2020-03-23 12:22:39</td>\n",
       "      <td>4</td>\n",
       "      <td>33</td>\n",
       "      <td>0.0</td>\n",
       "    </tr>\n",
       "    <tr>\n",
       "      <th>1183</th>\n",
       "      <td>1242064211800477697</td>\n",
       "      <td>three kakamega county officials came back trip...</td>\n",
       "      <td>2020-03-23 12:22:39</td>\n",
       "      <td>2</td>\n",
       "      <td>83</td>\n",
       "      <td>0.0</td>\n",
       "    </tr>\n",
       "    <tr>\n",
       "      <th>1184</th>\n",
       "      <td>1242064200840744960</td>\n",
       "      <td>lets graceful enough observe protocol stay mat...</td>\n",
       "      <td>2020-03-23 12:22:36</td>\n",
       "      <td>2</td>\n",
       "      <td>70</td>\n",
       "      <td>0.0</td>\n",
       "    </tr>\n",
       "    <tr>\n",
       "      <th>1187</th>\n",
       "      <td>1242063970632163329</td>\n",
       "      <td>people lose trust institutions governing becom...</td>\n",
       "      <td>2020-03-23 12:21:41</td>\n",
       "      <td>1</td>\n",
       "      <td>72</td>\n",
       "      <td>0.0</td>\n",
       "    </tr>\n",
       "  </tbody>\n",
       "</table>\n",
       "<p>589 rows × 6 columns</p>\n",
       "</div>"
      ],
      "text/plain": [
       "                 tweet_id                                               text  \\\n",
       "1     1242123396684697603                                      next one week   \n",
       "2     1242123373188124673  lockdownnow uhurukenyatta imagine people copin...   \n",
       "3     1242086219519012867  internet never forget remind resorted internet...   \n",
       "4     1242123367882330113  ntsakenya dcikenya theyll provide food outdoor...   \n",
       "5     1242123307903844353             like hassanalijoho said total shutdown   \n",
       "...                   ...                                                ...   \n",
       "1181  1242064302816874502  itsjakusa georgew inequality kenya different i...   \n",
       "1182  1242064212895174662                  death zimbabwe corona virus cases   \n",
       "1183  1242064211800477697  three kakamega county officials came back trip...   \n",
       "1184  1242064200840744960  lets graceful enough observe protocol stay mat...   \n",
       "1187  1242063970632163329  people lose trust institutions governing becom...   \n",
       "\n",
       "               created_at  likes  text length  polarity  \n",
       "1     2020-03-23 16:17:49      0           13       0.0  \n",
       "2     2020-03-23 16:17:44      0           71       0.0  \n",
       "3     2020-03-23 13:50:06      0           59       0.0  \n",
       "4     2020-03-23 16:17:43      0           67       0.0  \n",
       "5     2020-03-23 16:17:28      0           38       0.0  \n",
       "...                   ...    ...          ...       ...  \n",
       "1181  2020-03-23 12:23:00      0           68       0.0  \n",
       "1182  2020-03-23 12:22:39      4           33       0.0  \n",
       "1183  2020-03-23 12:22:39      2           83       0.0  \n",
       "1184  2020-03-23 12:22:36      2           70       0.0  \n",
       "1187  2020-03-23 12:21:41      1           72       0.0  \n",
       "\n",
       "[589 rows x 6 columns]"
      ]
     },
     "execution_count": 29,
     "metadata": {},
     "output_type": "execute_result"
    }
   ],
   "source": [
    "tweets[tweets['polarity'] == 0]"
   ]
  },
  {
   "cell_type": "markdown",
   "metadata": {},
   "source": [
    "Tweets with highest polarity(1)"
   ]
  },
  {
   "cell_type": "code",
   "execution_count": 30,
   "metadata": {},
   "outputs": [
    {
     "data": {
      "text/html": [
       "<div>\n",
       "<style scoped>\n",
       "    .dataframe tbody tr th:only-of-type {\n",
       "        vertical-align: middle;\n",
       "    }\n",
       "\n",
       "    .dataframe tbody tr th {\n",
       "        vertical-align: top;\n",
       "    }\n",
       "\n",
       "    .dataframe thead th {\n",
       "        text-align: right;\n",
       "    }\n",
       "</style>\n",
       "<table border=\"1\" class=\"dataframe\">\n",
       "  <thead>\n",
       "    <tr style=\"text-align: right;\">\n",
       "      <th></th>\n",
       "      <th>tweet_id</th>\n",
       "      <th>text</th>\n",
       "      <th>created_at</th>\n",
       "      <th>likes</th>\n",
       "      <th>text length</th>\n",
       "      <th>polarity</th>\n",
       "    </tr>\n",
       "  </thead>\n",
       "  <tbody>\n",
       "    <tr>\n",
       "      <th>237</th>\n",
       "      <td>1242112888082481153</td>\n",
       "      <td>lets best version selves crisis tupendane</td>\n",
       "      <td>2020-03-23 15:36:04</td>\n",
       "      <td>0</td>\n",
       "      <td>41</td>\n",
       "      <td>1.0</td>\n",
       "    </tr>\n",
       "    <tr>\n",
       "      <th>1055</th>\n",
       "      <td>1242074830842793985</td>\n",
       "      <td>probably best thing youll read today click link</td>\n",
       "      <td>2020-03-23 13:04:50</td>\n",
       "      <td>1</td>\n",
       "      <td>47</td>\n",
       "      <td>1.0</td>\n",
       "    </tr>\n",
       "    <tr>\n",
       "      <th>1066</th>\n",
       "      <td>1242073657297551370</td>\n",
       "      <td>create best shoe impression minuel minuelfalet...</td>\n",
       "      <td>2020-03-23 13:00:11</td>\n",
       "      <td>0</td>\n",
       "      <td>87</td>\n",
       "      <td>1.0</td>\n",
       "    </tr>\n",
       "  </tbody>\n",
       "</table>\n",
       "</div>"
      ],
      "text/plain": [
       "                 tweet_id                                               text  \\\n",
       "237   1242112888082481153          lets best version selves crisis tupendane   \n",
       "1055  1242074830842793985    probably best thing youll read today click link   \n",
       "1066  1242073657297551370  create best shoe impression minuel minuelfalet...   \n",
       "\n",
       "               created_at  likes  text length  polarity  \n",
       "237   2020-03-23 15:36:04      0           41       1.0  \n",
       "1055  2020-03-23 13:04:50      1           47       1.0  \n",
       "1066  2020-03-23 13:00:11      0           87       1.0  "
      ]
     },
     "execution_count": 30,
     "metadata": {},
     "output_type": "execute_result"
    }
   ],
   "source": [
    "tweets[tweets['polarity'] == 1]"
   ]
  },
  {
   "cell_type": "code",
   "execution_count": 31,
   "metadata": {},
   "outputs": [],
   "source": [
    "# It is evident that almost half of the obtained tweets have polarity 0"
   ]
  },
  {
   "cell_type": "markdown",
   "metadata": {},
   "source": [
    "Tweets with negative polarity"
   ]
  },
  {
   "cell_type": "code",
   "execution_count": 32,
   "metadata": {},
   "outputs": [
    {
     "data": {
      "text/html": [
       "<div>\n",
       "<style scoped>\n",
       "    .dataframe tbody tr th:only-of-type {\n",
       "        vertical-align: middle;\n",
       "    }\n",
       "\n",
       "    .dataframe tbody tr th {\n",
       "        vertical-align: top;\n",
       "    }\n",
       "\n",
       "    .dataframe thead th {\n",
       "        text-align: right;\n",
       "    }\n",
       "</style>\n",
       "<table border=\"1\" class=\"dataframe\">\n",
       "  <thead>\n",
       "    <tr style=\"text-align: right;\">\n",
       "      <th></th>\n",
       "      <th>tweet_id</th>\n",
       "      <th>text</th>\n",
       "      <th>created_at</th>\n",
       "      <th>likes</th>\n",
       "      <th>text length</th>\n",
       "      <th>polarity</th>\n",
       "    </tr>\n",
       "  </thead>\n",
       "  <tbody>\n",
       "    <tr>\n",
       "      <th>10</th>\n",
       "      <td>1242099789694750720</td>\n",
       "      <td>need help mean ukipata corona nkama uko na aid...</td>\n",
       "      <td>2020-03-23 14:44:01</td>\n",
       "      <td>1</td>\n",
       "      <td>52</td>\n",
       "      <td>-0.3125</td>\n",
       "    </tr>\n",
       "    <tr>\n",
       "      <th>11</th>\n",
       "      <td>1242099788893564929</td>\n",
       "      <td>money pandemic difficult chose dying hunger</td>\n",
       "      <td>2020-03-23 14:44:01</td>\n",
       "      <td>0</td>\n",
       "      <td>43</td>\n",
       "      <td>-0.5000</td>\n",
       "    </tr>\n",
       "    <tr>\n",
       "      <th>26</th>\n",
       "      <td>1242085595842838529</td>\n",
       "      <td>unga revolution weve waiting may unravel hang ...</td>\n",
       "      <td>2020-03-23 13:47:37</td>\n",
       "      <td>0</td>\n",
       "      <td>63</td>\n",
       "      <td>-0.3000</td>\n",
       "    </tr>\n",
       "    <tr>\n",
       "      <th>27</th>\n",
       "      <td>1242122438814715904</td>\n",
       "      <td>time want see kenyans billionaires coming help...</td>\n",
       "      <td>2020-03-23 16:14:01</td>\n",
       "      <td>0</td>\n",
       "      <td>76</td>\n",
       "      <td>-0.4000</td>\n",
       "    </tr>\n",
       "    <tr>\n",
       "      <th>40</th>\n",
       "      <td>1242122030373318657</td>\n",
       "      <td>wanted knowwhat logic behind gap bathroom door...</td>\n",
       "      <td>2020-03-23 16:12:24</td>\n",
       "      <td>0</td>\n",
       "      <td>74</td>\n",
       "      <td>-0.4000</td>\n",
       "    </tr>\n",
       "    <tr>\n",
       "      <th>...</th>\n",
       "      <td>...</td>\n",
       "      <td>...</td>\n",
       "      <td>...</td>\n",
       "      <td>...</td>\n",
       "      <td>...</td>\n",
       "      <td>...</td>\n",
       "    </tr>\n",
       "    <tr>\n",
       "      <th>1172</th>\n",
       "      <td>1242064801540591621</td>\n",
       "      <td>citizentvkenya sad god bless us god heals us</td>\n",
       "      <td>2020-03-23 12:24:59</td>\n",
       "      <td>3</td>\n",
       "      <td>44</td>\n",
       "      <td>-0.5000</td>\n",
       "    </tr>\n",
       "    <tr>\n",
       "      <th>1174</th>\n",
       "      <td>1242064688533438464</td>\n",
       "      <td>startimeskenya poor services ways pandemic wat...</td>\n",
       "      <td>2020-03-23 12:24:32</td>\n",
       "      <td>2</td>\n",
       "      <td>58</td>\n",
       "      <td>-0.4000</td>\n",
       "    </tr>\n",
       "    <tr>\n",
       "      <th>1186</th>\n",
       "      <td>1242064012797530112</td>\n",
       "      <td>oleitumbi time put mandatory hate happening it...</td>\n",
       "      <td>2020-03-23 12:21:51</td>\n",
       "      <td>1</td>\n",
       "      <td>82</td>\n",
       "      <td>-0.8000</td>\n",
       "    </tr>\n",
       "    <tr>\n",
       "      <th>1188</th>\n",
       "      <td>1242063856727396352</td>\n",
       "      <td>mwendwafelix cisnyakundi robertalai levels inc...</td>\n",
       "      <td>2020-03-23 12:21:14</td>\n",
       "      <td>2</td>\n",
       "      <td>87</td>\n",
       "      <td>-0.3500</td>\n",
       "    </tr>\n",
       "    <tr>\n",
       "      <th>1189</th>\n",
       "      <td>1242063643883307008</td>\n",
       "      <td>next corona virus strain even deadly see rippi...</td>\n",
       "      <td>2020-03-23 12:20:23</td>\n",
       "      <td>1</td>\n",
       "      <td>70</td>\n",
       "      <td>-0.1000</td>\n",
       "    </tr>\n",
       "  </tbody>\n",
       "</table>\n",
       "<p>208 rows × 6 columns</p>\n",
       "</div>"
      ],
      "text/plain": [
       "                 tweet_id                                               text  \\\n",
       "10    1242099789694750720  need help mean ukipata corona nkama uko na aid...   \n",
       "11    1242099788893564929        money pandemic difficult chose dying hunger   \n",
       "26    1242085595842838529  unga revolution weve waiting may unravel hang ...   \n",
       "27    1242122438814715904  time want see kenyans billionaires coming help...   \n",
       "40    1242122030373318657  wanted knowwhat logic behind gap bathroom door...   \n",
       "...                   ...                                                ...   \n",
       "1172  1242064801540591621       citizentvkenya sad god bless us god heals us   \n",
       "1174  1242064688533438464  startimeskenya poor services ways pandemic wat...   \n",
       "1186  1242064012797530112  oleitumbi time put mandatory hate happening it...   \n",
       "1188  1242063856727396352  mwendwafelix cisnyakundi robertalai levels inc...   \n",
       "1189  1242063643883307008  next corona virus strain even deadly see rippi...   \n",
       "\n",
       "               created_at  likes  text length  polarity  \n",
       "10    2020-03-23 14:44:01      1           52   -0.3125  \n",
       "11    2020-03-23 14:44:01      0           43   -0.5000  \n",
       "26    2020-03-23 13:47:37      0           63   -0.3000  \n",
       "27    2020-03-23 16:14:01      0           76   -0.4000  \n",
       "40    2020-03-23 16:12:24      0           74   -0.4000  \n",
       "...                   ...    ...          ...       ...  \n",
       "1172  2020-03-23 12:24:59      3           44   -0.5000  \n",
       "1174  2020-03-23 12:24:32      2           58   -0.4000  \n",
       "1186  2020-03-23 12:21:51      1           82   -0.8000  \n",
       "1188  2020-03-23 12:21:14      2           87   -0.3500  \n",
       "1189  2020-03-23 12:20:23      1           70   -0.1000  \n",
       "\n",
       "[208 rows x 6 columns]"
      ]
     },
     "execution_count": 32,
     "metadata": {},
     "output_type": "execute_result"
    }
   ],
   "source": [
    "tweets[tweets['polarity'] < 0]"
   ]
  },
  {
   "cell_type": "markdown",
   "metadata": {},
   "source": [
    "Tweets with positive polarity"
   ]
  },
  {
   "cell_type": "code",
   "execution_count": 33,
   "metadata": {},
   "outputs": [
    {
     "data": {
      "text/html": [
       "<div>\n",
       "<style scoped>\n",
       "    .dataframe tbody tr th:only-of-type {\n",
       "        vertical-align: middle;\n",
       "    }\n",
       "\n",
       "    .dataframe tbody tr th {\n",
       "        vertical-align: top;\n",
       "    }\n",
       "\n",
       "    .dataframe thead th {\n",
       "        text-align: right;\n",
       "    }\n",
       "</style>\n",
       "<table border=\"1\" class=\"dataframe\">\n",
       "  <thead>\n",
       "    <tr style=\"text-align: right;\">\n",
       "      <th></th>\n",
       "      <th>tweet_id</th>\n",
       "      <th>text</th>\n",
       "      <th>created_at</th>\n",
       "      <th>likes</th>\n",
       "      <th>text length</th>\n",
       "      <th>polarity</th>\n",
       "    </tr>\n",
       "  </thead>\n",
       "  <tbody>\n",
       "    <tr>\n",
       "      <th>0</th>\n",
       "      <td>1242123434466979841</td>\n",
       "      <td>everyday might good theres always something go...</td>\n",
       "      <td>2020-03-23 16:17:58</td>\n",
       "      <td>1</td>\n",
       "      <td>58</td>\n",
       "      <td>0.400000</td>\n",
       "    </tr>\n",
       "    <tr>\n",
       "      <th>8</th>\n",
       "      <td>1242069774231887880</td>\n",
       "      <td>wish would much anticipated presidential addre...</td>\n",
       "      <td>2020-03-23 12:44:45</td>\n",
       "      <td>2</td>\n",
       "      <td>70</td>\n",
       "      <td>0.100000</td>\n",
       "    </tr>\n",
       "    <tr>\n",
       "      <th>13</th>\n",
       "      <td>1242116336739913728</td>\n",
       "      <td>taken since last friday buy gas seems differen...</td>\n",
       "      <td>2020-03-23 15:49:46</td>\n",
       "      <td>1</td>\n",
       "      <td>80</td>\n",
       "      <td>0.037500</td>\n",
       "    </tr>\n",
       "    <tr>\n",
       "      <th>16</th>\n",
       "      <td>1242122964608434181</td>\n",
       "      <td>togetherlets safe stop spread covid coronavirus</td>\n",
       "      <td>2020-03-23 16:16:06</td>\n",
       "      <td>1</td>\n",
       "      <td>47</td>\n",
       "      <td>0.500000</td>\n",
       "    </tr>\n",
       "    <tr>\n",
       "      <th>20</th>\n",
       "      <td>1242099340342067203</td>\n",
       "      <td>confirmed coronavirus cases kenya stands one c...</td>\n",
       "      <td>2020-03-23 14:42:14</td>\n",
       "      <td>5</td>\n",
       "      <td>83</td>\n",
       "      <td>0.400000</td>\n",
       "    </tr>\n",
       "    <tr>\n",
       "      <th>...</th>\n",
       "      <td>...</td>\n",
       "      <td>...</td>\n",
       "      <td>...</td>\n",
       "      <td>...</td>\n",
       "      <td>...</td>\n",
       "      <td>...</td>\n",
       "    </tr>\n",
       "    <tr>\n",
       "      <th>1168</th>\n",
       "      <td>1242064900278620160</td>\n",
       "      <td>go againhow many retweets usitoe io ngoma plea...</td>\n",
       "      <td>2020-03-23 12:25:23</td>\n",
       "      <td>2</td>\n",
       "      <td>78</td>\n",
       "      <td>0.500000</td>\n",
       "    </tr>\n",
       "    <tr>\n",
       "      <th>1170</th>\n",
       "      <td>1242064847866662913</td>\n",
       "      <td>nahashon way uk taking risks win google balloo...</td>\n",
       "      <td>2020-03-23 12:25:10</td>\n",
       "      <td>1</td>\n",
       "      <td>55</td>\n",
       "      <td>0.800000</td>\n",
       "    </tr>\n",
       "    <tr>\n",
       "      <th>1173</th>\n",
       "      <td>1242064784163573760</td>\n",
       "      <td>dating sugar momma online worth</td>\n",
       "      <td>2020-03-23 12:24:55</td>\n",
       "      <td>2</td>\n",
       "      <td>31</td>\n",
       "      <td>0.300000</td>\n",
       "    </tr>\n",
       "    <tr>\n",
       "      <th>1176</th>\n",
       "      <td>1242064663577272321</td>\n",
       "      <td>advice young cubs looking sugar mummy online</td>\n",
       "      <td>2020-03-23 12:24:26</td>\n",
       "      <td>1</td>\n",
       "      <td>44</td>\n",
       "      <td>0.100000</td>\n",
       "    </tr>\n",
       "    <tr>\n",
       "      <th>1185</th>\n",
       "      <td>1242064075405905921</td>\n",
       "      <td>siaya emergency response team sent trace conta...</td>\n",
       "      <td>2020-03-23 12:22:06</td>\n",
       "      <td>4</td>\n",
       "      <td>98</td>\n",
       "      <td>0.113636</td>\n",
       "    </tr>\n",
       "  </tbody>\n",
       "</table>\n",
       "<p>393 rows × 6 columns</p>\n",
       "</div>"
      ],
      "text/plain": [
       "                 tweet_id                                               text  \\\n",
       "0     1242123434466979841  everyday might good theres always something go...   \n",
       "8     1242069774231887880  wish would much anticipated presidential addre...   \n",
       "13    1242116336739913728  taken since last friday buy gas seems differen...   \n",
       "16    1242122964608434181    togetherlets safe stop spread covid coronavirus   \n",
       "20    1242099340342067203  confirmed coronavirus cases kenya stands one c...   \n",
       "...                   ...                                                ...   \n",
       "1168  1242064900278620160  go againhow many retweets usitoe io ngoma plea...   \n",
       "1170  1242064847866662913  nahashon way uk taking risks win google balloo...   \n",
       "1173  1242064784163573760                    dating sugar momma online worth   \n",
       "1176  1242064663577272321       advice young cubs looking sugar mummy online   \n",
       "1185  1242064075405905921  siaya emergency response team sent trace conta...   \n",
       "\n",
       "               created_at  likes  text length  polarity  \n",
       "0     2020-03-23 16:17:58      1           58  0.400000  \n",
       "8     2020-03-23 12:44:45      2           70  0.100000  \n",
       "13    2020-03-23 15:49:46      1           80  0.037500  \n",
       "16    2020-03-23 16:16:06      1           47  0.500000  \n",
       "20    2020-03-23 14:42:14      5           83  0.400000  \n",
       "...                   ...    ...          ...       ...  \n",
       "1168  2020-03-23 12:25:23      2           78  0.500000  \n",
       "1170  2020-03-23 12:25:10      1           55  0.800000  \n",
       "1173  2020-03-23 12:24:55      2           31  0.300000  \n",
       "1176  2020-03-23 12:24:26      1           44  0.100000  \n",
       "1185  2020-03-23 12:22:06      4           98  0.113636  \n",
       "\n",
       "[393 rows x 6 columns]"
      ]
     },
     "execution_count": 33,
     "metadata": {},
     "output_type": "execute_result"
    }
   ],
   "source": [
    "tweets[tweets['polarity'] > 0]"
   ]
  },
  {
   "cell_type": "markdown",
   "metadata": {},
   "source": [
    "## Some EDA"
   ]
  },
  {
   "cell_type": "code",
   "execution_count": 34,
   "metadata": {},
   "outputs": [],
   "source": [
    "import matplotlib.pyplot as plt\n",
    "%matplotlib inline\n",
    "\n",
    "import seaborn as sns\n",
    "sns.set_style('whitegrid')"
   ]
  },
  {
   "cell_type": "markdown",
   "metadata": {},
   "source": [
    "**Distribution of polarity**"
   ]
  },
  {
   "cell_type": "code",
   "execution_count": 35,
   "metadata": {},
   "outputs": [
    {
     "data": {
      "text/plain": [
       "<matplotlib.axes._subplots.AxesSubplot at 0x7f57e5719e90>"
      ]
     },
     "execution_count": 35,
     "metadata": {},
     "output_type": "execute_result"
    },
    {
     "data": {
      "image/png": "[encoded data removed]",
      "text/plain": [
       "<Figure size 432x288 with 1 Axes>"
      ]
     },
     "metadata": {},
     "output_type": "display_data"
    }
   ],
   "source": [
    "sns.distplot(tweets['polarity'], bins=50, kde=False)"
   ]
  },
  {
   "cell_type": "markdown",
   "metadata": {},
   "source": [
    "**Distribution of text length**"
   ]
  },
  {
   "cell_type": "code",
   "execution_count": 36,
   "metadata": {},
   "outputs": [
    {
     "data": {
      "text/plain": [
       "<matplotlib.axes._subplots.AxesSubplot at 0x7f57e63de650>"
      ]
     },
     "execution_count": 36,
     "metadata": {},
     "output_type": "execute_result"
    },
    {
     "data": {
      "image/png": "[encoded data removed]",
      "text/plain": [
       "<Figure size 432x288 with 1 Axes>"
      ]
     },
     "metadata": {},
     "output_type": "display_data"
    }
   ],
   "source": [
    "sns.distplot(tweets['text length'], kde=False)"
   ]
  },
  {
   "cell_type": "markdown",
   "metadata": {},
   "source": [
    "A jointplot to show relation of text length and polarity"
   ]
  },
  {
   "cell_type": "code",
   "execution_count": 37,
   "metadata": {},
   "outputs": [
    {
     "data": {
      "text/plain": [
       "<seaborn.axisgrid.JointGrid at 0x7f57e57e16d0>"
      ]
     },
     "execution_count": 37,
     "metadata": {},
     "output_type": "execute_result"
    },
    {
     "data": {
      "image/png": "[encoded data removed]",
      "text/plain": [
       "<Figure size 432x432 with 3 Axes>"
      ]
     },
     "metadata": {},
     "output_type": "display_data"
    }
   ],
   "source": [
    "sns.jointplot(x='polarity', y='text length', data=tweets)"
   ]
  },
  {
   "cell_type": "markdown",
   "metadata": {},
   "source": [
    "Most lengthy(range from 60 to 100) tweets range polarity from -0.25 and 0.25 from the jointplot above  \n",
    "This is roughly around polarity 0, so we wouldn't be wrong to say that most lengthy tweets(in this range) have polarity of 0, or more appealing, around polarity 0  \n",
    "Let's get the mean length of tweets with polarity 0 to see that indeed this length lies in this range(60 to 100)"
   ]
  },
  {
   "cell_type": "code",
   "execution_count": 38,
   "metadata": {},
   "outputs": [
    {
     "data": {
      "text/plain": [
       "62.63667232597623"
      ]
     },
     "execution_count": 38,
     "metadata": {},
     "output_type": "execute_result"
    }
   ],
   "source": [
    "tweets[tweets['polarity']==0]['text length'].mean()"
   ]
  },
  {
   "cell_type": "markdown",
   "metadata": {},
   "source": [
    "To further visualize this fact, let's create the same plot but of hexagonal and regressional nature"
   ]
  },
  {
   "cell_type": "code",
   "execution_count": 39,
   "metadata": {},
   "outputs": [
    {
     "data": {
      "text/plain": [
       "<seaborn.axisgrid.JointGrid at 0x7f57e5398190>"
      ]
     },
     "execution_count": 39,
     "metadata": {},
     "output_type": "execute_result"
    },
    {
     "data": {
      "image/png": "[encoded data removed]",
      "text/plain": [
       "<Figure size 432x432 with 3 Axes>"
      ]
     },
     "metadata": {},
     "output_type": "display_data"
    }
   ],
   "source": [
    "sns.jointplot(x='polarity', y='text length', data=tweets, kind='hex')"
   ]
  },
  {
   "cell_type": "code",
   "execution_count": 40,
   "metadata": {},
   "outputs": [
    {
     "data": {
      "text/plain": [
       "<seaborn.axisgrid.JointGrid at 0x7f57e50fafd0>"
      ]
     },
     "execution_count": 40,
     "metadata": {},
     "output_type": "execute_result"
    },
    {
     "data": {
      "image/png": "[encoded data removed]",
      "text/plain": [
       "<Figure size 432x432 with 3 Axes>"
      ]
     },
     "metadata": {},
     "output_type": "display_data"
    }
   ],
   "source": [
    "sns.jointplot(x='polarity', y='text length', data=tweets, kind='reg')"
   ]
  },
  {
   "cell_type": "markdown",
   "metadata": {},
   "source": [
    "From this jointplot we can clearly see that the kde on the upper side of the plot shows some normal distribution around polarity 0  \n",
    "This justifies our above argument that most lengthy(our range of 'lengthy') tweets have polarity of 0 (or around 0)"
   ]
  },
  {
   "cell_type": "markdown",
   "metadata": {},
   "source": [
    "## Project conclusion\n",
    "\n",
    "Clearly, we have seen that like half of the tweets have polarity of around 0.  \n",
    "Does this mean that when a population is under such fear and anxiety of an epidemic, their messages express no negativity or positivity but are more neutral?"
   ]
  }
 ],
 "metadata": {
  "kernelspec": {
   "display_name": "Python 3",
   "language": "python",
   "name": "python3"
  },
  "language_info": {
   "codemirror_mode": {
    "name": "ipython",
    "version": 3
   },
   "file_extension": ".py",
   "mimetype": "text/x-python",
   "name": "python",
   "nbconvert_exporter": "python",
   "pygments_lexer": "ipython3",
   "version": "3.7.7"
  }
 },
 "nbformat": 4,
 "nbformat_minor": 4
}
